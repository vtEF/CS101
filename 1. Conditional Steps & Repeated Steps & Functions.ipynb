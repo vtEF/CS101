{
 "cells": [
  {
   "cell_type": "markdown",
   "metadata": {},
   "source": [
    "\n",
    "Now we're going to talk about conditional execution.\n",
    "Conditional execution is where we start sort of adding more intelligence.\n",
    "Sequential execution, you just type them in and Python does it.\n",
    "But conditional execution is where you can choose one of two paths.\n",
    "Turn left, or turn right, or go straight.\n",
    "\n",
    "# 1.  Conditional Steps\n",
    "\n",
    "You can make choices and\n",
    "this is an essential part of making computers seem intelligent.\n",
    "And so the key to this is the if statement.\n",
    "So the if statement is the reserved word that indicates that we're going to do\n",
    "something conditionally and it's not that hard to read.\n",
    "\n",
    "<img src=\"files/pics/condstatement.png\">"
   ]
  },
  {
   "cell_type": "code",
   "execution_count": 1,
   "metadata": {},
   "outputs": [
    {
     "name": "stdout",
     "output_type": "stream",
     "text": [
      "Smaller\n",
      "Finis\n"
     ]
    }
   ],
   "source": [
    "x = 5\n",
    "if x < 10:\n",
    "    print(\"Smaller\")\n",
    "if x > 20: \n",
    "    print(\"Bigger\")\n",
    "\n",
    "print(\"Finis\")"
   ]
  },
  {
   "cell_type": "markdown",
   "metadata": {},
   "source": [
    "## Comparison Operators\n",
    "\n",
    "* Boolean expressions ask a question and produce a Yes or No result which we use to control program flow\n",
    "* Boolean expressions using comparison operators evaluate to True / False or Yes / No\n",
    "* Comparison operators look at variables but do not change the variables!\n",
    "\n",
    "| Operator | Operation  |\n",
    "|------|------|\n",
    "|   <  | Less than|\n",
    "|   <=  | Less than or Equal to|\n",
    "|   ==  | Equal to|\n",
    "|   >  | Greater than|\n",
    "|   >=  | Greater than or Equal to|\n",
    "|   !=  | Not Equal to|\n",
    "\n"
   ]
  },
  {
   "cell_type": "code",
   "execution_count": 2,
   "metadata": {},
   "outputs": [
    {
     "name": "stdout",
     "output_type": "stream",
     "text": [
      "Equals 5\n",
      "Greater than 4\n",
      "Greater than or Equals 5\n",
      "Less than 6\n",
      "Less than or Equals 5\n",
      "Not equal 6\n"
     ]
    }
   ],
   "source": [
    "x = 5\n",
    "if x == 5 : \n",
    "    print('Equals 5')\n",
    "if x > 4 : \n",
    "    print('Greater than 4')\n",
    "if  x >= 5 :\n",
    "    print('Greater than or Equals 5')\n",
    "if x < 6 : print('Less than 6') \n",
    "if x <= 5 :\n",
    "    print('Less than or Equals 5')\n",
    "if x != 6 :\n",
    "    print('Not equal 6')\n"
   ]
  },
  {
   "cell_type": "code",
   "execution_count": null,
   "metadata": {},
   "outputs": [],
   "source": [
    "# Exercise \n",
    "# "
   ]
  },
  {
   "cell_type": "markdown",
   "metadata": {},
   "source": [
    "## One-way decisions\n",
    "\n",
    "<img src=\"files/pics/onewayDec.png\">"
   ]
  },
  {
   "cell_type": "code",
   "execution_count": 3,
   "metadata": {},
   "outputs": [
    {
     "name": "stdout",
     "output_type": "stream",
     "text": [
      "Before 5\n",
      "Is 5\n",
      "Is Still 5\n",
      "Third 5\n",
      "Afterwards 5\n",
      "Before 6\n",
      "Afterwards 6\n"
     ]
    }
   ],
   "source": [
    "x = 5\n",
    "print('Before 5')\n",
    "if  x == 5 :\n",
    "    print('Is 5')\n",
    "    print('Is Still 5')\n",
    "    print('Third 5')\n",
    "print('Afterwards 5')\n",
    "print('Before 6')\n",
    "if x == 6 :\n",
    "    print('Is 6')\n",
    "    print('Is Still 6')\n",
    "    print('Third 6')\n",
    "print('Afterwards 6')\n"
   ]
  },
  {
   "cell_type": "markdown",
   "metadata": {},
   "source": [
    "### Indentation\n",
    "\n",
    "* *Increase indent* indent after an *if* statement or *for* statement (after : )\n",
    "* *Maintain indent* to indicate the scope of the block (which lines are affected by the if/for)\n",
    "* Reduce indent back to the level of the if statement or for statement to indicate the end of the block\n",
    "* Blank lines are ignored - they do not affect indentation\n",
    "* Comments on a line by themselves are ignored with regard to indentation\n",
    "\n",
    "\n",
    "increase / maintain after if or for\n",
    "\n",
    "decrease to indicate end of block"
   ]
  },
  {
   "cell_type": "code",
   "execution_count": 4,
   "metadata": {},
   "outputs": [
    {
     "name": "stdout",
     "output_type": "stream",
     "text": [
      "Bigger than 2\n",
      "Still bigger\n",
      "Done with 2\n",
      "0\n",
      "Done with i 0\n",
      "1\n",
      "Done with i 1\n",
      "2\n",
      "Done with i 2\n",
      "3\n",
      "Bigger than 2\n",
      "Done with i 3\n",
      "4\n",
      "Bigger than 2\n",
      "Done with i 4\n",
      "All Done\n"
     ]
    }
   ],
   "source": [
    "x = 5\n",
    "if x > 2 :\n",
    "    print('Bigger than 2')\n",
    "    print('Still bigger')\n",
    "print('Done with 2')\n",
    "\n",
    "for i in range(5) :\n",
    "    print(i)\n",
    "    if i > 2 : \n",
    "        print('Bigger than 2')\n",
    "    print('Done with i', i)\n",
    "print('All Done') \n"
   ]
  },
  {
   "cell_type": "markdown",
   "metadata": {},
   "source": [
    "## Nested decisions\n",
    "\n",
    "<img src=\"files/pics/nestedDec.png\">"
   ]
  },
  {
   "cell_type": "code",
   "execution_count": 5,
   "metadata": {},
   "outputs": [
    {
     "name": "stdout",
     "output_type": "stream",
     "text": [
      "More than one\n",
      "Less than 100\n",
      "All done\n"
     ]
    }
   ],
   "source": [
    "x = 42\n",
    "if x > 1 :\n",
    "    print('More than one')\n",
    "    if x < 100 : \n",
    "        print('Less than 100') \n",
    "print('All done')\n"
   ]
  },
  {
   "cell_type": "markdown",
   "metadata": {},
   "source": [
    "## Two-way Decisions\n",
    "\n",
    "* Sometimes we want to do one thing if a logical expression is true and something else if the expression is false\n",
    "\n",
    "<img src=\"files/pics/twowayDec.png\">"
   ]
  },
  {
   "cell_type": "code",
   "execution_count": 6,
   "metadata": {},
   "outputs": [
    {
     "name": "stdout",
     "output_type": "stream",
     "text": [
      "Bigger\n",
      "All done\n"
     ]
    }
   ],
   "source": [
    "x = 4\n",
    "\n",
    "if x > 2 :\n",
    "    print('Bigger')\n",
    "else :\n",
    "    print('Smaller')\n",
    "\n",
    "print('All done')\n"
   ]
  },
  {
   "cell_type": "markdown",
   "metadata": {},
   "source": [
    "## Multi-way Decisions \n",
    "\n",
    "<img src=\"files/pics/multiwayDec.png\">"
   ]
  },
  {
   "cell_type": "code",
   "execution_count": 7,
   "metadata": {},
   "outputs": [
    {
     "name": "stdout",
     "output_type": "stream",
     "text": [
      "Medium\n",
      "All done\n"
     ]
    }
   ],
   "source": [
    "if x < 2 :\n",
    "    print('small')\n",
    "elif x < 10 :\n",
    "    print('Medium')\n",
    "else :\n",
    "    print('LARGE')\n",
    "print('All done')\n"
   ]
  },
  {
   "cell_type": "markdown",
   "metadata": {},
   "source": [
    "## Try and except structure\n",
    "\n",
    "* You surround a dangerous section of code with __try__ and __except__\n",
    "* If the code in the __try__ works - the __except__ is skipped\n",
    "* If the code in the __try__ fails - it jumps to the __except__ section\n"
   ]
  },
  {
   "cell_type": "code",
   "execution_count": 8,
   "metadata": {},
   "outputs": [
    {
     "name": "stdout",
     "output_type": "stream",
     "text": [
      "First -1\n",
      "Second 123\n"
     ]
    }
   ],
   "source": [
    "astr = 'Hello Bob'\n",
    "# When the first conversion fails - it just drops into the except: \n",
    "# clause and the program continues.\n",
    "\n",
    "try:\n",
    "    istr = int(astr)\n",
    "except:\n",
    "    istr = -1\n",
    "\n",
    "print('First', istr)\n",
    "\n",
    "astr = '123'\n",
    "#When the second conversion succeeds - it just skips the except: \n",
    "# clause and the program continues.\n",
    "\n",
    "try:\n",
    "    istr = int(astr)\n",
    "except:\n",
    "    istr = -1\n",
    "\n",
    "print('Second', istr)\n"
   ]
  },
  {
   "cell_type": "markdown",
   "metadata": {},
   "source": [
    "<img src=\"files/pics/tryexcept.png\">"
   ]
  },
  {
   "cell_type": "code",
   "execution_count": 9,
   "metadata": {},
   "outputs": [
    {
     "name": "stdout",
     "output_type": "stream",
     "text": [
      "Hello\n",
      "Done -1\n"
     ]
    }
   ],
   "source": [
    "astr = 'Bob'\n",
    "try:\n",
    "    print('Hello') \n",
    "    istr = int(astr)\n",
    "    print('There') \n",
    "except:\n",
    "    istr = -1\n",
    "\n",
    "print('Done', istr) \n"
   ]
  },
  {
   "cell_type": "code",
   "execution_count": 10,
   "metadata": {},
   "outputs": [
    {
     "name": "stdout",
     "output_type": "stream",
     "text": [
      "Enter a number:5\n",
      "Nice work\n"
     ]
    }
   ],
   "source": [
    "# Example\n",
    "\n",
    "rawstr = input('Enter a number:')\n",
    "try: \n",
    "    ival = int(rawstr)\n",
    "except: \n",
    "    ival = -1\n",
    "\n",
    "if ival > 0 :  \n",
    "    print('Nice work')\n",
    "else:  \n",
    "    print('Not a number')\n"
   ]
  },
  {
   "cell_type": "markdown",
   "metadata": {},
   "source": [
    "# 2. Repeated steps\n",
    "\n",
    "Loops (repeated steps) have iteration variables that change each time through a loop.  Often these iteration variables go through a sequence of numbers.\n",
    "\n",
    "<img src=\"files/pics/RepeatedSteps.png\">"
   ]
  },
  {
   "cell_type": "code",
   "execution_count": 11,
   "metadata": {},
   "outputs": [
    {
     "name": "stdout",
     "output_type": "stream",
     "text": [
      "5\n",
      "4\n",
      "3\n",
      "2\n",
      "1\n",
      "Blastoff\n"
     ]
    }
   ],
   "source": [
    "n = 5\n",
    "while n > 0:\n",
    "    print(n)\n",
    "    n = n - 1\n",
    "    \n",
    "print(\"Blastoff\")"
   ]
  },
  {
   "cell_type": "markdown",
   "metadata": {},
   "source": [
    "## Loops gone wrong\n",
    "\n",
    "### Infinite Loops\n",
    "\n",
    "Loops (repeated steps) have iteration variables that change each time through a loop.  Often these iteration variables go through a sequence of numbers.\n",
    "\n",
    "<img src=\"files/pics/InfiniteLoop.png\">\n",
    "\n",
    "\n",
    "n = 5\n",
    "while n > 0 :\n",
    "    print('Lather')\n",
    "    print('Rinse')\n",
    "print('Dry off!')\n",
    "\n",
    "### Empty Loops\n",
    "\n",
    "<img src=\"files/pics/AnotherLoop.png\">\n",
    "\n",
    "n = 0\n",
    "\n",
    "while n > 0 :\n",
    "\n",
    "    print('Lather')\n",
    "    \n",
    "    print('Rinse')\n",
    "print('Dry off!')\n",
    "\n",
    "## Breaking Out of a Loop\n",
    "\n",
    "* The __break__ statement ends the current loop and jumps to the statement immediately following the loop\n",
    "* It is like a loop test that can happen anywhere in the body of the loop\n",
    "\n",
    "<img src=\"files/pics/Break.png\">"
   ]
  },
  {
   "cell_type": "code",
   "execution_count": 12,
   "metadata": {},
   "outputs": [
    {
     "name": "stdout",
     "output_type": "stream",
     "text": [
      "> 5\n",
      "5\n",
      "> Done\n",
      "Done\n",
      "> done\n",
      "Done!\n"
     ]
    }
   ],
   "source": [
    "while True:\n",
    "    line = input('> ')\n",
    "    if line == 'done' :\n",
    "        break\n",
    "    print(line)\n",
    "print('Done!')\n"
   ]
  },
  {
   "cell_type": "markdown",
   "metadata": {},
   "source": [
    "## Finishing an Iteration with continue\n",
    "\n",
    "The continue statement ends the current iteration and jumps to the top of the loop and starts the next iteration\n",
    "\n",
    "<img src=\"files/pics/Continue.png\">\n"
   ]
  },
  {
   "cell_type": "code",
   "execution_count": 13,
   "metadata": {},
   "outputs": [
    {
     "name": "stdout",
     "output_type": "stream",
     "text": [
      "> done\n",
      "Done!\n"
     ]
    }
   ],
   "source": [
    "while True:\n",
    "    line = input('> ')\n",
    "    if line[0] == '#' :\n",
    "        continue\n",
    "    if line == 'done' :\n",
    "        break\n",
    "    print(line)\n",
    "print('Done!')\n"
   ]
  },
  {
   "cell_type": "markdown",
   "metadata": {},
   "source": [
    "## Indefinite Loops\n",
    "\n",
    "* While loops are called “indefinite loops” because they keep going until  a logical condition becomes __False__\n",
    "* The loops we have seen so far are pretty easy to examine to see if they will terminate or if they will be “infinite loops”\n",
    "* Sometimes it is a little harder to be sure if a loop will terminate\n",
    "\n",
    "## Definite Loops\n",
    "\n",
    "Iterating over a set of items.\n",
    "\n",
    "* Quite often we have a list of items of the lines in a file - effectively a finite set of things\n",
    "* We can write a loop to run the loop once for each of the items in a set using the Python for construct\n",
    "* These loops are called “definite loops” because they execute an exact number of times\n",
    "* We say that “definite loops iterate through the members of a set”\n"
   ]
  },
  {
   "cell_type": "code",
   "execution_count": 14,
   "metadata": {},
   "outputs": [
    {
     "name": "stdout",
     "output_type": "stream",
     "text": [
      "5\n",
      "4\n",
      "3\n",
      "2\n",
      "1\n",
      "Blastoff!\n"
     ]
    }
   ],
   "source": [
    "# A Single definite loop\n",
    "for i in [5, 4, 3, 2, 1] :\n",
    "    print(i)\n",
    "print('Blastoff!')\n"
   ]
  },
  {
   "cell_type": "code",
   "execution_count": 15,
   "metadata": {},
   "outputs": [
    {
     "name": "stdout",
     "output_type": "stream",
     "text": [
      "Happy New Year: Pratik\n",
      "Happy New Year: Twinkle\n",
      "Happy New Year: Ranjini\n",
      "Happy New Year: Yeswanth\n",
      "Happy New Year: Srinivasulu k\n",
      "Done!\n"
     ]
    }
   ],
   "source": [
    "# A definite loop with strings\n",
    "friends = ['Pratik', 'Twinkle', 'Ranjini', 'Yeswanth', 'Srinivasulu k']\n",
    "for friend in friends : \n",
    "    print('Happy New Year:', friend)\n",
    "print('Done!')\n"
   ]
  },
  {
   "cell_type": "markdown",
   "metadata": {},
   "source": [
    "Definite loops (for loops) have explicit iteration variables that change each time through a loop.  These iteration variables move through the sequence or set. \n",
    "\n",
    "<img src=\"files/pics/Definite.png\">\n",
    "\n",
    "* The __iteration__ variable “iterates” through the sequence (ordered set)\n",
    "* The block (body) of code is executed once for each __value in the sequence__\n",
    "* The iteration variable moves through all of the values in the sequence\n",
    "\n",
    "<img src=\"files/pics/LoopComposed.png\">\n",
    "\n",
    "* The iteration variable “iterates” through the sequence (ordered set)\n",
    "* The block (body) of code is executed once for each value in the sequence\n",
    "* The iteration variable moves through all of the values in the sequence\n",
    "\n",
    "## Loop Idioms: What We Do in Loops\n",
    "\n",
    "Note:   Even though these examples are simple, the patterns apply to all kinds of loops!\n",
    "\n",
    "### Making \"smart\" loops \n",
    "\n",
    "The trick is “knowing” something about the whole loop when you are stuck writing code that only sees one entry at a time\n",
    "\n",
    "<img src=\"files/pics/SmartLoop.png\">\n"
   ]
  },
  {
   "cell_type": "code",
   "execution_count": 16,
   "metadata": {},
   "outputs": [
    {
     "name": "stdout",
     "output_type": "stream",
     "text": [
      "Before\n",
      "9\n",
      "41\n",
      "12\n",
      "3\n",
      "74\n",
      "15\n",
      "After\n"
     ]
    }
   ],
   "source": [
    "print('Before')\n",
    "for thing in [9, 41, 12, 3, 74, 15] :\n",
    "     print(thing)\n",
    "print('After')\n"
   ]
  },
  {
   "cell_type": "markdown",
   "metadata": {},
   "source": [
    "## Application of Loops \n",
    "\n",
    "### Finding the Largest Value\n"
   ]
  },
  {
   "cell_type": "code",
   "execution_count": null,
   "metadata": {},
   "outputs": [],
   "source": []
  },
  {
   "cell_type": "markdown",
   "metadata": {},
   "source": [
    "We make a variable that contains the largest value we have seen so far. If the current number we are looking at is larger, it is the new largest value we have seen so far.\n",
    "\n",
    "### Counting in a Loop\n",
    "\n",
    "To count how many times we execute a loop, we introduce a counter variable that starts at 0 and we add one to it each time through the loop."
   ]
  },
  {
   "cell_type": "code",
   "execution_count": null,
   "metadata": {},
   "outputs": [],
   "source": []
  },
  {
   "cell_type": "markdown",
   "metadata": {},
   "source": [
    "### Summing in a Loop\n",
    "\n",
    "To add up a value we encounter in a loop,  we introduce a sum variable that starts at 0 and we add the value to the sum each time through the loop."
   ]
  },
  {
   "cell_type": "code",
   "execution_count": 19,
   "metadata": {},
   "outputs": [
    {
     "name": "stdout",
     "output_type": "stream",
     "text": [
      "Before 0\n",
      "9 9\n",
      "50 41\n",
      "62 12\n",
      "65 3\n",
      "139 74\n",
      "154 15\n",
      "After 154\n"
     ]
    }
   ],
   "source": []
  },
  {
   "cell_type": "markdown",
   "metadata": {},
   "source": [
    "### Finding the Average in a Loop\n",
    "\n",
    "An average just combines the counting and sum patterns and divides when the loop is done"
   ]
  },
  {
   "cell_type": "code",
   "execution_count": null,
   "metadata": {},
   "outputs": [],
   "source": []
  },
  {
   "cell_type": "markdown",
   "metadata": {},
   "source": [
    "### Filtering in a Loop\n",
    "\n",
    "We use an if statement in the loop to catch / filter the values we are looking for."
   ]
  },
  {
   "cell_type": "code",
   "execution_count": null,
   "metadata": {},
   "outputs": [],
   "source": []
  },
  {
   "cell_type": "markdown",
   "metadata": {},
   "source": [
    "### Search Using a Boolean Variable\n",
    "\n",
    "If we just want to search and know if a value was found, we use a variable that starts at False and is set to True as soon as we find what we are looking for."
   ]
  },
  {
   "cell_type": "code",
   "execution_count": null,
   "metadata": {},
   "outputs": [],
   "source": []
  },
  {
   "cell_type": "markdown",
   "metadata": {},
   "source": [
    "### How to Find the Smallest Value\n",
    "\n",
    "How would we change this to make it find the smallest value in the list?\n",
    "\n",
    "We still have a variable that is the smallest so far.  The first time through the loop smallest is None, so we take the first value to be the smallest."
   ]
  },
  {
   "cell_type": "code",
   "execution_count": null,
   "metadata": {},
   "outputs": [],
   "source": []
  },
  {
   "cell_type": "markdown",
   "metadata": {},
   "source": [
    "### The is and is not Operators\n",
    "\n",
    "* Python has an is operator that can be used in logical expressions\n",
    "* Implies “is the same as”\n",
    "* Similar to, but stronger than ==\n",
    "* is not  also is a logical operator\n",
    "\n"
   ]
  },
  {
   "cell_type": "code",
   "execution_count": 24,
   "metadata": {},
   "outputs": [
    {
     "name": "stdout",
     "output_type": "stream",
     "text": [
      "Before\n",
      "3 3\n",
      "3 41\n",
      "3 12\n",
      "3 9\n",
      "3 74\n",
      "3 15\n",
      "After 3\n"
     ]
    }
   ],
   "source": [
    "smallest = None\n",
    "print('Before')\n",
    "for value in [3, 41, 12, 9, 74, 15] :\n",
    "    if smallest is None : \n",
    "        smallest = value\n",
    "    elif value < smallest : \n",
    "        smallest = value\n",
    "    print(smallest, value)\n",
    "\n",
    "print('After', smallest)\n"
   ]
  },
  {
   "cell_type": "markdown",
   "metadata": {},
   "source": [
    "# Functions \n",
    "\n",
    "There are two kinds of functions in Python.\n",
    "-  Built-in functions that are provided as part of Python - print(), input(), type(), float(), int() ...\n",
    "-  Functions that we define ourselves and then use\n",
    "We treat the built-in function names as “new” reserved words \u000b",
    "(i.e., we avoid them as variable names)\n",
    "\n",
    "## Function definition \n",
    "\n",
    "* In Python a function is some reusable code that takes arguments(s) as input, does some computation, and then returns a result or results\n",
    "* We define a function using the def reserved word\n",
    "* We call/invoke the function by using the function name, parentheses, and arguments in an expression \n",
    "\n"
   ]
  },
  {
   "cell_type": "code",
   "execution_count": 25,
   "metadata": {},
   "outputs": [
    {
     "name": "stdout",
     "output_type": "stream",
     "text": [
      "w\n"
     ]
    }
   ],
   "source": [
    "big = max('Hello world')\n",
    "print(big)"
   ]
  },
  {
   "cell_type": "code",
   "execution_count": 26,
   "metadata": {},
   "outputs": [
    {
     "name": "stdout",
     "output_type": "stream",
     "text": [
      " \n"
     ]
    }
   ],
   "source": [
    "tiny = min('Hello world')\n",
    "print(tiny)"
   ]
  },
  {
   "cell_type": "markdown",
   "metadata": {},
   "source": [
    "A function is some stored code that we use. A function takes some input and produces an output.\n",
    "\n",
    "<img src=\"files/pics/maxFunc.png\">\n",
    "<img src=\"files/pics/maxFuncDet.png\">\n",
    "\n",
    "## Building our Own Functions\n",
    "\n",
    "* We create a new function using the __def__ keyword followed by optional parameters in parentheses\n",
    "* We indent the body of the function\n",
    "* This defines the function but does not execute the body of the function"
   ]
  },
  {
   "cell_type": "code",
   "execution_count": 27,
   "metadata": {},
   "outputs": [
    {
     "name": "stdout",
     "output_type": "stream",
     "text": [
      "Hello\n",
      "Yo\n",
      "7\n"
     ]
    }
   ],
   "source": [
    "x = 5\n",
    "print('Hello')\n",
    "\n",
    "def print_thoughts():\n",
    "    print(\"I think Python is fairly nice\")\n",
    "\n",
    "print('Yo')\n",
    "x = x + 2\n",
    "print(x)\n"
   ]
  },
  {
   "cell_type": "markdown",
   "metadata": {},
   "source": [
    "Nothing happens, because after you have defined the function, you need to call it.\n",
    "\n",
    "### Arguments\n",
    "\n",
    "* An argument is a value we pass into the function as its input when we call the function\n",
    "* We use arguments so we can direct the function to do different kinds of work when we call it at different times\n",
    "* We put the arguments in parentheses after the name of the function\n",
    "\n",
    "### Parameters\n",
    "\n",
    "A parameter is a variable which we use in the function definition.  It is a “handle” that allows the code in the function to access the arguments for a particular function invocation."
   ]
  },
  {
   "cell_type": "code",
   "execution_count": 28,
   "metadata": {},
   "outputs": [],
   "source": [
    "def greet(lang):\n",
    "    if lang == 'es':\n",
    "        print('Hola')\n",
    "    elif lang == 'fr':\n",
    "        print('Bonjour')\n",
    "    else:\n",
    "        print('Hello')"
   ]
  },
  {
   "cell_type": "code",
   "execution_count": 29,
   "metadata": {},
   "outputs": [
    {
     "name": "stdout",
     "output_type": "stream",
     "text": [
      "Hello\n"
     ]
    }
   ],
   "source": [
    "greet(\"en\")"
   ]
  },
  {
   "cell_type": "code",
   "execution_count": 30,
   "metadata": {},
   "outputs": [
    {
     "name": "stdout",
     "output_type": "stream",
     "text": [
      "Bonjour\n"
     ]
    }
   ],
   "source": [
    "greet(\"fr\")"
   ]
  },
  {
   "cell_type": "markdown",
   "metadata": {},
   "source": [
    "### Return values\n",
    "\n",
    "Often a function will take its arguments, do some computation, and return a value to be used as the value of the function call in the calling expression.  The __return__ keyword is used for this.\n"
   ]
  },
  {
   "cell_type": "code",
   "execution_count": 31,
   "metadata": {},
   "outputs": [
    {
     "name": "stdout",
     "output_type": "stream",
     "text": [
      "Hello Vasilis\n"
     ]
    }
   ],
   "source": [
    "def greet():\n",
    "    return \"Hello\"\n",
    "\n",
    "print(greet(), \"Vasilis\")\n"
   ]
  },
  {
   "cell_type": "markdown",
   "metadata": {},
   "source": [
    "* A “fruitful” function is one that produces a result (or return value)\n",
    "* The return statement ends the function execution and “sends back” the result of the function\n"
   ]
  },
  {
   "cell_type": "code",
   "execution_count": 32,
   "metadata": {},
   "outputs": [
    {
     "name": "stdout",
     "output_type": "stream",
     "text": [
      "Hallo Urs\n",
      "Namaste Vasilis\n",
      "Hello Goodbye\n"
     ]
    }
   ],
   "source": [
    "def greet(lang):\n",
    "    if lang == 'de':\n",
    "        return 'Hallo'\n",
    "    elif lang == 'in':\n",
    "        return 'Namaste'\n",
    "    else:\n",
    "        return 'Hello'\n",
    "\n",
    "print(greet('de'),'Urs')\n",
    "print(greet('in'),'Vasilis')\n",
    "print(greet('en'),'Goodbye')\n"
   ]
  },
  {
   "cell_type": "markdown",
   "metadata": {},
   "source": [
    "We can define more than one __parameter__ in the function definition"
   ]
  },
  {
   "cell_type": "code",
   "execution_count": 33,
   "metadata": {},
   "outputs": [],
   "source": [
    "def addtwo(a, b):\n",
    "    added = a + b\n",
    "    return added"
   ]
  },
  {
   "cell_type": "markdown",
   "metadata": {},
   "source": [
    "We simply add more __arguments__ when we call the function"
   ]
  },
  {
   "cell_type": "code",
   "execution_count": 34,
   "metadata": {},
   "outputs": [
    {
     "name": "stdout",
     "output_type": "stream",
     "text": [
      "8\n"
     ]
    }
   ],
   "source": [
    "x = addtwo(3, 5)\n",
    "print(x)"
   ]
  },
  {
   "cell_type": "markdown",
   "metadata": {},
   "source": [
    "We match the number and order of arguments and parameters\n",
    "\n",
    "### Void functions\n",
    "\n",
    "* When a function does not return a value, we call it a “void” function\n",
    "* Functions that return values are “fruitful” functions\n",
    "* Void functions are “not fruitful” (absolutely useless)\n",
    "\n",
    "### Why do we use functions?\n",
    "\n",
    "* Organize your code into “paragraphs” - capture a complete thought and “name it”\n",
    "* Don’t repeat yourself - make it work once and then reuse it\n",
    "* If something gets too long or complex, break it up into logical chunks and put those chunks in functions\n",
    "* Make a library of common stuff that you do over and over - perhaps share this with your colleagues and friends.\n",
    "\n",
    "### Proper Structure of a function\n",
    "\n",
    "Why is that the proper way to write it? Because we want to write clean production code that we share with other people :).\n",
    "Nobody has time to figure out what the programmer was thinking while he was writing the function. It is also reccomended to split your scripts into many files when they exceed 200 lines. "
   ]
  },
  {
   "cell_type": "code",
   "execution_count": 45,
   "metadata": {},
   "outputs": [],
   "source": [
    "def proper_function(num1, num2):\n",
    "    \"\"\"This function that adds two numbers\n",
    "    Args:\n",
    "    \n",
    "        num1: this is the first number\n",
    "        num2: this is the second argument\n",
    "    \n",
    "    Returns:\n",
    "        addition: The addition between those two numbers\n",
    "        \n",
    "    \"\"\"\n",
    "    return num1 + num2"
   ]
  },
  {
   "cell_type": "markdown",
   "metadata": {},
   "source": [
    "Even if this function comes from a different file, you can call the following attribute of the function and see what it does"
   ]
  },
  {
   "cell_type": "code",
   "execution_count": 47,
   "metadata": {},
   "outputs": [
    {
     "name": "stdout",
     "output_type": "stream",
     "text": [
      "This function that adds two numbers\n",
      "    Args:\n",
      "        num1: this is the first number\n",
      "        num2: this is the second argument\n",
      "    \n",
      "    Returns:\n",
      "        addition: The addition between those two numbers\n",
      "        \n",
      "    \n"
     ]
    }
   ],
   "source": [
    "print(proper_function.__doc__)"
   ]
  },
  {
   "cell_type": "code",
   "execution_count": null,
   "metadata": {},
   "outputs": [],
   "source": []
  },
  {
   "cell_type": "markdown",
   "metadata": {},
   "source": [
    "## Lambda functions \n",
    "\n",
    "A lambda operator or lambda function is used for creating small, one-time, anonymous function objects in Python.\n",
    "\n",
    "### Basic Syntax\n",
    "\n"
   ]
  },
  {
   "cell_type": "code",
   "execution_count": 37,
   "metadata": {},
   "outputs": [
    {
     "data": {
      "text/plain": [
       "<function __main__.<lambda>(arguments)>"
      ]
     },
     "execution_count": 37,
     "metadata": {},
     "output_type": "execute_result"
    }
   ],
   "source": [
    "lambda arguments : expression\n"
   ]
  },
  {
   "cell_type": "markdown",
   "metadata": {},
   "source": [
    "A lambda operator can have any number of arguments but can have only one expression. It cannot contain any statements and returns a function object which can be assigned to any variable.\n",
    "\n",
    "#### Example\n",
    "Let’s look at a function in Python:\n"
   ]
  },
  {
   "cell_type": "code",
   "execution_count": 38,
   "metadata": {},
   "outputs": [
    {
     "data": {
      "text/plain": [
       "5"
      ]
     },
     "execution_count": 38,
     "metadata": {},
     "output_type": "execute_result"
    }
   ],
   "source": [
    "def add(x, y): \n",
    "    return x + y\n",
    "  \n",
    "# Call the function\n",
    "add(2, 3)  # Output: 5"
   ]
  },
  {
   "cell_type": "markdown",
   "metadata": {},
   "source": [
    "The above function name is add, it expects two arguments x and y and returns their sum.\n",
    "Let’s see how we can convert the above function into a lambda function:"
   ]
  },
  {
   "cell_type": "code",
   "execution_count": 39,
   "metadata": {},
   "outputs": [
    {
     "name": "stdout",
     "output_type": "stream",
     "text": [
      "5\n"
     ]
    }
   ],
   "source": [
    "add = lambda x, y : x + y \n",
    "  \n",
    "print(add(2, 3)) # Output: 5"
   ]
  },
  {
   "cell_type": "markdown",
   "metadata": {},
   "source": [
    "In lambda `x, y: x + y;x` and `y` are arguments to the function and `x + y` is the expression which gets executed and its values are returned as output.\n",
    "\n",
    "`lambda x, y: x + y` returns a function object which can be assigned to any variable, in this case function object is assigned to the add variable.\n"
   ]
  },
  {
   "cell_type": "code",
   "execution_count": 40,
   "metadata": {},
   "outputs": [
    {
     "data": {
      "text/plain": [
       "function"
      ]
     },
     "execution_count": 40,
     "metadata": {},
     "output_type": "execute_result"
    }
   ],
   "source": [
    "type (add) # Output: function\n"
   ]
  },
  {
   "cell_type": "markdown",
   "metadata": {},
   "source": [
    "If we check the type of add, it is a function.\n",
    "\n",
    "Most importantly, lambda functions are passed as parameters to a function which expects a function object as a parameter such as map, reduce, and filter functions.\n",
    "\n",
    "### Map\n",
    "#### Basic Syntax\n",
    "\n",
    "`map(function_object, iterable1, iterable2,...)`\n",
    "\n",
    "map functions expect a function object and any number of iterables, such as list, dictionary, etc. It executes the function_object for each element in the sequence and returns a list of the elements modified by the function object.\n"
   ]
  },
  {
   "cell_type": "code",
   "execution_count": 41,
   "metadata": {},
   "outputs": [],
   "source": [
    "my_list = [x for x in range(100000000)]"
   ]
  },
  {
   "cell_type": "code",
   "execution_count": 42,
   "metadata": {},
   "outputs": [
    {
     "data": {
      "text/plain": [
       "100000000"
      ]
     },
     "execution_count": 42,
     "metadata": {},
     "output_type": "execute_result"
    }
   ],
   "source": [
    "len(my_list)"
   ]
  },
  {
   "cell_type": "code",
   "execution_count": 43,
   "metadata": {},
   "outputs": [
    {
     "name": "stdout",
     "output_type": "stream",
     "text": [
      "-1 day, 23:59:50.584946\n"
     ]
    }
   ],
   "source": [
    "import datetime\n",
    "start = datetime.datetime.now()\n",
    "for i in my_list:\n",
    "    i *= i\n",
    "end = datetime.datetime.now()\n",
    "print(start - end)"
   ]
  },
  {
   "cell_type": "code",
   "execution_count": null,
   "metadata": {},
   "outputs": [],
   "source": []
  }
 ],
 "metadata": {
  "kernelspec": {
   "display_name": "Python 3",
   "language": "python",
   "name": "python3"
  },
  "language_info": {
   "codemirror_mode": {
    "name": "ipython",
    "version": 3
   },
   "file_extension": ".py",
   "mimetype": "text/x-python",
   "name": "python",
   "nbconvert_exporter": "python",
   "pygments_lexer": "ipython3",
   "version": "3.7.3"
  }
 },
 "nbformat": 4,
 "nbformat_minor": 2
}
