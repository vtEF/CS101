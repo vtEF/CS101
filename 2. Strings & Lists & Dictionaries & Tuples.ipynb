{
 "cells": [
  {
   "cell_type": "markdown",
   "metadata": {},
   "source": [
    "# 1. String Data Type\n",
    "* A string is a sequence of characters. \n",
    "* A string literal uses single quotes  or double quotes\n"
   ]
  },
  {
   "cell_type": "code",
   "execution_count": 1,
   "metadata": {},
   "outputs": [
    {
     "name": "stdout",
     "output_type": "stream",
     "text": [
      "Hello\n",
      "There\n"
     ]
    }
   ],
   "source": [
    "str1 = 'Hello'\n",
    "str2 = \"There\"\n",
    "print(str1)\n",
    "print(str2)"
   ]
  },
  {
   "cell_type": "code",
   "execution_count": 2,
   "metadata": {},
   "outputs": [
    {
     "name": "stdout",
     "output_type": "stream",
     "text": [
      "HelloThere\n"
     ]
    }
   ],
   "source": [
    "# For strings, + means “concatenate”\n",
    "conc = str1 + str2\n",
    "print(conc)"
   ]
  },
  {
   "cell_type": "code",
   "execution_count": 3,
   "metadata": {},
   "outputs": [
    {
     "ename": "TypeError",
     "evalue": "can only concatenate str (not \"int\") to str",
     "output_type": "error",
     "traceback": [
      "\u001b[1;31m---------------------------------------------------------------------------\u001b[0m",
      "\u001b[1;31mTypeError\u001b[0m                                 Traceback (most recent call last)",
      "\u001b[1;32m<ipython-input-3-556cff7ca85f>\u001b[0m in \u001b[0;36m<module>\u001b[1;34m\u001b[0m\n\u001b[0;32m      1\u001b[0m \u001b[1;31m# When a string contains numbers, it is still a string\u001b[0m\u001b[1;33m\u001b[0m\u001b[1;33m\u001b[0m\u001b[1;33m\u001b[0m\u001b[0m\n\u001b[0;32m      2\u001b[0m \u001b[0mstr3\u001b[0m \u001b[1;33m=\u001b[0m \u001b[1;34m'123'\u001b[0m\u001b[1;33m\u001b[0m\u001b[1;33m\u001b[0m\u001b[0m\n\u001b[1;32m----> 3\u001b[1;33m \u001b[0mstr3\u001b[0m \u001b[1;33m+\u001b[0m \u001b[1;36m1\u001b[0m\u001b[1;33m\u001b[0m\u001b[1;33m\u001b[0m\u001b[0m\n\u001b[0m",
      "\u001b[1;31mTypeError\u001b[0m: can only concatenate str (not \"int\") to str"
     ]
    }
   ],
   "source": [
    "# When a string contains numbers, it is still a string\n",
    "str3 = '123'\n",
    "str3 + 1\n",
    "print(str3 + str1)"
   ]
  },
  {
   "cell_type": "code",
   "execution_count": 5,
   "metadata": {},
   "outputs": [
    {
     "data": {
      "text/plain": [
       "124"
      ]
     },
     "execution_count": 5,
     "metadata": {},
     "output_type": "execute_result"
    }
   ],
   "source": [
    "# We can convert numbers in a string into a number using int()\n",
    "int(str3) + 1     "
   ]
  },
  {
   "cell_type": "code",
   "execution_count": 6,
   "metadata": {},
   "outputs": [
    {
     "name": "stdout",
     "output_type": "stream",
     "text": [
      "Enter:Vasilis\n"
     ]
    }
   ],
   "source": [
    "## Reading and converting\n",
    "\n",
    "# We prefer to read data in using strings and then parse and convert the data as we need\n",
    "name = str(input('Enter:'))\n"
   ]
  },
  {
   "cell_type": "code",
   "execution_count": 7,
   "metadata": {},
   "outputs": [
    {
     "name": "stdout",
     "output_type": "stream",
     "text": [
      "Vasilis\n"
     ]
    }
   ],
   "source": [
    "print(name)"
   ]
  },
  {
   "cell_type": "code",
   "execution_count": 9,
   "metadata": {},
   "outputs": [
    {
     "name": "stdout",
     "output_type": "stream",
     "text": [
      "Enter a number:10\n",
      "0\n"
     ]
    }
   ],
   "source": [
    "number = input('Enter a number:')\n",
    "x = int(number) - 10\n",
    "print(x)"
   ]
  },
  {
   "cell_type": "markdown",
   "metadata": {},
   "source": [
    "### Looking inside the strings\n",
    "\n",
    "* We can get at any single character in a string using an index specified in square brackets\n",
    "* The index value must be an integer and starts at zero"
   ]
  },
  {
   "cell_type": "code",
   "execution_count": 10,
   "metadata": {},
   "outputs": [
    {
     "data": {
      "text/plain": [
       "'a'"
      ]
     },
     "execution_count": 10,
     "metadata": {},
     "output_type": "execute_result"
    }
   ],
   "source": [
    "name = \"Vasilis\"\n",
    "name[1]"
   ]
  },
  {
   "cell_type": "markdown",
   "metadata": {},
   "source": [
    "* The index value can be an expression that is computed"
   ]
  },
  {
   "cell_type": "code",
   "execution_count": 11,
   "metadata": {},
   "outputs": [
    {
     "name": "stdout",
     "output_type": "stream",
     "text": [
      "s\n"
     ]
    }
   ],
   "source": [
    "x = 3\n",
    "w = name[x - 1]\n",
    "print(w)"
   ]
  },
  {
   "cell_type": "markdown",
   "metadata": {},
   "source": [
    "* You will get a python error if you attempt to index beyond the end of a string\n",
    "* So be careful when constructing index values and slices"
   ]
  },
  {
   "cell_type": "code",
   "execution_count": 12,
   "metadata": {},
   "outputs": [
    {
     "ename": "IndexError",
     "evalue": "string index out of range",
     "output_type": "error",
     "traceback": [
      "\u001b[1;31m---------------------------------------------------------------------------\u001b[0m",
      "\u001b[1;31mIndexError\u001b[0m                                Traceback (most recent call last)",
      "\u001b[1;32m<ipython-input-12-7c4fa4b06762>\u001b[0m in \u001b[0;36m<module>\u001b[1;34m\u001b[0m\n\u001b[1;32m----> 1\u001b[1;33m \u001b[0mprint\u001b[0m\u001b[1;33m(\u001b[0m\u001b[0mname\u001b[0m\u001b[1;33m[\u001b[0m\u001b[1;36m7\u001b[0m\u001b[1;33m]\u001b[0m\u001b[1;33m)\u001b[0m\u001b[1;33m\u001b[0m\u001b[1;33m\u001b[0m\u001b[0m\n\u001b[0m",
      "\u001b[1;31mIndexError\u001b[0m: string index out of range"
     ]
    }
   ],
   "source": [
    "print(name[7])"
   ]
  },
  {
   "cell_type": "markdown",
   "metadata": {},
   "source": [
    "###  Strings Have Length\n",
    "\n",
    "* The built-in function len gives us the length of a string"
   ]
  },
  {
   "cell_type": "code",
   "execution_count": 14,
   "metadata": {},
   "outputs": [
    {
     "data": {
      "text/plain": [
       "7"
      ]
     },
     "execution_count": 14,
     "metadata": {},
     "output_type": "execute_result"
    }
   ],
   "source": [
    "len(name)"
   ]
  },
  {
   "cell_type": "markdown",
   "metadata": {},
   "source": [
    "### Looping through strings\n",
    "\n",
    "* Using a while statement (indefinite loop), an iteration variable, and the len function, we can construct a loop to look at each of the letters in a string individually\n",
    "\n"
   ]
  },
  {
   "cell_type": "code",
   "execution_count": 15,
   "metadata": {},
   "outputs": [
    {
     "name": "stdout",
     "output_type": "stream",
     "text": [
      "0 V\n",
      "1 a\n",
      "2 s\n",
      "3 i\n",
      "4 l\n",
      "5 i\n",
      "6 s\n"
     ]
    }
   ],
   "source": [
    "index = 0\n",
    "while index < len(name):\n",
    "    letter = name[index]\n",
    "    print(index, letter)\n",
    "    index = index + 1\n"
   ]
  },
  {
   "cell_type": "markdown",
   "metadata": {},
   "source": [
    "* Using a for statement (definite loop) is much more elegant. \n",
    "* The iteration variable is completely taken of by the for loop\n"
   ]
  },
  {
   "cell_type": "code",
   "execution_count": 16,
   "metadata": {},
   "outputs": [
    {
     "name": "stdout",
     "output_type": "stream",
     "text": [
      "V\n",
      "a\n",
      "s\n",
      "i\n",
      "l\n",
      "i\n",
      "s\n"
     ]
    }
   ],
   "source": [
    "for letter in name:\n",
    "    print(letter)"
   ]
  },
  {
   "cell_type": "markdown",
   "metadata": {},
   "source": [
    "### Looking deeper into *in*\n",
    "\n",
    "* The iteration variable iterates through the sequence\n",
    "* The block of code is executed once for each value in the sequence\n",
    "* The iteration variable moves through all of the values in the sequence\n",
    "\n",
    "<img src=\"files/pics/forString.png\">"
   ]
  },
  {
   "cell_type": "markdown",
   "metadata": {},
   "source": [
    "## String Operations \n",
    "\n",
    "### Slicing Strings"
   ]
  },
  {
   "cell_type": "code",
   "execution_count": 17,
   "metadata": {},
   "outputs": [
    {
     "name": "stdout",
     "output_type": "stream",
     "text": [
      "Vasi\n"
     ]
    }
   ],
   "source": [
    "# We can also look at my continuous section of a string closing a colon operator\n",
    "name = \"Vasilis Tsakalos\"\n",
    "print(name[0:4])"
   ]
  },
  {
   "cell_type": "code",
   "execution_count": 18,
   "metadata": {},
   "outputs": [
    {
     "name": "stdout",
     "output_type": "stream",
     "text": [
      "s\n"
     ]
    }
   ],
   "source": [
    "# The second number is one beyond the end of the slice\n",
    "print(name[6:7])"
   ]
  },
  {
   "cell_type": "code",
   "execution_count": 19,
   "metadata": {},
   "outputs": [
    {
     "name": "stdout",
     "output_type": "stream",
     "text": [
      "is Tsakalos\n"
     ]
    }
   ],
   "source": [
    "# If the second number is beyond the end of the string, it stops at the end\n",
    "print(name[5:25])"
   ]
  },
  {
   "cell_type": "code",
   "execution_count": 20,
   "metadata": {},
   "outputs": [
    {
     "name": "stdout",
     "output_type": "stream",
     "text": [
      "Vasil\n"
     ]
    }
   ],
   "source": [
    "# If we leave off the first number or the last number of the slice, it is\n",
    "# assumed to be the beginning or end of the string respectively\n",
    "print(name[:5])"
   ]
  },
  {
   "cell_type": "code",
   "execution_count": 21,
   "metadata": {},
   "outputs": [
    {
     "name": "stdout",
     "output_type": "stream",
     "text": [
      "akalos\n"
     ]
    }
   ],
   "source": [
    "print(name[10:])"
   ]
  },
  {
   "cell_type": "code",
   "execution_count": 22,
   "metadata": {},
   "outputs": [
    {
     "name": "stdout",
     "output_type": "stream",
     "text": [
      "Vasilis Tsakalos\n"
     ]
    }
   ],
   "source": [
    "print(name[:])"
   ]
  },
  {
   "cell_type": "markdown",
   "metadata": {},
   "source": [
    "### String Concatenation"
   ]
  },
  {
   "cell_type": "code",
   "execution_count": 23,
   "metadata": {},
   "outputs": [
    {
     "name": "stdout",
     "output_type": "stream",
     "text": [
      "HelloThere\n",
      "Hello There\n"
     ]
    }
   ],
   "source": [
    "a = \"Hello\"\n",
    "b = a + \"There\"\n",
    "print(b)\n",
    "c = a + \" \" + \"There\"\n",
    "print(c)"
   ]
  },
  {
   "cell_type": "markdown",
   "metadata": {},
   "source": [
    "### Using in as a Logical Operator"
   ]
  },
  {
   "cell_type": "code",
   "execution_count": 24,
   "metadata": {},
   "outputs": [
    {
     "data": {
      "text/plain": [
       "True"
      ]
     },
     "execution_count": 24,
     "metadata": {},
     "output_type": "execute_result"
    }
   ],
   "source": [
    "# The in keyword can also be used to check to see if one string is \"in\" another string\n",
    "\"Vasilis\" in name"
   ]
  },
  {
   "cell_type": "code",
   "execution_count": 25,
   "metadata": {},
   "outputs": [
    {
     "data": {
      "text/plain": [
       "False"
      ]
     },
     "execution_count": 25,
     "metadata": {},
     "output_type": "execute_result"
    }
   ],
   "source": [
    "\"Vaslis\" in name"
   ]
  },
  {
   "cell_type": "code",
   "execution_count": 26,
   "metadata": {},
   "outputs": [
    {
     "data": {
      "text/plain": [
       "True"
      ]
     },
     "execution_count": 26,
     "metadata": {},
     "output_type": "execute_result"
    }
   ],
   "source": [
    "\"V\" in name"
   ]
  },
  {
   "cell_type": "code",
   "execution_count": 27,
   "metadata": {},
   "outputs": [
    {
     "data": {
      "text/plain": [
       "False"
      ]
     },
     "execution_count": 27,
     "metadata": {},
     "output_type": "execute_result"
    }
   ],
   "source": [
    "\"W\" in name"
   ]
  },
  {
   "cell_type": "markdown",
   "metadata": {},
   "source": [
    "### String comparison"
   ]
  },
  {
   "cell_type": "code",
   "execution_count": 28,
   "metadata": {},
   "outputs": [],
   "source": [
    "FirstName = \"Vas\"\n",
    "if FirstName == \"Vasilis\":\n",
    "    print(\"your first name is: Vasilis\")"
   ]
  },
  {
   "cell_type": "code",
   "execution_count": 29,
   "metadata": {},
   "outputs": [
    {
     "name": "stdout",
     "output_type": "stream",
     "text": [
      "your first name comes before Vasilis\n"
     ]
    }
   ],
   "source": [
    "if FirstName < \"Vasilis\":\n",
    "    print (\"your first name comes before Vasilis\")\n",
    "elif FirstName > \"Vasilis\":\n",
    "    print(\"your first name comes after Vasilis.\")\n",
    "else:\n",
    "    print(\"No luck on comparing your first name with Vasilis\")"
   ]
  },
  {
   "cell_type": "code",
   "execution_count": 30,
   "metadata": {},
   "outputs": [
    {
     "data": {
      "text/plain": [
       "True"
      ]
     },
     "execution_count": 30,
     "metadata": {},
     "output_type": "execute_result"
    }
   ],
   "source": [
    "FirstName < \"Vasi\""
   ]
  },
  {
   "cell_type": "markdown",
   "metadata": {},
   "source": [
    "## String library\n",
    "\n",
    "* Python has a number of string functions which are in the string library\n",
    "* These functions are already built into every string - we invoke them by appending the function to the string variable\n",
    "* These functions do not modify the original string, instead they return a new string that has been altered"
   ]
  },
  {
   "cell_type": "code",
   "execution_count": 31,
   "metadata": {},
   "outputs": [
    {
     "name": "stdout",
     "output_type": "stream",
     "text": [
      "Hello Vasilis\n",
      "hello vasilis\n",
      "HELLO VASILIS\n"
     ]
    }
   ],
   "source": [
    "greet = \"Hello Vasilis\"\n",
    "greetLower = greet.lower()\n",
    "greetUpper = greet.upper()\n",
    "print(greet)\n",
    "print(greetLower)\n",
    "print(greetUpper)"
   ]
  },
  {
   "cell_type": "code",
   "execution_count": 32,
   "metadata": {},
   "outputs": [
    {
     "data": {
      "text/plain": [
       "['__add__',\n",
       " '__class__',\n",
       " '__contains__',\n",
       " '__delattr__',\n",
       " '__dir__',\n",
       " '__doc__',\n",
       " '__eq__',\n",
       " '__format__',\n",
       " '__ge__',\n",
       " '__getattribute__',\n",
       " '__getitem__',\n",
       " '__getnewargs__',\n",
       " '__gt__',\n",
       " '__hash__',\n",
       " '__init__',\n",
       " '__init_subclass__',\n",
       " '__iter__',\n",
       " '__le__',\n",
       " '__len__',\n",
       " '__lt__',\n",
       " '__mod__',\n",
       " '__mul__',\n",
       " '__ne__',\n",
       " '__new__',\n",
       " '__reduce__',\n",
       " '__reduce_ex__',\n",
       " '__repr__',\n",
       " '__rmod__',\n",
       " '__rmul__',\n",
       " '__setattr__',\n",
       " '__sizeof__',\n",
       " '__str__',\n",
       " '__subclasshook__',\n",
       " 'capitalize',\n",
       " 'casefold',\n",
       " 'center',\n",
       " 'count',\n",
       " 'encode',\n",
       " 'endswith',\n",
       " 'expandtabs',\n",
       " 'find',\n",
       " 'format',\n",
       " 'format_map',\n",
       " 'index',\n",
       " 'isalnum',\n",
       " 'isalpha',\n",
       " 'isascii',\n",
       " 'isdecimal',\n",
       " 'isdigit',\n",
       " 'isidentifier',\n",
       " 'islower',\n",
       " 'isnumeric',\n",
       " 'isprintable',\n",
       " 'isspace',\n",
       " 'istitle',\n",
       " 'isupper',\n",
       " 'join',\n",
       " 'ljust',\n",
       " 'lower',\n",
       " 'lstrip',\n",
       " 'maketrans',\n",
       " 'partition',\n",
       " 'replace',\n",
       " 'rfind',\n",
       " 'rindex',\n",
       " 'rjust',\n",
       " 'rpartition',\n",
       " 'rsplit',\n",
       " 'rstrip',\n",
       " 'split',\n",
       " 'splitlines',\n",
       " 'startswith',\n",
       " 'strip',\n",
       " 'swapcase',\n",
       " 'title',\n",
       " 'translate',\n",
       " 'upper',\n",
       " 'zfill']"
      ]
     },
     "execution_count": 32,
     "metadata": {},
     "output_type": "execute_result"
    }
   ],
   "source": [
    "type(greet)\n",
    "dir(greet)\n"
   ]
  },
  {
   "cell_type": "markdown",
   "metadata": {},
   "source": [
    "### Searching a String \n",
    "\n",
    "* We use the find() function to search for a substring within another string\n",
    "* find() finds the first ocurrence of the substring\n",
    "* if the substring is not found, find() returns -1\n",
    "* Remember that string poritions starts at zero"
   ]
  },
  {
   "cell_type": "code",
   "execution_count": 33,
   "metadata": {},
   "outputs": [
    {
     "name": "stdout",
     "output_type": "stream",
     "text": [
      "1\n"
     ]
    }
   ],
   "source": [
    "pos = name.find(\"as\")\n",
    "print(pos)"
   ]
  },
  {
   "cell_type": "code",
   "execution_count": 35,
   "metadata": {},
   "outputs": [
    {
     "name": "stdout",
     "output_type": "stream",
     "text": [
      "-1\n"
     ]
    }
   ],
   "source": [
    "pos = name.find(\"z\")\n",
    "print(pos)"
   ]
  },
  {
   "cell_type": "markdown",
   "metadata": {},
   "source": [
    "### Replacing a string\n",
    "\n",
    "* The replace() function is like a \"search and replace\" operation in a word processor\n",
    "* It replaces all occurences of the search string with the replacement string"
   ]
  },
  {
   "cell_type": "code",
   "execution_count": 36,
   "metadata": {},
   "outputs": [
    {
     "name": "stdout",
     "output_type": "stream",
     "text": [
      "Evangelos Tsakalos\n"
     ]
    }
   ],
   "source": [
    "nstr = name.replace(\"Vasilis\", \"Evangelos\")\n",
    "print(nstr)"
   ]
  },
  {
   "cell_type": "code",
   "execution_count": 37,
   "metadata": {},
   "outputs": [
    {
     "name": "stdout",
     "output_type": "stream",
     "text": [
      "Vosilis Tsokolos\n"
     ]
    }
   ],
   "source": [
    "nstr = name.replace(\"a\", \"o\")\n",
    "print(nstr)"
   ]
  },
  {
   "cell_type": "markdown",
   "metadata": {},
   "source": [
    "### Stripping Whitespace\n",
    "\n",
    "* Sometimes we want to take a string and remove whitespace at the beginning and/or end\n",
    "* __lstrip()__ and __rstrip()__ remove whitespace at the left or right\n",
    "* __strip()__ removes both beginning and ending whitespace"
   ]
  },
  {
   "cell_type": "code",
   "execution_count": 38,
   "metadata": {},
   "outputs": [
    {
     "name": "stdout",
     "output_type": "stream",
     "text": [
      "    Hello\n",
      "Hello     \n",
      "Hello\n"
     ]
    }
   ],
   "source": [
    "Whitespace = \"    Hello     \"\n",
    "print(Whitespace.rstrip())\n",
    "print(Whitespace.lstrip())\n",
    "print(Whitespace.strip())"
   ]
  },
  {
   "cell_type": "markdown",
   "metadata": {},
   "source": [
    "### Prefixes\n"
   ]
  },
  {
   "cell_type": "code",
   "execution_count": 39,
   "metadata": {},
   "outputs": [
    {
     "name": "stdout",
     "output_type": "stream",
     "text": [
      "True\n",
      "False\n"
     ]
    }
   ],
   "source": [
    "line = \"Please have a nice day\"\n",
    "print(line.startswith(\"Please\"))\n",
    "print(line.startswith(\"p\"))"
   ]
  },
  {
   "cell_type": "markdown",
   "metadata": {},
   "source": [
    "### Parsing and extracting"
   ]
  },
  {
   "cell_type": "code",
   "execution_count": 40,
   "metadata": {},
   "outputs": [
    {
     "name": "stdout",
     "output_type": "stream",
     "text": [
      "18\n",
      "25\n",
      "ef.com\n"
     ]
    }
   ],
   "source": [
    "data = \"vasileios.tsakalos@ef.com  Vasileios Tsakalos\"\n",
    "atPos = data.find(\"@\")\n",
    "print(atPos)\n",
    "spPos = data.find(\" \", atPos) # find space after at position\n",
    "print(spPos)\n",
    "host = data[atPos + 1 : spPos]\n",
    "print(host)"
   ]
  },
  {
   "cell_type": "markdown",
   "metadata": {},
   "source": [
    "# Reading files \n",
    "\n",
    "<img src=\"files/pics/ReadFiles.png\">\n",
    "\n",
    "* A text file can be thought of as a sequence of lines\n",
    "\n",
    "\"\"\"\n",
    "\n",
    "From: Nelson Aloor <Nelson.Aloor@EF.com> \n",
    "Sent: Wednesday, March 20, 2019 11:44 PM\n",
    "To: Tomas Bie <Tomas.Bie@EF.com>\n",
    "Cc: Johan Dutina <Johan.dutina@ef.com>; Manjunatha Guralamatha Thimmegowda <Manju.Thimmegowda@EF.com>; Pratik Kumar <pratik.kumar@EF.com>; Twinkle Sebastian <twinkle.sebastian@EF.com>; Magnus Vesterberg <Magnus.Vesterberg@EF.com>; Alexander Miglis <Alexander.Miglis@EF.com>; Usha PS <Usha.PS@EF.com>\n",
    "Subject: RE: Status of transaction rollback in EFdatawarehouse database / Alternative solution to fix the issue \n",
    "\n",
    "Hi Tomas,\n",
    "\n",
    "It is difficult to estimate the time . It may take 2-3 man days . \n",
    "Thanks\n",
    "Nelson\n",
    "\"\"\"\n",
    "\n",
    "## Opening a file \n",
    "\n",
    "* Before we can read the contents of the file, we must tell Python which file we are going to work with and what we will be doing with the file\n",
    "* This is done with the open() function\n",
    "* open() returns a “file handle” - a variable used to perform operations on the file\n",
    "* Similar to “File -> Open” in a Word Processor\n",
    "\n",
    "###  Using open()\n",
    "\n",
    "* `handle = open(filename, mode)`\n",
    "\n",
    "* returns a handle use to manipulate the file\n",
    "* filename is a string\n",
    "* mode is optional and should be 'r' if we are planning to read the file and 'w' if we are going to write to the file\n",
    "\n",
    "<img src=\"files/pics/OpenReadWriteClose.png\">\n",
    "\n",
    "\n"
   ]
  },
  {
   "cell_type": "code",
   "execution_count": 41,
   "metadata": {},
   "outputs": [
    {
     "name": "stdout",
     "output_type": "stream",
     "text": [
      "<_io.TextIOWrapper name='mbox-short.txt' mode='r' encoding='cp1252'>\n"
     ]
    }
   ],
   "source": [
    "fhand = open('mbox-short.txt')\n",
    "print(fhand)"
   ]
  },
  {
   "cell_type": "markdown",
   "metadata": {},
   "source": [
    "* We use a special character called the “newline” to indicate when a line ends \n",
    "* We represent it as \\n in strings \n",
    "* Newline is still one character - not two"
   ]
  },
  {
   "cell_type": "code",
   "execution_count": 43,
   "metadata": {},
   "outputs": [
    {
     "name": "stdout",
     "output_type": "stream",
     "text": [
      "Hello\n",
      "World!\n"
     ]
    }
   ],
   "source": [
    "HW = 'Hello\\nWorld!'\n",
    "print(HW)"
   ]
  },
  {
   "cell_type": "code",
   "execution_count": 44,
   "metadata": {},
   "outputs": [
    {
     "data": {
      "text/plain": [
       "12"
      ]
     },
     "execution_count": 44,
     "metadata": {},
     "output_type": "execute_result"
    }
   ],
   "source": [
    "len(HW)\n"
   ]
  },
  {
   "cell_type": "markdown",
   "metadata": {},
   "source": [
    "### File Processing\n",
    "\n",
    "* A text file can be thought of as a sequence of lines\n",
    "* A text file has newlines at the end of each line\n",
    "\n",
    "## Reading files \n",
    "\n",
    "### File Handle as a Sequence\n",
    "\n",
    "* A file handle open for read can be treated as a sequence of strings where each line in the file is a string in the sequence\n",
    "* We can use the for statement to iterate through a sequence\n",
    "* Remember - a sequence is an ordered set\n"
   ]
  },
  {
   "cell_type": "code",
   "execution_count": 45,
   "metadata": {},
   "outputs": [
    {
     "name": "stdout",
     "output_type": "stream",
     "text": [
      "Hi,\n",
      "\n",
      "\n",
      "\n",
      "As part of Efdatawarehouse recovery, we have created new database named Efdatawarehouse_new in 10.160.61.150 server and will be migrating all the database objects, users to this new database and setup data sync between existing  Efdatawarehouse and this new DB.\n",
      "\n",
      "\n",
      "\n",
      "Could you please ensure any new DDL changes (changes to table structure, procedures etc) in existing db is  done in new database as well. Else we will miss these changes when we switch from old db to new one after the data sycn is complete.\n",
      "\n",
      "\n",
      "\n",
      "Thanks,\n",
      "\n",
      "Usha\n",
      "\n",
      "\n",
      "\n",
      "From: Nelson Aloor <Nelson.Aloor@EF.com> \n",
      "\n",
      "Sent: Wednesday, March 20, 2019 11:44 PM\n",
      "\n",
      "To: Tomas Bie <Tomas.Bie@EF.com>\n",
      "\n",
      "Cc: Johan Dutina <Johan.dutina@ef.com>; Manjunatha Guralamatha Thimmegowda <Manju.Thimmegowda@EF.com>; Pratik Kumar <pratik.kumar@EF.com>; Twinkle Sebastian <twinkle.sebastian@EF.com>; Magnus Vesterberg <Magnus.Vesterberg@EF.com>; Alexander Miglis <Alexander.Miglis@EF.com>; Usha PS <Usha.PS@EF.com>\n",
      "\n",
      "Subject: RE: Status of transaction rollback in EFdatawarehouse database / Alternative solution to fix the issue \n",
      "\n",
      "\n",
      "\n",
      "Hi Tomas,\n",
      "\n",
      "\n",
      "\n",
      "It is difficult to estimate the time . It may take 2-3 man days . \n",
      "\n",
      "Thanks\n",
      "\n",
      "Nelson\n",
      "\n",
      "\n",
      "\n",
      "\n",
      "\n",
      "From: Tomas Bie <Tomas.Bie@EF.com> \n",
      "\n",
      "Sent: Tuesday, March 19, 2019 11:44 PM\n",
      "\n",
      "To: Nelson Aloor <Nelson.Aloor@EF.com>\n",
      "\n",
      "Cc: Johan Dutina <Johan.dutina@ef.com>; Manjunatha Guralamatha Thimmegowda <Manju.Thimmegowda@EF.com>; Pratik Kumar <pratik.kumar@EF.com>; Twinkle Sebastian <twinkle.sebastian@EF.com>; Magnus Vesterberg <Magnus.Vesterberg@EF.com>; Alexander Miglis <Alexander.Miglis@EF.com>; Usha PS <Usha.PS@EF.com>\n",
      "\n",
      "Subject: Re: Status of transaction rollback in EFdatawarehouse database / Alternative solution to fix the issue \n",
      "\n",
      "\n",
      "\n",
      "Hi,\n",
      "\n",
      "\n",
      "\n",
      "Can we have a rough estimate on time needed for the staff involved?\n",
      "\n",
      "\n",
      "\n",
      "Tomas\n",
      "\n",
      "\n",
      "\n",
      "19 mars 2019 kl. 19:07 skrev Nelson Aloor <Nelson.Aloor@ef.com>:\n",
      "\n",
      "Hi All,\n",
      "\n",
      " \n",
      "\n",
      "Hope you remember the issue we had two week back with the EFdatawarehouse database . A long transaction ended up in the rollback state and the rollback process is not getting completed. We had contacted Microsoft to get some assistance and were following up them to get it resolved. Unfortunately they were also not able to help us with this problem. \n",
      "\n",
      "As this transaction is active, we have two issues \n",
      "\n",
      "•\tWe will not able to shrink the log , so log will be growing exponentially \n",
      "\n",
      "•\tTables related to pageviews are not accessable.\n",
      "\n",
      " \n",
      "\n",
      "We  have only two option left with us:\n",
      "\n",
      "•\tRestore the database to the state prior to this incident. This is not practical as we will  lose the data for many days and need to be sync from source again \n",
      "\n",
      "•\tCreate a new database and copy all the data to new database from existing one. Once all the table (except the pageview ) are in sync discard the existing one and start the new one.\n",
      "\n",
      " \n",
      "\n",
      "we feel the second option is more viable at this point of time. But this requires lots of work but we are  pretty confident that it is doable . We also need assistance from twinkle and Pratik to do this.\n",
      "\n",
      " \n",
      "\n",
      "We will start the process from tomorrow . Let us know if you need more information on this or if you concern with this approach.\n",
      "\n",
      " \n",
      "\n",
      "Thanks\n",
      "\n",
      "Nelson\n",
      "\n",
      " \n",
      "\n",
      " \n",
      "\n",
      "From: Nelson Aloor \n",
      "\n",
      "Sent: Thursday, March 7, 2019 2:57 PM\n",
      "\n",
      "To: Tomas Bie <Tomas.Bie@EF.com>\n",
      "\n",
      "Cc: Alexander Miglis <Alexander.Miglis@EF.com>; Usha PS <Usha.PS@EF.com>; Johan Dutina <Johan.dutina@ef.com>; Juergen Schumann <Juergen.Schumann@EF.com>; Manjunatha Guralamatha Thimmegowda <Manju.Thimmegowda@EF.com>\n",
      "\n",
      "Subject: RE: EFdatawarehouse is not accessible :update \n",
      "\n",
      " \n",
      "\n",
      "Hi Tomas ,\n",
      "\n",
      " \n",
      "\n",
      "Reports those are pointing to EFdatawarehouse database in .97 server, may not work or it will take longer time to generate the report. The alternative solution is , point these reports to BI server . \n",
      "\n",
      "Manju and Nizar together can do that . Once it is done we are safe and we can remove this database from always on and it will improve the recovery process.\n",
      "\n",
      " \n",
      "\n",
      " \n",
      "\n",
      "Thanks\n",
      "\n",
      "Nelson\n",
      "\n",
      " \n",
      "\n",
      " \n",
      "\n",
      " \n",
      "\n",
      "From: Tomas Bie <Tomas.Bie@EF.com> \n",
      "\n",
      "Sent: Thursday, March 7, 2019 2:44 PM\n",
      "\n",
      "To: Nelson Aloor <Nelson.Aloor@EF.com>\n",
      "\n",
      "Cc: Alexander Miglis <Alexander.Miglis@EF.com>; Usha PS <Usha.PS@EF.com>; Johan Dutina <Johan.dutina@ef.com>; Juergen Schumann <Juergen.Schumann@EF.com>; Manjunatha Guralamatha Thimmegowda <Manju.Thimmegowda@EF.com>\n",
      "\n",
      "Subject: Re: EFdatawarehouse is not accessible :update \n",
      "\n",
      " \n",
      "\n",
      "Hi,\n",
      "\n",
      " \n",
      "\n",
      "What is the situation, markets report they can’t pull reports, they get error messages.\n",
      "\n",
      " \n",
      "\n",
      "Tomas\n",
      "\n",
      " \n",
      "\n",
      " \n",
      "\n",
      "\n",
      "\n",
      "7 mars 2019 kl. 08:10 skrev Nelson Aloor <Nelson.Aloor@ef.com>:\n",
      "\n",
      "Hi Nizar ,\n",
      "\n",
      " \n",
      "\n",
      "Could you please confirm this ?\n",
      "\n",
      " \n",
      "\n",
      "If we are not doing this, we will have issue in generating report which are using EFdatawarehouse database from .97 server\n",
      "\n",
      " \n",
      "\n",
      "Thanks\n",
      "\n",
      "Nelson\n",
      "\n",
      " \n",
      "\n",
      " \n",
      "\n",
      "From: Manjunatha Guralamatha Thimmegowda <Manju.Thimmegowda@EF.com> \n",
      "\n",
      "Sent: Wednesday, March 6, 2019 7:49 PM\n",
      "\n",
      "To: Nelson Aloor <Nelson.Aloor@EF.com>\n",
      "\n",
      "Cc: Alexander Miglis <Alexander.Miglis@EF.com>; Usha PS <Usha.PS@EF.com>; Tomas Bie <Tomas.Bie@EF.com>; Ellen Kugelberg <Ellen.Kugelberg@EF.com>; Johan Dutina <Johan.dutina@ef.com>; Juergen Schumann <Juergen.Schumann@EF.com>; Nizar TK <Nizar.TK@EF.com>\n",
      "\n",
      "Subject: RE: EFdatawarehouse is not accessible :update \n",
      "\n",
      " \n",
      "\n",
      "Hi Nelson,\n",
      "\n",
      " \n",
      "\n",
      "    We have identified the reports pointing to .97 server and made changes to 6 reports today to retrieve the data from .150 efdatawarehouse Database.\n",
      "\n",
      "   However, we need to monitor the Jobs which runs on every Thursday night. \n",
      "\n",
      " \n",
      "\n",
      "     But still we need to change the reports which we are calling from the Poseidon Sales center and fast client application. After which, we would be able to confirm.\n",
      "\n",
      "     @Nizar : Could you please double check why still the reports are pointing to .97 even after updating the IsDWH flag in the report table.\n",
      "\n",
      "        \n",
      "\n",
      " \n",
      "\n",
      "Thanks,\n",
      "\n",
      "Manju\n",
      "\n",
      " \n",
      "\n",
      " \n",
      "\n",
      "From: Nelson Aloor <Nelson.Aloor@EF.com> \n",
      "\n",
      "Sent: Wednesday, March 6, 2019 7:33 PM\n",
      "\n",
      "To: Manjunatha Guralamatha Thimmegowda <Manju.Thimmegowda@EF.com>\n",
      "\n",
      "Cc: Alexander Miglis <Alexander.Miglis@EF.com>; Usha PS <Usha.PS@EF.com>; Tomas Bie <Tomas.Bie@EF.com>; Ellen Kugelberg <Ellen.Kugelberg@EF.com>; Johan Dutina <Johan.dutina@ef.com>; Juergen Schumann <Juergen.Schumann@EF.com>\n",
      "\n",
      "Subject: RE: EFdatawarehouse is not accessible :update \n",
      "\n",
      " \n",
      "\n",
      "Hi Manju ,\n",
      "\n",
      " \n",
      "\n",
      "As discussed let us know once you point all the reports using Efdatawarehouse started pointing to 150 server . At present many reports are running in .97 server.\n",
      "\n",
      "Let us know if you need any help on this .\n",
      "\n",
      " \n",
      "\n",
      "Thanks\n",
      "\n",
      "Nelson\n",
      "\n",
      " \n",
      "\n",
      " \n",
      "\n",
      " \n",
      "\n",
      " \n",
      "\n",
      "From: Nelson Aloor \n",
      "\n",
      "Sent: Wednesday, March 6, 2019 2:34 AM\n",
      "\n",
      "To: Johan Dutina <Johan.dutina@ef.com>; Magnus Vesterberg <Magnus.Vesterberg@EF.com>; Twinkle Sebastian <twinkle.sebastian@EF.com>; Juergen Schumann <Juergen.Schumann@EF.com>; Manjunatha Guralamatha Thimmegowda <Manju.Thimmegowda@EF.com>; Pratik Kumar <pratik.kumar@EF.com>\n",
      "\n",
      "Cc: Alexander Miglis <Alexander.Miglis@EF.com>; Usha PS <Usha.PS@EF.com>; Tomas Bie <Tomas.Bie@EF.com>; Ellen Kugelberg <Ellen.Kugelberg@EF.com>\n",
      "\n",
      "Subject: RE: EFdatawarehouse is not accessible :update \n",
      "\n",
      " \n",
      "\n",
      "Hi All,\n",
      "\n",
      " \n",
      "\n",
      "We managed to raise the ticket with Microsoft and had a call with the technician. There is not much they can help us on this except wait for the recovery. The other option is to restore the database with the backup available before this issue triggered . They are also not in a position to predict the expected time required to complete the process. \n",
      "\n",
      " \n",
      "\n",
      "To make it more stable , we may need to remove this database from the always on group . During the recovery , primary server need to synch lots of log information to secondary server. This may cause the failure of the availability group and the database will be in resolving state will not be accessible  till we restart server.\n",
      "\n",
      " \n",
      "\n",
      "Manju: We need to assess impact if of removing the efdatawarehouse database from the .97 server\n",
      "\n",
      " \n",
      "\n",
      " \n",
      "\n",
      "Thanks\n",
      "\n",
      "Nelson\n",
      "\n",
      " \n",
      "\n",
      " \n",
      "\n",
      "From: Nelson Aloor \n",
      "\n",
      "Sent: Tuesday, March 5, 2019 8:47 PM\n",
      "\n",
      "To: Johan Dutina <Johan.dutina@ef.com>; Magnus Vesterberg <Magnus.Vesterberg@EF.com>; Twinkle Sebastian <twinkle.sebastian@EF.com>; Juergen Schumann <Juergen.Schumann@EF.com>; Manjunatha Guralamatha Thimmegowda <Manju.Thimmegowda@EF.com>; Pratik Kumar <pratik.kumar@EF.com>\n",
      "\n",
      "Cc: Alexander Miglis <Alexander.Miglis@EF.com>; Usha PS <Usha.PS@EF.com>; Tomas Bie <Tomas.Bie@EF.com>; Ellen Kugelberg <Ellen.Kugelberg@EF.com>\n",
      "\n",
      "Subject: RE: EFdatawarehouse is not accessible :update \n",
      "\n",
      " \n",
      "\n",
      "Hi All,\n",
      "\n",
      " \n",
      "\n",
      "We managed to bring it operational but I am afraid that it will again create issues. We are trying raise business critical support case with MS . unfortunately their support site is not working as expected to raise the case . Contacted the support team over phone and they suggested to wait for sometime . Looking for alternative method to raise the ticket .\n",
      "\n",
      " \n",
      "\n",
      "Thanks\n",
      "\n",
      "Nelson\n",
      "\n",
      " \n",
      "\n",
      " \n",
      "\n",
      "From: Nelson Aloor \n",
      "\n",
      "Sent: Tuesday, March 5, 2019 7:54 PM\n",
      "\n",
      "To: Johan Dutina <Johan.dutina@ef.com>; Magnus Vesterberg <Magnus.Vesterberg@EF.com>; Twinkle Sebastian <twinkle.sebastian@EF.com>; Juergen Schumann <Juergen.Schumann@EF.com>; Manjunatha Guralamatha Thimmegowda <Manju.Thimmegowda@EF.com>; Pratik Kumar <pratik.kumar@EF.com>\n",
      "\n",
      "Cc: Alexander Miglis <Alexander.Miglis@EF.com>; Usha PS <Usha.PS@EF.com>; Tomas Bie <Tomas.Bie@EF.com>; Ellen Kugelberg <Ellen.Kugelberg@EF.com>\n",
      "\n",
      "Subject: RE: EFdatawarehouse is not accessible \n",
      "\n",
      " \n",
      "\n",
      "Hi All,\n",
      "\n",
      " \n",
      "\n",
      "This is still creating issues . The transaction is not rolling back properly and it is giving issues . I am trying to contact Microsoft for help . \n",
      "\n",
      " \n",
      "\n",
      "Thanks\n",
      "\n",
      "Nelson\n",
      "\n",
      " \n",
      "\n",
      " \n",
      "\n",
      "From: Nelson Aloor \n",
      "\n",
      "Sent: Tuesday, March 5, 2019 12:47 PM\n",
      "\n",
      "To: Johan Dutina <Johan.dutina@ef.com>; Magnus Vesterberg <Magnus.Vesterberg@EF.com>; Twinkle Sebastian <twinkle.sebastian@EF.com>; Juergen Schumann <Juergen.Schumann@EF.com>; Manjunatha Guralamatha Thimmegowda <Manju.Thimmegowda@EF.com>; Pratik Kumar <pratik.kumar@EF.com>\n",
      "\n",
      "Cc: Alexander Miglis <Alexander.Miglis@EF.com>; Usha PS <Usha.PS@EF.com>; Tomas Bie <Tomas.Bie@EF.com>\n",
      "\n",
      "Subject: RE: EFdatawarehouse is not accessible \n",
      "\n",
      " \n",
      "\n",
      "Hi All,\n",
      "\n",
      " \n",
      "\n",
      "The database is accessible now but behind the scene the rollback is happing for the pageview table. This may take couple of hours to complete.\n",
      "\n",
      " \n",
      "\n",
      "Thanks\n",
      "\n",
      "Nelson\n",
      "\n",
      " \n",
      "\n",
      "From: Nelson Aloor \n",
      "\n",
      "Sent: Tuesday, March 5, 2019 8:49 AM\n",
      "\n",
      "To: Johan Dutina <Johan.dutina@ef.com>; Magnus Vesterberg <Magnus.Vesterberg@EF.com>; Twinkle Sebastian <twinkle.sebastian@EF.com>; Juergen Schumann <Juergen.Schumann@EF.com>; Manjunatha Guralamatha Thimmegowda <Manju.Thimmegowda@EF.com>; Pratik Kumar <pratik.kumar@EF.com>\n",
      "\n",
      "Cc: Alexander Miglis <Alexander.Miglis@EF.com>; Usha PS <Usha.PS@EF.com>; Tomas Bie <Tomas.Bie@EF.com>\n",
      "\n",
      "Subject: EFdatawarehouse is not accessible \n",
      "\n",
      " \n",
      "\n",
      "Hi All,\n",
      "\n",
      " \n",
      "\n",
      "The efdatawarehouse database in 150 server is not in accessible state. This happened after the data warehouse job tried to insert 144 million records in pageviewarchive in single batch . This ended up in exponential log file growth and exhausted the disk space. Later we created the space but the availability group end up resolving state and we are not able to access the database. We are working on this .\n",
      "\n",
      "I am heading to office . Hope we will be able to resolve this at the earliest. We will keep you posted about this.\n",
      "\n",
      " \n",
      "\n",
      "Thanks\n",
      "\n",
      "Nelson \n",
      "\n",
      " \n",
      "\n"
     ]
    }
   ],
   "source": [
    "xfile = open('mails.txt')\n",
    "for line in xfile:\n",
    "    print(line)\n"
   ]
  },
  {
   "cell_type": "markdown",
   "metadata": {},
   "source": [
    "* Open a file read-only\n",
    "* Use a for loop to read each line\n",
    "* Count the lines and print out the number of lines\n",
    "\n"
   ]
  },
  {
   "cell_type": "code",
   "execution_count": 46,
   "metadata": {},
   "outputs": [
    {
     "name": "stdout",
     "output_type": "stream",
     "text": [
      "Line Count: 206\n"
     ]
    }
   ],
   "source": [
    "# counting the lines in a file\n",
    "fhand = open('mails.txt')\n",
    "count = 0\n",
    "for line in fhand:\n",
    "    count = count + 1\n",
    "print('Line Count:', count)\n",
    "\n"
   ]
  },
  {
   "cell_type": "markdown",
   "metadata": {},
   "source": [
    "### Read a whole file\n",
    "We can read the whole file (newlines and all) into a single string\n"
   ]
  },
  {
   "cell_type": "code",
   "execution_count": 47,
   "metadata": {},
   "outputs": [
    {
     "name": "stdout",
     "output_type": "stream",
     "text": [
      "10986\n",
      "Hi,\n",
      "\n",
      "As part of Efda\n"
     ]
    }
   ],
   "source": [
    "fhand = open('mails.txt')\n",
    "inp = fhand.read()\n",
    "print(len(inp))\n",
    "print(inp[:20])"
   ]
  },
  {
   "cell_type": "markdown",
   "metadata": {},
   "source": [
    "### Searching through a file \n",
    "\n",
    "* We can put an if statement in our *for* loop to only print lines that meet some criteria "
   ]
  },
  {
   "cell_type": "code",
   "execution_count": 48,
   "metadata": {},
   "outputs": [
    {
     "name": "stdout",
     "output_type": "stream",
     "text": [
      "From: Nelson Aloor <Nelson.Aloor@EF.com> \n",
      "\n",
      "From: Tomas Bie <Tomas.Bie@EF.com> \n",
      "\n",
      "From: Nelson Aloor \n",
      "\n",
      "From: Tomas Bie <Tomas.Bie@EF.com> \n",
      "\n",
      "From: Manjunatha Guralamatha Thimmegowda <Manju.Thimmegowda@EF.com> \n",
      "\n",
      "From: Nelson Aloor <Nelson.Aloor@EF.com> \n",
      "\n",
      "From: Nelson Aloor \n",
      "\n",
      "From: Nelson Aloor \n",
      "\n",
      "From: Nelson Aloor \n",
      "\n",
      "From: Nelson Aloor \n",
      "\n",
      "From: Nelson Aloor \n",
      "\n"
     ]
    }
   ],
   "source": [
    "fhand = open('mails.txt')\n",
    "for line in fhand:\n",
    "    if line.startswith('From:') :\n",
    "        print(line)\n"
   ]
  },
  {
   "cell_type": "code",
   "execution_count": 49,
   "metadata": {},
   "outputs": [
    {
     "name": "stdout",
     "output_type": "stream",
     "text": [
      "From: Nelson Aloor <Nelson.Aloor@EF.com>\n",
      "From: Tomas Bie <Tomas.Bie@EF.com>\n",
      "From: Nelson Aloor\n",
      "From: Tomas Bie <Tomas.Bie@EF.com>\n",
      "From: Manjunatha Guralamatha Thimmegowda <Manju.Thimmegowda@EF.com>\n",
      "From: Nelson Aloor <Nelson.Aloor@EF.com>\n",
      "From: Nelson Aloor\n",
      "From: Nelson Aloor\n",
      "From: Nelson Aloor\n",
      "From: Nelson Aloor\n",
      "From: Nelson Aloor\n"
     ]
    }
   ],
   "source": [
    "# We can strip the whitespace from the right-hand side of the string \n",
    "# using rstrip() from the string library\n",
    "\n",
    "fhand = open('mails.txt')\n",
    "for line in fhand:\n",
    "    line = line.rstrip()\n",
    "    if line.startswith('From:') :\n",
    "        print(line)\n",
    "\n"
   ]
  },
  {
   "cell_type": "code",
   "execution_count": 50,
   "metadata": {},
   "outputs": [
    {
     "name": "stdout",
     "output_type": "stream",
     "text": [
      "From: Nelson Aloor <Nelson.Aloor@EF.com>\n",
      "From: Tomas Bie <Tomas.Bie@EF.com>\n",
      "From: Nelson Aloor\n",
      "From: Tomas Bie <Tomas.Bie@EF.com>\n",
      "From: Manjunatha Guralamatha Thimmegowda <Manju.Thimmegowda@EF.com>\n",
      "From: Nelson Aloor <Nelson.Aloor@EF.com>\n",
      "From: Nelson Aloor\n",
      "From: Nelson Aloor\n",
      "From: Nelson Aloor\n",
      "From: Nelson Aloor\n",
      "From: Nelson Aloor\n"
     ]
    }
   ],
   "source": [
    "# We can conveniently skip a line by using the continue statement\n",
    "\n",
    "fhand = open('mails.txt')\n",
    "for line in fhand:\n",
    "    line = line.rstrip()\n",
    "    if not line.startswith('From:') :\n",
    "        continue\n",
    "    print(line)"
   ]
  },
  {
   "cell_type": "markdown",
   "metadata": {},
   "source": [
    "### Using in to Select Lines\n",
    "\n",
    "* We can look for a string anywhere in a line as our selection criteria\n"
   ]
  },
  {
   "cell_type": "code",
   "execution_count": 51,
   "metadata": {},
   "outputs": [
    {
     "name": "stdout",
     "output_type": "stream",
     "text": [
      "Cc: Johan Dutina <Johan.dutina@ef.com>; Manjunatha Guralamatha Thimmegowda <Manju.Thimmegowda@EF.com>; Pratik Kumar <pratik.kumar@EF.com>; Twinkle Sebastian <twinkle.sebastian@EF.com>; Magnus Vesterberg <Magnus.Vesterberg@EF.com>; Alexander Miglis <Alexander.Miglis@EF.com>; Usha PS <Usha.PS@EF.com>\n",
      "Cc: Johan Dutina <Johan.dutina@ef.com>; Manjunatha Guralamatha Thimmegowda <Manju.Thimmegowda@EF.com>; Pratik Kumar <pratik.kumar@EF.com>; Twinkle Sebastian <twinkle.sebastian@EF.com>; Magnus Vesterberg <Magnus.Vesterberg@EF.com>; Alexander Miglis <Alexander.Miglis@EF.com>; Usha PS <Usha.PS@EF.com>\n",
      "19 mars 2019 kl. 19:07 skrev Nelson Aloor <Nelson.Aloor@ef.com>:\n",
      "Cc: Alexander Miglis <Alexander.Miglis@EF.com>; Usha PS <Usha.PS@EF.com>; Johan Dutina <Johan.dutina@ef.com>; Juergen Schumann <Juergen.Schumann@EF.com>; Manjunatha Guralamatha Thimmegowda <Manju.Thimmegowda@EF.com>\n",
      "Cc: Alexander Miglis <Alexander.Miglis@EF.com>; Usha PS <Usha.PS@EF.com>; Johan Dutina <Johan.dutina@ef.com>; Juergen Schumann <Juergen.Schumann@EF.com>; Manjunatha Guralamatha Thimmegowda <Manju.Thimmegowda@EF.com>\n",
      "7 mars 2019 kl. 08:10 skrev Nelson Aloor <Nelson.Aloor@ef.com>:\n",
      "Cc: Alexander Miglis <Alexander.Miglis@EF.com>; Usha PS <Usha.PS@EF.com>; Tomas Bie <Tomas.Bie@EF.com>; Ellen Kugelberg <Ellen.Kugelberg@EF.com>; Johan Dutina <Johan.dutina@ef.com>; Juergen Schumann <Juergen.Schumann@EF.com>; Nizar TK <Nizar.TK@EF.com>\n",
      "Cc: Alexander Miglis <Alexander.Miglis@EF.com>; Usha PS <Usha.PS@EF.com>; Tomas Bie <Tomas.Bie@EF.com>; Ellen Kugelberg <Ellen.Kugelberg@EF.com>; Johan Dutina <Johan.dutina@ef.com>; Juergen Schumann <Juergen.Schumann@EF.com>\n",
      "To: Johan Dutina <Johan.dutina@ef.com>; Magnus Vesterberg <Magnus.Vesterberg@EF.com>; Twinkle Sebastian <twinkle.sebastian@EF.com>; Juergen Schumann <Juergen.Schumann@EF.com>; Manjunatha Guralamatha Thimmegowda <Manju.Thimmegowda@EF.com>; Pratik Kumar <pratik.kumar@EF.com>\n",
      "To: Johan Dutina <Johan.dutina@ef.com>; Magnus Vesterberg <Magnus.Vesterberg@EF.com>; Twinkle Sebastian <twinkle.sebastian@EF.com>; Juergen Schumann <Juergen.Schumann@EF.com>; Manjunatha Guralamatha Thimmegowda <Manju.Thimmegowda@EF.com>; Pratik Kumar <pratik.kumar@EF.com>\n",
      "To: Johan Dutina <Johan.dutina@ef.com>; Magnus Vesterberg <Magnus.Vesterberg@EF.com>; Twinkle Sebastian <twinkle.sebastian@EF.com>; Juergen Schumann <Juergen.Schumann@EF.com>; Manjunatha Guralamatha Thimmegowda <Manju.Thimmegowda@EF.com>; Pratik Kumar <pratik.kumar@EF.com>\n",
      "To: Johan Dutina <Johan.dutina@ef.com>; Magnus Vesterberg <Magnus.Vesterberg@EF.com>; Twinkle Sebastian <twinkle.sebastian@EF.com>; Juergen Schumann <Juergen.Schumann@EF.com>; Manjunatha Guralamatha Thimmegowda <Manju.Thimmegowda@EF.com>; Pratik Kumar <pratik.kumar@EF.com>\n",
      "To: Johan Dutina <Johan.dutina@ef.com>; Magnus Vesterberg <Magnus.Vesterberg@EF.com>; Twinkle Sebastian <twinkle.sebastian@EF.com>; Juergen Schumann <Juergen.Schumann@EF.com>; Manjunatha Guralamatha Thimmegowda <Manju.Thimmegowda@EF.com>; Pratik Kumar <pratik.kumar@EF.com>\n"
     ]
    }
   ],
   "source": [
    "fhand = open('mails.txt')\n",
    "for line in fhand:\n",
    "    line = line.rstrip()\n",
    "    if not '@ef' in line : \n",
    "        continue\n",
    "    print(line)\n"
   ]
  },
  {
   "cell_type": "code",
   "execution_count": 52,
   "metadata": {},
   "outputs": [
    {
     "name": "stdout",
     "output_type": "stream",
     "text": [
      "Enter the file name:  mails.txt\n",
      "There were 11 subject lines in mails.txt\n"
     ]
    }
   ],
   "source": [
    "# prompt for File Name\n",
    "\n",
    "fname = input('Enter the file name:  ')\n",
    "fhand = open(fname)\n",
    "count = 0\n",
    "for line in fhand:\n",
    "    if line.startswith('Subject:') :\n",
    "        count = count + 1\n",
    "print('There were', count, 'subject lines in', fname)\n"
   ]
  },
  {
   "cell_type": "markdown",
   "metadata": {},
   "source": [
    "# 3. Lists\n",
    "\n",
    "Programming = algorithm + data structure\n",
    "\n",
    "__algorithm__: A set of rules or steps used to solve a problem\n",
    "__data structure__: A particular way of organizing data in computer\n",
    "\n",
    "## List is a kind of collection\n",
    "\n",
    "* A collection allows us to put many values in a single “variable”\n",
    "* A collection is nice because we can carry all many values around in one convenient package.\n",
    "\n",
    "### Constraints\n",
    "\n",
    "* List constants are surrounded by square brackets and the elements in the list are separated by commas\n",
    "* A list element can be any Python object - even another list\n",
    "* A list can be empty\n",
    "\n"
   ]
  },
  {
   "cell_type": "code",
   "execution_count": 53,
   "metadata": {},
   "outputs": [
    {
     "name": "stdout",
     "output_type": "stream",
     "text": [
      "[1, 2, 3]\n",
      "['a', 'b', 'c']\n",
      "[1, 'a', 3]\n",
      "[1, [1, 2], 3]\n",
      "[]\n"
     ]
    }
   ],
   "source": [
    "print([1, 2, 3])\n",
    "print([\"a\", \"b\", \"c\"])\n",
    "print([1, \"a\", 3])\n",
    "print([1, [1, 2], 3])\n",
    "print([])"
   ]
  },
  {
   "cell_type": "markdown",
   "metadata": {},
   "source": [
    "### Lists in definite loops \n"
   ]
  },
  {
   "cell_type": "code",
   "execution_count": 54,
   "metadata": {},
   "outputs": [
    {
     "name": "stdout",
     "output_type": "stream",
     "text": [
      "Hello Johan\n",
      "Hello Magnus\n",
      "Hello Pratik\n",
      "Hello Ranjini\n",
      "Hello Twinkle\n",
      "Hello Vasileios\n",
      "Hello YeswanthKumar\n",
      "You have greeted everybody, quite nice of you :)\n"
     ]
    }
   ],
   "source": [
    "DWHteam = ['Johan', 'Magnus', 'Pratik', 'Ranjini', 'Twinkle', 'Vasileios', 'YeswanthKumar']\n",
    "for teamMember in DWHteam :\n",
    "    print('Hello '+ teamMember)\n",
    "print('You have greeted everybody, quite nice of you :)')\n"
   ]
  },
  {
   "cell_type": "markdown",
   "metadata": {},
   "source": [
    "### Looking Inside a List\n",
    "\n",
    "Just like strings, we can get at any single element in a list using an index specified in square brackets\n",
    "\n"
   ]
  },
  {
   "cell_type": "code",
   "execution_count": 55,
   "metadata": {},
   "outputs": [
    {
     "name": "stdout",
     "output_type": "stream",
     "text": [
      "Magnus\n"
     ]
    }
   ],
   "source": [
    "print(DWHteam[1])"
   ]
  },
  {
   "cell_type": "markdown",
   "metadata": {},
   "source": [
    "### Lists are Mutable\n",
    "\n",
    "* Strings are “immutable” - we cannot change the contents of a string - we must make a new string to make any change\n",
    "* Lists are “mutable” - we can change an element of a list using the index operator"
   ]
  },
  {
   "cell_type": "code",
   "execution_count": 57,
   "metadata": {},
   "outputs": [
    {
     "ename": "TypeError",
     "evalue": "'str' object does not support item assignment",
     "output_type": "error",
     "traceback": [
      "\u001b[1;31m---------------------------------------------------------------------------\u001b[0m",
      "\u001b[1;31mTypeError\u001b[0m                                 Traceback (most recent call last)",
      "\u001b[1;32m<ipython-input-57-f804e8364fea>\u001b[0m in \u001b[0;36m<module>\u001b[1;34m\u001b[0m\n\u001b[1;32m----> 1\u001b[1;33m \u001b[0mDWHteam\u001b[0m\u001b[1;33m[\u001b[0m\u001b[1;36m1\u001b[0m\u001b[1;33m]\u001b[0m\u001b[1;33m[\u001b[0m\u001b[1;36m0\u001b[0m\u001b[1;33m]\u001b[0m \u001b[1;33m=\u001b[0m \u001b[1;34m'm'\u001b[0m\u001b[1;33m\u001b[0m\u001b[1;33m\u001b[0m\u001b[0m\n\u001b[0m",
      "\u001b[1;31mTypeError\u001b[0m: 'str' object does not support item assignment"
     ]
    }
   ],
   "source": [
    "DWHteam[1][0] = 'm'\n"
   ]
  },
  {
   "cell_type": "code",
   "execution_count": 58,
   "metadata": {},
   "outputs": [
    {
     "name": "stdout",
     "output_type": "stream",
     "text": [
      "magnus\n"
     ]
    }
   ],
   "source": [
    "x = DWHteam[1].lower()\n",
    "print(x)"
   ]
  },
  {
   "cell_type": "code",
   "execution_count": 59,
   "metadata": {},
   "outputs": [
    {
     "name": "stdout",
     "output_type": "stream",
     "text": [
      "['Johan', 'Magnus Vesterberg', 'Pratik', 'Ranjini', 'Twinkle', 'Vasileios', 'YeswanthKumar']\n"
     ]
    }
   ],
   "source": [
    "DWHteam[1] = 'Magnus Vesterberg'\n",
    "print(DWHteam)"
   ]
  },
  {
   "cell_type": "markdown",
   "metadata": {},
   "source": [
    "### Length of Lists\n",
    "\n",
    "* The len() function takes a list as a parameter and returns the number of elements in the list\n",
    "* Actually len() tells us the number of elements of any set or sequence (such as a string...)"
   ]
  },
  {
   "cell_type": "code",
   "execution_count": 60,
   "metadata": {},
   "outputs": [
    {
     "data": {
      "text/plain": [
       "7"
      ]
     },
     "execution_count": 60,
     "metadata": {},
     "output_type": "execute_result"
    }
   ],
   "source": [
    "len(DWHteam)"
   ]
  },
  {
   "cell_type": "markdown",
   "metadata": {},
   "source": [
    "### Using the range Function\n",
    "\n",
    "* The range function returns a list of numbers that range from zero to one less than the parameter\n",
    "* We can construct an index loop using for and an integer iterator\n"
   ]
  },
  {
   "cell_type": "code",
   "execution_count": 61,
   "metadata": {},
   "outputs": [
    {
     "name": "stdout",
     "output_type": "stream",
     "text": [
      "range(0, 4)\n",
      "range(0, 7)\n"
     ]
    }
   ],
   "source": [
    "print(range(4))\n",
    "print(range(len(DWHteam)))\n"
   ]
  },
  {
   "cell_type": "code",
   "execution_count": 62,
   "metadata": {},
   "outputs": [
    {
     "name": "stdout",
     "output_type": "stream",
     "text": [
      "Hello Johan\n",
      "Hello Magnus\n",
      "Hello Pratik\n",
      "Hello Ranjini\n",
      "Hello Twinkle\n",
      "Hello Vasileios\n",
      "Hello YeswanthKumar\n",
      "You have greeted everybody, quite nice of you :)\n"
     ]
    }
   ],
   "source": [
    "DWHteam = ['Johan', 'Magnus', 'Pratik', 'Ranjini', 'Twinkle', 'Vasileios', 'YeswanthKumar']\n",
    "for i in range(len(DWHteam)) :\n",
    "    print('Hello '+ DWHteam[i])\n",
    "print('You have greeted everybody, quite nice of you :)')\n"
   ]
  },
  {
   "cell_type": "markdown",
   "metadata": {},
   "source": [
    "### Concatenating Lists using +\n",
    "\n",
    "* We can create a new list by adding two existing lists together\n"
   ]
  },
  {
   "cell_type": "code",
   "execution_count": 63,
   "metadata": {},
   "outputs": [
    {
     "name": "stdout",
     "output_type": "stream",
     "text": [
      "[1, 2, 3, 4, 5, 6]\n"
     ]
    }
   ],
   "source": [
    "a = [1, 2, 3]\n",
    "b = [4, 5, 6]\n",
    "c = a + b\n",
    "print(c)"
   ]
  },
  {
   "cell_type": "markdown",
   "metadata": {},
   "source": [
    "### Lists Can be Sliced\n",
    "\n",
    "Remember:  Just like in strings, the second number is “up to but not including”\n"
   ]
  },
  {
   "cell_type": "code",
   "execution_count": 64,
   "metadata": {},
   "outputs": [
    {
     "name": "stdout",
     "output_type": "stream",
     "text": [
      "[4, 5, 6]\n",
      "[1, 2, 3, 4, 5]\n",
      "[4]\n"
     ]
    }
   ],
   "source": [
    "print(c[3:])\n",
    "print(c[:5])\n",
    "print(c[3:4])"
   ]
  },
  {
   "cell_type": "markdown",
   "metadata": {},
   "source": [
    "### List Methods"
   ]
  },
  {
   "cell_type": "code",
   "execution_count": 66,
   "metadata": {},
   "outputs": [
    {
     "name": "stdout",
     "output_type": "stream",
     "text": [
      "<class 'list'>\n",
      "['__add__', '__class__', '__contains__', '__delattr__', '__delitem__', '__dir__', '__doc__', '__eq__', '__format__', '__ge__', '__getattribute__', '__getitem__', '__gt__', '__hash__', '__iadd__', '__imul__', '__init__', '__init_subclass__', '__iter__', '__le__', '__len__', '__lt__', '__mul__', '__ne__', '__new__', '__reduce__', '__reduce_ex__', '__repr__', '__reversed__', '__rmul__', '__setattr__', '__setitem__', '__sizeof__', '__str__', '__subclasshook__', 'append', 'clear', 'copy', 'count', 'extend', 'index', 'insert', 'pop', 'remove', 'reverse', 'sort']\n"
     ]
    }
   ],
   "source": [
    "x = list()\n",
    "print(type(x))\n",
    "print(dir(x))"
   ]
  },
  {
   "cell_type": "markdown",
   "metadata": {},
   "source": [
    "### Build a list from scratch\n",
    "\n",
    "* We can create an empty list and then add elements using the append method\n",
    "* The list stays in order and new elements are added at the end of the list"
   ]
  },
  {
   "cell_type": "code",
   "execution_count": 67,
   "metadata": {},
   "outputs": [
    {
     "name": "stdout",
     "output_type": "stream",
     "text": [
      "['Johan', 'Magnus']\n"
     ]
    }
   ],
   "source": [
    "team = list()\n",
    "team.append(\"Johan\")\n",
    "team.append(\"Magnus\")\n",
    "print(team)"
   ]
  },
  {
   "cell_type": "markdown",
   "metadata": {},
   "source": [
    "### Find elements in a list\n",
    "\n",
    "* Python provides two operators that let you check if an item is in a list\n",
    "* These are logical operators that return True or False\n",
    "* They do not modify the lis"
   ]
  },
  {
   "cell_type": "code",
   "execution_count": 68,
   "metadata": {},
   "outputs": [
    {
     "name": "stdout",
     "output_type": "stream",
     "text": [
      "False\n"
     ]
    }
   ],
   "source": [
    "IsInTeam = \"Vasilis\" in team\n",
    "print(IsInTeam)"
   ]
  },
  {
   "cell_type": "code",
   "execution_count": 69,
   "metadata": {},
   "outputs": [
    {
     "name": "stdout",
     "output_type": "stream",
     "text": [
      "True\n"
     ]
    }
   ],
   "source": [
    "IsNotInTeam = \"Vasilis\" not in team\n",
    "print(IsNotInTeam)"
   ]
  },
  {
   "cell_type": "markdown",
   "metadata": {},
   "source": [
    "### Lists are in order\n",
    "\n",
    "* A list can hold many items and keeps those items in the order until we do something to change the order\n",
    "* A list can be sorted (i.e., change its order)\n",
    "* The sort method (unlike in strings) means “sort yourself\n"
   ]
  },
  {
   "cell_type": "code",
   "execution_count": 71,
   "metadata": {},
   "outputs": [
    {
     "name": "stdout",
     "output_type": "stream",
     "text": [
      "['Caio', 'Johan', 'Juergen', 'Magnus', 'Melina', 'Roberto', 'Tomas', 'Vasilis']\n"
     ]
    }
   ],
   "source": [
    "\n",
    "CHTeam = [\"Vasilis\", \"Magnus\", \"Melina\", \"Tomas\", \"Johan\", \n",
    "          \"Juergen\", \"Caio\", \"Roberto\"]\n",
    "CHTeam.sort()\n",
    "print(CHTeam)"
   ]
  },
  {
   "cell_type": "markdown",
   "metadata": {},
   "source": [
    "### Built-in functions\n",
    "\n",
    "* There are a number of functions built into Python that take lists as parameters\n",
    "* Remember the loops we built?  These are much simpler."
   ]
  },
  {
   "cell_type": "code",
   "execution_count": 73,
   "metadata": {},
   "outputs": [
    {
     "name": "stdout",
     "output_type": "stream",
     "text": [
      "6\n",
      "167\n",
      "1\n",
      "255\n",
      "42.5\n"
     ]
    }
   ],
   "source": [
    "nums = [1, 50, 167, 9, 23, 5]\n",
    "print(len(nums))\n",
    "print(max(nums))\n",
    "print(min(nums))\n",
    "print(sum(nums))\n",
    "print(sum(nums)/len(nums))\n"
   ]
  },
  {
   "cell_type": "code",
   "execution_count": 74,
   "metadata": {},
   "outputs": [
    {
     "name": "stdout",
     "output_type": "stream",
     "text": [
      "Enter a number: 1\n",
      "Enter a number: 2\n",
      "Enter a number: 3\n",
      "Enter a number: 4\n",
      "Enter a number: 5\n",
      "Enter a number: done\n",
      "Average: 3.0\n"
     ]
    }
   ],
   "source": [
    "numlist = list()\n",
    "while True :\n",
    "    inp = input('Enter a number: ')\n",
    "    if inp == 'done' : break\n",
    "    value = float(inp)\n",
    "    numlist.append(value)\n",
    "\n",
    "average = sum(numlist) / len(numlist)\n",
    "print('Average:', average)\n"
   ]
  },
  {
   "cell_type": "markdown",
   "metadata": {},
   "source": [
    "### Lists and strings go well together\n",
    "\n",
    "Split breaks a string into parts and produces a list of strings.  We think of these as words.  We can access a particular word or loop through all the words."
   ]
  },
  {
   "cell_type": "code",
   "execution_count": 76,
   "metadata": {},
   "outputs": [
    {
     "name": "stdout",
     "output_type": "stream",
     "text": [
      "['Hello', 'Goodbye', 'Bye']\n",
      "3\n",
      "Hello\n",
      "Hello\n",
      "Goodbye\n",
      "Bye\n"
     ]
    }
   ],
   "source": [
    "abc = 'Hello Goodbye Bye'\n",
    "greet = abc.split()\n",
    "print(greet)\n",
    "print(len(greet))\n",
    "print(greet[0])\n",
    "for g in greet :\n",
    "    print(g)\n"
   ]
  },
  {
   "cell_type": "code",
   "execution_count": 77,
   "metadata": {},
   "outputs": [
    {
     "name": "stdout",
     "output_type": "stream",
     "text": [
      "['Hello', 'Goodbye', 'Bye']\n"
     ]
    }
   ],
   "source": [
    "# You can specify what delimiter character to use in the splitting\n",
    "dl = 'Hello;Goodbye;Bye'\n",
    "print(dl.split(\";\"))"
   ]
  },
  {
   "cell_type": "code",
   "execution_count": 78,
   "metadata": {},
   "outputs": [
    {
     "name": "stdout",
     "output_type": "stream",
     "text": [
      "Nelson\n",
      "Tomas\n",
      "Nelson\n",
      "Tomas\n",
      "Manjunatha\n",
      "Nelson\n",
      "Nelson\n",
      "Nelson\n",
      "Nelson\n",
      "Nelson\n",
      "Nelson\n"
     ]
    }
   ],
   "source": [
    "fhand = open('mails.txt')\n",
    "for line in fhand:\n",
    "    line = line.rstrip()\n",
    "    if not line.startswith('From:') : continue\n",
    "    words = line.split()\n",
    "    print(words[1])"
   ]
  },
  {
   "cell_type": "markdown",
   "metadata": {},
   "source": [
    "# 4 Dictionary vs List\n",
    "\n",
    "* List: A linear collection of values that stay in order \n",
    "\n",
    "* Dictionary: A \"bag\" of values, each with its own label\n",
    "\n",
    "* Dictionaries are Python’s most powerful data collection\n",
    "* Dictionaries allow us to do fast database-like operations in Python\n",
    "\n",
    "\n",
    "* Dictionaries have different names in different languages\n",
    "    -  Associative Arrays - Perl / PHP\n",
    "    -  Properties or Map or HashMap - Java\n",
    "    -  Property Bag - C# / .Net\n",
    "\n",
    "\n",
    "* Lists index their entries based on the position in the list\n",
    "* Dictionaries are like bags - no order\n",
    "* So we index the things we put in the dictionary with a “lookup tag”"
   ]
  },
  {
   "cell_type": "code",
   "execution_count": 79,
   "metadata": {},
   "outputs": [
    {
     "name": "stdout",
     "output_type": "stream",
     "text": [
      "{'candy': 3, 'tissues': 75, 'money': None}\n"
     ]
    }
   ],
   "source": [
    "purse = dict()\n",
    "purse['candy'] = 3\n",
    "purse['tissues'] = 75\n",
    "purse['money'] = None\n",
    "print(purse)\n",
    "\n"
   ]
  },
  {
   "cell_type": "code",
   "execution_count": 80,
   "metadata": {},
   "outputs": [
    {
     "name": "stdout",
     "output_type": "stream",
     "text": [
      "{'candy': 1, 'tissues': 75, 'money': None}\n"
     ]
    }
   ],
   "source": [
    "purse['candy'] = purse['candy'] - 2\n",
    "print(purse)\n"
   ]
  },
  {
   "cell_type": "markdown",
   "metadata": {},
   "source": [
    "Dictionaries are like lists except that they use keys instead of numbers to look up values\n"
   ]
  },
  {
   "cell_type": "code",
   "execution_count": 81,
   "metadata": {},
   "outputs": [
    {
     "name": "stdout",
     "output_type": "stream",
     "text": [
      "[21, 183]\n",
      "[23, 183]\n"
     ]
    }
   ],
   "source": [
    "lst = list()\n",
    "lst.append(21)\n",
    "lst.append(183)\n",
    "print(lst)\n",
    "lst[0] = 23\n",
    "print(lst)\n"
   ]
  },
  {
   "cell_type": "code",
   "execution_count": 82,
   "metadata": {},
   "outputs": [
    {
     "name": "stdout",
     "output_type": "stream",
     "text": [
      "{'age': 21, 'course': 182}\n",
      "{'age': 23, 'course': 182}\n"
     ]
    }
   ],
   "source": [
    "ddd = dict()\n",
    "ddd['age'] = 21\n",
    "ddd['course'] = 182\n",
    "print(ddd)\n",
    "ddd['age'] = 23\n",
    "print(ddd)"
   ]
  },
  {
   "cell_type": "markdown",
   "metadata": {},
   "source": [
    "### Dictionary Literals (Constants)\n",
    "\n",
    "* Dictionary literals use curly braces and have a list of key : value pairs\n",
    "\n",
    "* You can make an empty dictionary using empty curly braces\n"
   ]
  },
  {
   "cell_type": "code",
   "execution_count": 83,
   "metadata": {},
   "outputs": [
    {
     "name": "stdout",
     "output_type": "stream",
     "text": [
      "{'V': 1, 'D': 42, 'S': 100}\n",
      "{}\n"
     ]
    }
   ],
   "source": [
    "jjj = { 'V' : 1 , 'D' : 42, 'S': 100}\n",
    "print(jjj)\n",
    "ooo = { }\n",
    "print(ooo)"
   ]
  },
  {
   "cell_type": "code",
   "execution_count": 84,
   "metadata": {},
   "outputs": [
    {
     "name": "stdout",
     "output_type": "stream",
     "text": [
      "-1\n"
     ]
    }
   ],
   "source": [
    "stuff = dict()\n",
    "print(stuff.get('candy',-1))"
   ]
  },
  {
   "cell_type": "markdown",
   "metadata": {},
   "source": [
    "### Many Counters with a Dictionary\n",
    "\n",
    "One common use of dictionaries is counting how often we “see” something\n"
   ]
  },
  {
   "cell_type": "code",
   "execution_count": 85,
   "metadata": {},
   "outputs": [
    {
     "name": "stdout",
     "output_type": "stream",
     "text": [
      "{'csev': 1, 'cwen': 1}\n",
      "{'csev': 1, 'cwen': 2}\n"
     ]
    }
   ],
   "source": [
    "ccc = dict()\n",
    "ccc['csev'] = 1\n",
    "ccc['cwen'] = 1\n",
    "print(ccc)\n",
    "ccc['cwen'] = ccc['cwen'] + 1\n",
    "print(ccc)"
   ]
  },
  {
   "cell_type": "markdown",
   "metadata": {},
   "source": [
    "### Dictionary Tracebacks\n",
    "\n",
    "* It is an error to reference a key which is not in the dictionary\n",
    "* We can use the in operator to see if a key is in the dictionary\n"
   ]
  },
  {
   "cell_type": "code",
   "execution_count": 86,
   "metadata": {},
   "outputs": [
    {
     "ename": "KeyError",
     "evalue": "'csev'",
     "output_type": "error",
     "traceback": [
      "\u001b[1;31m---------------------------------------------------------------------------\u001b[0m",
      "\u001b[1;31mKeyError\u001b[0m                                  Traceback (most recent call last)",
      "\u001b[1;32m<ipython-input-86-21f4feaeacbb>\u001b[0m in \u001b[0;36m<module>\u001b[1;34m\u001b[0m\n\u001b[0;32m      1\u001b[0m \u001b[0mccc\u001b[0m \u001b[1;33m=\u001b[0m \u001b[0mdict\u001b[0m\u001b[1;33m(\u001b[0m\u001b[1;33m)\u001b[0m\u001b[1;33m\u001b[0m\u001b[1;33m\u001b[0m\u001b[0m\n\u001b[1;32m----> 2\u001b[1;33m \u001b[0mprint\u001b[0m\u001b[1;33m(\u001b[0m\u001b[0mccc\u001b[0m\u001b[1;33m[\u001b[0m\u001b[1;34m'csev'\u001b[0m\u001b[1;33m]\u001b[0m\u001b[1;33m)\u001b[0m\u001b[1;33m\u001b[0m\u001b[1;33m\u001b[0m\u001b[0m\n\u001b[0m",
      "\u001b[1;31mKeyError\u001b[0m: 'csev'"
     ]
    }
   ],
   "source": [
    "ccc = dict()\n",
    "print(ccc['csev'])"
   ]
  },
  {
   "cell_type": "code",
   "execution_count": 87,
   "metadata": {},
   "outputs": [
    {
     "data": {
      "text/plain": [
       "False"
      ]
     },
     "execution_count": 87,
     "metadata": {},
     "output_type": "execute_result"
    }
   ],
   "source": [
    "'csev' in ccc"
   ]
  },
  {
   "cell_type": "markdown",
   "metadata": {},
   "source": [
    "### Encounter a new key\n",
    "\n",
    "When we encounter a new name, we need to add a new entry in the dictionary and if this the second or later time we have seen the name, we simply add one to the count in the dictionary under that name"
   ]
  },
  {
   "cell_type": "code",
   "execution_count": 88,
   "metadata": {},
   "outputs": [
    {
     "name": "stdout",
     "output_type": "stream",
     "text": [
      "{'csev': 2, 'cwen': 2, 'zqian': 1}\n"
     ]
    }
   ],
   "source": [
    "counts = dict()\n",
    "names = ['csev', 'cwen', 'csev', 'zqian', 'cwen']\n",
    "for name in names :\n",
    "    if name not in counts: \n",
    "        counts[name] = 1\n",
    "    else :\n",
    "        counts[name] = counts[name] + 1\n",
    "print(counts)\n"
   ]
  },
  {
   "cell_type": "markdown",
   "metadata": {},
   "source": [
    "### The get Method for Dictionaries\n",
    "\n",
    "* The pattern of checking to see if a key is already in a dictionary and assuming a default value if the key is not there is so common that there is a method called get() that does this for us\n",
    "\n",
    "* Default value if key does not exist (and no Traceback)."
   ]
  },
  {
   "cell_type": "code",
   "execution_count": 90,
   "metadata": {},
   "outputs": [
    {
     "name": "stdout",
     "output_type": "stream",
     "text": [
      "2\n"
     ]
    }
   ],
   "source": [
    "if name in counts:\n",
    "    x = counts[name]\n",
    "else :\n",
    "    x = 0\n",
    "\n",
    "x = counts.get(name, 0)\n",
    "print(x)"
   ]
  },
  {
   "cell_type": "code",
   "execution_count": 91,
   "metadata": {},
   "outputs": [
    {
     "name": "stdout",
     "output_type": "stream",
     "text": [
      "{'csev': 2, 'cwen': 2, 'zqian': 1}\n"
     ]
    }
   ],
   "source": [
    "counts = dict()\n",
    "names = ['csev', 'cwen', 'csev', 'zqian', 'cwen']\n",
    "for name in names :\n",
    "    counts[name] = counts.get(name, 0) + 1\n",
    "print(counts)\n"
   ]
  },
  {
   "cell_type": "markdown",
   "metadata": {},
   "source": [
    "### Counting Pattern\n",
    "\n",
    "The general pattern to count the words in a line of text is to split the line into words, then loop through the words and use a dictionary to track the count of each word independently.\n"
   ]
  },
  {
   "cell_type": "code",
   "execution_count": 93,
   "metadata": {},
   "outputs": [
    {
     "name": "stdout",
     "output_type": "stream",
     "text": [
      "Enter a line of text:\n",
      "Writing programs (or programming) is a very creative and rewarding activity.  You can write programs for many reasons ranging from making your living to solving a difficult data analysis problem to having fun to helping someone else solve a problem.  This book assumes that everyone needs to know how to program and that once you know how to program, you will figure out what you want to do with your newfound skills.\n",
      "Words: ['Writing', 'programs', '(or', 'programming)', 'is', 'a', 'very', 'creative', 'and', 'rewarding', 'activity.', 'You', 'can', 'write', 'programs', 'for', 'many', 'reasons', 'ranging', 'from', 'making', 'your', 'living', 'to', 'solving', 'a', 'difficult', 'data', 'analysis', 'problem', 'to', 'having', 'fun', 'to', 'helping', 'someone', 'else', 'solve', 'a', 'problem.', 'This', 'book', 'assumes', 'that', 'everyone', 'needs', 'to', 'know', 'how', 'to', 'program', 'and', 'that', 'once', 'you', 'know', 'how', 'to', 'program,', 'you', 'will', 'figure', 'out', 'what', 'you', 'want', 'to', 'do', 'with', 'your', 'newfound', 'skills.']\n",
      "Counting...\n",
      "Counts {'Writing': 1, 'programs': 2, '(or': 1, 'programming)': 1, 'is': 1, 'a': 3, 'very': 1, 'creative': 1, 'and': 2, 'rewarding': 1, 'activity.': 1, 'You': 1, 'can': 1, 'write': 1, 'for': 1, 'many': 1, 'reasons': 1, 'ranging': 1, 'from': 1, 'making': 1, 'your': 2, 'living': 1, 'to': 7, 'solving': 1, 'difficult': 1, 'data': 1, 'analysis': 1, 'problem': 1, 'having': 1, 'fun': 1, 'helping': 1, 'someone': 1, 'else': 1, 'solve': 1, 'problem.': 1, 'This': 1, 'book': 1, 'assumes': 1, 'that': 2, 'everyone': 1, 'needs': 1, 'know': 2, 'how': 2, 'program': 1, 'once': 1, 'you': 3, 'program,': 1, 'will': 1, 'figure': 1, 'out': 1, 'what': 1, 'want': 1, 'do': 1, 'with': 1, 'newfound': 1, 'skills.': 1}\n"
     ]
    }
   ],
   "source": [
    "counts = dict()\n",
    "print('Enter a line of text:')\n",
    "line = input('')\n",
    "\n",
    "words = line.split()\n",
    "\n",
    "print('Words:', words)\n",
    "\n",
    "print('Counting...')\n",
    "for word in words:\n",
    "    counts[word] = counts.get(word,0) + 1\n",
    "print('Counts', counts)\n"
   ]
  },
  {
   "cell_type": "markdown",
   "metadata": {},
   "source": [
    "### The update Method for Dictionaries\n",
    "\n",
    "* In case we already have something assigned to the \n",
    "\n",
    "* Default value if key does not exist (and no Traceback)."
   ]
  },
  {
   "cell_type": "code",
   "execution_count": null,
   "metadata": {},
   "outputs": [],
   "source": [
    "test_dict['A'] = 3\n",
    "test_dict.update('A') "
   ]
  },
  {
   "cell_type": "markdown",
   "metadata": {},
   "source": [
    "### Dictionaries with definite loop\n",
    "\n",
    "Even though dictionaries are not stored in order, we can write a for loop that goes through all the entries in a dictionary - actually it goes through all of the keys in the dictionary and looks up the values\n",
    "\n"
   ]
  },
  {
   "cell_type": "code",
   "execution_count": 95,
   "metadata": {},
   "outputs": [
    {
     "name": "stdout",
     "output_type": "stream",
     "text": [
      "V 1\n",
      "D 42\n",
      "S 100\n"
     ]
    }
   ],
   "source": [
    "counts = { 'V' : 1 , 'D' : 42, 'S': 100}\n",
    "for key in counts:\n",
    "    print(key, counts[key])\n",
    "    \n"
   ]
  },
  {
   "cell_type": "markdown",
   "metadata": {},
   "source": [
    "### Retrieving Lists of Keys and Values\n",
    "\n",
    "You can get a list of keys, values, or items (both) from a dictionary\n",
    "\n"
   ]
  },
  {
   "cell_type": "code",
   "execution_count": 96,
   "metadata": {},
   "outputs": [
    {
     "name": "stdout",
     "output_type": "stream",
     "text": [
      "['V', 'D', 'S']\n",
      "dict_keys(['V', 'D', 'S'])\n",
      "dict_values([1, 42, 100])\n",
      "dict_items([('V', 1), ('D', 42), ('S', 100)])\n"
     ]
    }
   ],
   "source": [
    "jjj = { 'V' : 1 , 'D' : 42, 'S': 100}\n",
    "print(list(jjj))\n",
    "print(jjj.keys())\n",
    "print(jjj.values())\n",
    "print(jjj.items()) # those are tuples we will go through that later\n"
   ]
  },
  {
   "cell_type": "markdown",
   "metadata": {},
   "source": [
    "### Two Iteration Variables\n",
    "\n",
    "* We loop through the key-value pairs in a dictionary using *two* iteration variables\n",
    "* Each iteration, the first variable is the key and the second variable is the corresponding value for the key\n"
   ]
  },
  {
   "cell_type": "code",
   "execution_count": 97,
   "metadata": {},
   "outputs": [
    {
     "name": "stdout",
     "output_type": "stream",
     "text": [
      "V 1\n",
      "D 42\n",
      "S 100\n"
     ]
    }
   ],
   "source": [
    "for aaa,bbb in jjj.items() :\n",
    "    print(aaa, bbb)\n"
   ]
  },
  {
   "cell_type": "code",
   "execution_count": 99,
   "metadata": {},
   "outputs": [
    {
     "name": "stdout",
     "output_type": "stream",
     "text": [
      "Enter file:bla\n"
     ]
    },
    {
     "ename": "KeyboardInterrupt",
     "evalue": "",
     "output_type": "error",
     "traceback": [
      "\u001b[1;31m---------------------------------------------------------------------------\u001b[0m",
      "\u001b[1;31mKeyboardInterrupt\u001b[0m                         Traceback (most recent call last)",
      "\u001b[1;32m~\\AppData\\Local\\Continuum\\anaconda3\\lib\\site-packages\\ipykernel\\kernelbase.py\u001b[0m in \u001b[0;36m_input_request\u001b[1;34m(self, prompt, ident, parent, password)\u001b[0m\n\u001b[0;32m    877\u001b[0m             \u001b[1;32mtry\u001b[0m\u001b[1;33m:\u001b[0m\u001b[1;33m\u001b[0m\u001b[1;33m\u001b[0m\u001b[0m\n\u001b[1;32m--> 878\u001b[1;33m                 \u001b[0mident\u001b[0m\u001b[1;33m,\u001b[0m \u001b[0mreply\u001b[0m \u001b[1;33m=\u001b[0m \u001b[0mself\u001b[0m\u001b[1;33m.\u001b[0m\u001b[0msession\u001b[0m\u001b[1;33m.\u001b[0m\u001b[0mrecv\u001b[0m\u001b[1;33m(\u001b[0m\u001b[0mself\u001b[0m\u001b[1;33m.\u001b[0m\u001b[0mstdin_socket\u001b[0m\u001b[1;33m,\u001b[0m \u001b[1;36m0\u001b[0m\u001b[1;33m)\u001b[0m\u001b[1;33m\u001b[0m\u001b[1;33m\u001b[0m\u001b[0m\n\u001b[0m\u001b[0;32m    879\u001b[0m             \u001b[1;32mexcept\u001b[0m \u001b[0mException\u001b[0m\u001b[1;33m:\u001b[0m\u001b[1;33m\u001b[0m\u001b[1;33m\u001b[0m\u001b[0m\n",
      "\u001b[1;32m~\\AppData\\Local\\Continuum\\anaconda3\\lib\\site-packages\\jupyter_client\\session.py\u001b[0m in \u001b[0;36mrecv\u001b[1;34m(self, socket, mode, content, copy)\u001b[0m\n\u001b[0;32m    802\u001b[0m         \u001b[1;32mtry\u001b[0m\u001b[1;33m:\u001b[0m\u001b[1;33m\u001b[0m\u001b[1;33m\u001b[0m\u001b[0m\n\u001b[1;32m--> 803\u001b[1;33m             \u001b[0mmsg_list\u001b[0m \u001b[1;33m=\u001b[0m \u001b[0msocket\u001b[0m\u001b[1;33m.\u001b[0m\u001b[0mrecv_multipart\u001b[0m\u001b[1;33m(\u001b[0m\u001b[0mmode\u001b[0m\u001b[1;33m,\u001b[0m \u001b[0mcopy\u001b[0m\u001b[1;33m=\u001b[0m\u001b[0mcopy\u001b[0m\u001b[1;33m)\u001b[0m\u001b[1;33m\u001b[0m\u001b[1;33m\u001b[0m\u001b[0m\n\u001b[0m\u001b[0;32m    804\u001b[0m         \u001b[1;32mexcept\u001b[0m \u001b[0mzmq\u001b[0m\u001b[1;33m.\u001b[0m\u001b[0mZMQError\u001b[0m \u001b[1;32mas\u001b[0m \u001b[0me\u001b[0m\u001b[1;33m:\u001b[0m\u001b[1;33m\u001b[0m\u001b[1;33m\u001b[0m\u001b[0m\n",
      "\u001b[1;32m~\\AppData\\Local\\Continuum\\anaconda3\\lib\\site-packages\\zmq\\sugar\\socket.py\u001b[0m in \u001b[0;36mrecv_multipart\u001b[1;34m(self, flags, copy, track)\u001b[0m\n\u001b[0;32m    469\u001b[0m         \"\"\"\n\u001b[1;32m--> 470\u001b[1;33m         \u001b[0mparts\u001b[0m \u001b[1;33m=\u001b[0m \u001b[1;33m[\u001b[0m\u001b[0mself\u001b[0m\u001b[1;33m.\u001b[0m\u001b[0mrecv\u001b[0m\u001b[1;33m(\u001b[0m\u001b[0mflags\u001b[0m\u001b[1;33m,\u001b[0m \u001b[0mcopy\u001b[0m\u001b[1;33m=\u001b[0m\u001b[0mcopy\u001b[0m\u001b[1;33m,\u001b[0m \u001b[0mtrack\u001b[0m\u001b[1;33m=\u001b[0m\u001b[0mtrack\u001b[0m\u001b[1;33m)\u001b[0m\u001b[1;33m]\u001b[0m\u001b[1;33m\u001b[0m\u001b[1;33m\u001b[0m\u001b[0m\n\u001b[0m\u001b[0;32m    471\u001b[0m         \u001b[1;31m# have first part already, only loop while more to receive\u001b[0m\u001b[1;33m\u001b[0m\u001b[1;33m\u001b[0m\u001b[1;33m\u001b[0m\u001b[0m\n",
      "\u001b[1;32mzmq/backend/cython/socket.pyx\u001b[0m in \u001b[0;36mzmq.backend.cython.socket.Socket.recv\u001b[1;34m()\u001b[0m\n",
      "\u001b[1;32mzmq/backend/cython/socket.pyx\u001b[0m in \u001b[0;36mzmq.backend.cython.socket.Socket.recv\u001b[1;34m()\u001b[0m\n",
      "\u001b[1;32mzmq/backend/cython/socket.pyx\u001b[0m in \u001b[0;36mzmq.backend.cython.socket._recv_copy\u001b[1;34m()\u001b[0m\n",
      "\u001b[1;32m~\\AppData\\Local\\Continuum\\anaconda3\\lib\\site-packages\\zmq\\backend\\cython\\checkrc.pxd\u001b[0m in \u001b[0;36mzmq.backend.cython.checkrc._check_rc\u001b[1;34m()\u001b[0m\n",
      "\u001b[1;31mKeyboardInterrupt\u001b[0m: ",
      "\nDuring handling of the above exception, another exception occurred:\n",
      "\u001b[1;31mKeyboardInterrupt\u001b[0m                         Traceback (most recent call last)",
      "\u001b[1;32m<ipython-input-99-9e116f9d5b68>\u001b[0m in \u001b[0;36m<module>\u001b[1;34m\u001b[0m\n\u001b[1;32m----> 1\u001b[1;33m \u001b[0mname\u001b[0m \u001b[1;33m=\u001b[0m \u001b[0minput\u001b[0m\u001b[1;33m(\u001b[0m\u001b[1;34m'Enter file:'\u001b[0m\u001b[1;33m)\u001b[0m\u001b[1;33m\u001b[0m\u001b[1;33m\u001b[0m\u001b[0m\n\u001b[0m\u001b[0;32m      2\u001b[0m \u001b[0mhandle\u001b[0m \u001b[1;33m=\u001b[0m \u001b[0mopen\u001b[0m\u001b[1;33m(\u001b[0m\u001b[0mname\u001b[0m\u001b[1;33m)\u001b[0m\u001b[1;33m\u001b[0m\u001b[1;33m\u001b[0m\u001b[0m\n\u001b[0;32m      3\u001b[0m \u001b[1;33m\u001b[0m\u001b[0m\n\u001b[0;32m      4\u001b[0m \u001b[0mcounts\u001b[0m \u001b[1;33m=\u001b[0m \u001b[0mdict\u001b[0m\u001b[1;33m(\u001b[0m\u001b[1;33m)\u001b[0m\u001b[1;33m\u001b[0m\u001b[1;33m\u001b[0m\u001b[0m\n\u001b[0;32m      5\u001b[0m \u001b[1;32mfor\u001b[0m \u001b[0mline\u001b[0m \u001b[1;32min\u001b[0m \u001b[0mhandle\u001b[0m\u001b[1;33m:\u001b[0m\u001b[1;33m\u001b[0m\u001b[1;33m\u001b[0m\u001b[0m\n",
      "\u001b[1;32m~\\AppData\\Local\\Continuum\\anaconda3\\lib\\site-packages\\ipykernel\\kernelbase.py\u001b[0m in \u001b[0;36mraw_input\u001b[1;34m(self, prompt)\u001b[0m\n\u001b[0;32m    851\u001b[0m             \u001b[0mself\u001b[0m\u001b[1;33m.\u001b[0m\u001b[0m_parent_ident\u001b[0m\u001b[1;33m,\u001b[0m\u001b[1;33m\u001b[0m\u001b[1;33m\u001b[0m\u001b[0m\n\u001b[0;32m    852\u001b[0m             \u001b[0mself\u001b[0m\u001b[1;33m.\u001b[0m\u001b[0m_parent_header\u001b[0m\u001b[1;33m,\u001b[0m\u001b[1;33m\u001b[0m\u001b[1;33m\u001b[0m\u001b[0m\n\u001b[1;32m--> 853\u001b[1;33m             \u001b[0mpassword\u001b[0m\u001b[1;33m=\u001b[0m\u001b[1;32mFalse\u001b[0m\u001b[1;33m,\u001b[0m\u001b[1;33m\u001b[0m\u001b[1;33m\u001b[0m\u001b[0m\n\u001b[0m\u001b[0;32m    854\u001b[0m         )\n\u001b[0;32m    855\u001b[0m \u001b[1;33m\u001b[0m\u001b[0m\n",
      "\u001b[1;32m~\\AppData\\Local\\Continuum\\anaconda3\\lib\\site-packages\\ipykernel\\kernelbase.py\u001b[0m in \u001b[0;36m_input_request\u001b[1;34m(self, prompt, ident, parent, password)\u001b[0m\n\u001b[0;32m    881\u001b[0m             \u001b[1;32mexcept\u001b[0m \u001b[0mKeyboardInterrupt\u001b[0m\u001b[1;33m:\u001b[0m\u001b[1;33m\u001b[0m\u001b[1;33m\u001b[0m\u001b[0m\n\u001b[0;32m    882\u001b[0m                 \u001b[1;31m# re-raise KeyboardInterrupt, to truncate traceback\u001b[0m\u001b[1;33m\u001b[0m\u001b[1;33m\u001b[0m\u001b[1;33m\u001b[0m\u001b[0m\n\u001b[1;32m--> 883\u001b[1;33m                 \u001b[1;32mraise\u001b[0m \u001b[0mKeyboardInterrupt\u001b[0m\u001b[1;33m\u001b[0m\u001b[1;33m\u001b[0m\u001b[0m\n\u001b[0m\u001b[0;32m    884\u001b[0m             \u001b[1;32melse\u001b[0m\u001b[1;33m:\u001b[0m\u001b[1;33m\u001b[0m\u001b[1;33m\u001b[0m\u001b[0m\n\u001b[0;32m    885\u001b[0m                 \u001b[1;32mbreak\u001b[0m\u001b[1;33m\u001b[0m\u001b[1;33m\u001b[0m\u001b[0m\n",
      "\u001b[1;31mKeyboardInterrupt\u001b[0m: "
     ]
    }
   ],
   "source": [
    "name = input('Enter file:')\n",
    "handle = open(name)\n",
    "\n",
    "counts = dict()\n",
    "for line in handle:\n",
    "    words = line.split()\n",
    "    for word in words:\n",
    "        counts[word] = counts.get(word,0) + 1\n",
    "\n",
    "bigcount = None\n",
    "bigword = None\n",
    "for word,count in counts.items():\n",
    "    if bigcount is None or count > bigcount:\n",
    "        bigword = word\n",
    "        bigcount = count\n",
    "\n",
    "print(bigword, bigcount)\n"
   ]
  },
  {
   "cell_type": "markdown",
   "metadata": {},
   "source": [
    "# 5. Tuples are like lists\n",
    "\n",
    "Tuples are another kind of sequence that functions much like a list - they have elements which are indexed starting at 0"
   ]
  },
  {
   "cell_type": "code",
   "execution_count": 100,
   "metadata": {},
   "outputs": [
    {
     "name": "stdout",
     "output_type": "stream",
     "text": [
      "Joseph\n",
      "(1, 9, 2)\n",
      "9\n"
     ]
    }
   ],
   "source": [
    "x = ('Glenn', 'Sally', 'Joseph')\n",
    "print(x[2])\n",
    "y = ( 1, 9, 2 )\n",
    "print(y)\n",
    "print(max(y))"
   ]
  },
  {
   "cell_type": "code",
   "execution_count": 101,
   "metadata": {},
   "outputs": [
    {
     "name": "stdout",
     "output_type": "stream",
     "text": [
      "1\n",
      "9\n",
      "2\n"
     ]
    }
   ],
   "source": [
    "for iter in y:\n",
    "    print(iter)\n"
   ]
  },
  {
   "cell_type": "markdown",
   "metadata": {},
   "source": [
    "### Tuples are immutable\n",
    "\n",
    "Unlike a list, once you create a tuple, you cannot alter its contents - similar to a string\n",
    "\n"
   ]
  },
  {
   "cell_type": "code",
   "execution_count": 102,
   "metadata": {},
   "outputs": [
    {
     "name": "stdout",
     "output_type": "stream",
     "text": [
      "[9, 8, 6]\n"
     ]
    }
   ],
   "source": [
    "x = [9, 8, 7]\n",
    "x[2] = 6\n",
    "print(x)"
   ]
  },
  {
   "cell_type": "code",
   "execution_count": 103,
   "metadata": {},
   "outputs": [
    {
     "ename": "TypeError",
     "evalue": "'str' object does not support item assignment",
     "output_type": "error",
     "traceback": [
      "\u001b[1;31m---------------------------------------------------------------------------\u001b[0m",
      "\u001b[1;31mTypeError\u001b[0m                                 Traceback (most recent call last)",
      "\u001b[1;32m<ipython-input-103-3f1bdaf291d4>\u001b[0m in \u001b[0;36m<module>\u001b[1;34m\u001b[0m\n\u001b[0;32m      1\u001b[0m \u001b[0my\u001b[0m \u001b[1;33m=\u001b[0m \u001b[1;34m'ABC'\u001b[0m\u001b[1;33m\u001b[0m\u001b[1;33m\u001b[0m\u001b[0m\n\u001b[1;32m----> 2\u001b[1;33m \u001b[0my\u001b[0m\u001b[1;33m[\u001b[0m\u001b[1;36m2\u001b[0m\u001b[1;33m]\u001b[0m \u001b[1;33m=\u001b[0m \u001b[1;34m'D'\u001b[0m\u001b[1;33m\u001b[0m\u001b[1;33m\u001b[0m\u001b[0m\n\u001b[0m",
      "\u001b[1;31mTypeError\u001b[0m: 'str' object does not support item assignment"
     ]
    }
   ],
   "source": [
    "y = 'ABC'\n",
    "y[2] = 'D'\n"
   ]
  },
  {
   "cell_type": "code",
   "execution_count": 104,
   "metadata": {},
   "outputs": [
    {
     "ename": "TypeError",
     "evalue": "'tuple' object does not support item assignment",
     "output_type": "error",
     "traceback": [
      "\u001b[1;31m---------------------------------------------------------------------------\u001b[0m",
      "\u001b[1;31mTypeError\u001b[0m                                 Traceback (most recent call last)",
      "\u001b[1;32m<ipython-input-104-9fff87775786>\u001b[0m in \u001b[0;36m<module>\u001b[1;34m\u001b[0m\n\u001b[0;32m      1\u001b[0m \u001b[0mz\u001b[0m \u001b[1;33m=\u001b[0m \u001b[1;33m(\u001b[0m\u001b[1;36m5\u001b[0m\u001b[1;33m,\u001b[0m \u001b[1;36m4\u001b[0m\u001b[1;33m,\u001b[0m \u001b[1;36m3\u001b[0m\u001b[1;33m)\u001b[0m\u001b[1;33m\u001b[0m\u001b[1;33m\u001b[0m\u001b[0m\n\u001b[1;32m----> 2\u001b[1;33m \u001b[0mz\u001b[0m\u001b[1;33m[\u001b[0m\u001b[1;36m2\u001b[0m\u001b[1;33m]\u001b[0m \u001b[1;33m=\u001b[0m \u001b[1;36m0\u001b[0m\u001b[1;33m\u001b[0m\u001b[1;33m\u001b[0m\u001b[0m\n\u001b[0m",
      "\u001b[1;31mTypeError\u001b[0m: 'tuple' object does not support item assignment"
     ]
    }
   ],
   "source": [
    "z = (5, 4, 3)\n",
    "z[2] = 0\n"
   ]
  },
  {
   "cell_type": "markdown",
   "metadata": {},
   "source": [
    "### Things not to do With Tuples\n",
    "\n"
   ]
  },
  {
   "cell_type": "code",
   "execution_count": 105,
   "metadata": {},
   "outputs": [
    {
     "ename": "AttributeError",
     "evalue": "'tuple' object has no attribute 'sort'",
     "output_type": "error",
     "traceback": [
      "\u001b[1;31m---------------------------------------------------------------------------\u001b[0m",
      "\u001b[1;31mAttributeError\u001b[0m                            Traceback (most recent call last)",
      "\u001b[1;32m<ipython-input-105-7dfa48dbdbf2>\u001b[0m in \u001b[0;36m<module>\u001b[1;34m\u001b[0m\n\u001b[0;32m      1\u001b[0m \u001b[1;31m# since they are immutable, they cannot be sorted :)\u001b[0m\u001b[1;33m\u001b[0m\u001b[1;33m\u001b[0m\u001b[1;33m\u001b[0m\u001b[0m\n\u001b[0;32m      2\u001b[0m \u001b[0mx\u001b[0m \u001b[1;33m=\u001b[0m \u001b[1;33m(\u001b[0m\u001b[1;36m3\u001b[0m\u001b[1;33m,\u001b[0m \u001b[1;36m2\u001b[0m\u001b[1;33m,\u001b[0m \u001b[1;36m1\u001b[0m\u001b[1;33m)\u001b[0m\u001b[1;33m\u001b[0m\u001b[1;33m\u001b[0m\u001b[0m\n\u001b[1;32m----> 3\u001b[1;33m \u001b[0mx\u001b[0m\u001b[1;33m.\u001b[0m\u001b[0msort\u001b[0m\u001b[1;33m(\u001b[0m\u001b[1;33m)\u001b[0m\u001b[1;33m\u001b[0m\u001b[1;33m\u001b[0m\u001b[0m\n\u001b[0m",
      "\u001b[1;31mAttributeError\u001b[0m: 'tuple' object has no attribute 'sort'"
     ]
    }
   ],
   "source": [
    "# since they are immutable, they cannot be sorted :) \n",
    "x = (3, 2, 1)\n",
    "x.sort()"
   ]
  },
  {
   "cell_type": "code",
   "execution_count": 106,
   "metadata": {},
   "outputs": [
    {
     "ename": "AttributeError",
     "evalue": "'tuple' object has no attribute 'append'",
     "output_type": "error",
     "traceback": [
      "\u001b[1;31m---------------------------------------------------------------------------\u001b[0m",
      "\u001b[1;31mAttributeError\u001b[0m                            Traceback (most recent call last)",
      "\u001b[1;32m<ipython-input-106-83ffbc7043a5>\u001b[0m in \u001b[0;36m<module>\u001b[1;34m\u001b[0m\n\u001b[0;32m      1\u001b[0m \u001b[1;31m# immutable, remember?\u001b[0m\u001b[1;33m\u001b[0m\u001b[1;33m\u001b[0m\u001b[1;33m\u001b[0m\u001b[0m\n\u001b[1;32m----> 2\u001b[1;33m \u001b[0mx\u001b[0m\u001b[1;33m.\u001b[0m\u001b[0mappend\u001b[0m\u001b[1;33m(\u001b[0m\u001b[1;36m5\u001b[0m\u001b[1;33m)\u001b[0m\u001b[1;33m\u001b[0m\u001b[1;33m\u001b[0m\u001b[0m\n\u001b[0m",
      "\u001b[1;31mAttributeError\u001b[0m: 'tuple' object has no attribute 'append'"
     ]
    }
   ],
   "source": [
    "# immutable, remember?\n",
    "x.append(5)\n"
   ]
  },
  {
   "cell_type": "code",
   "execution_count": 107,
   "metadata": {},
   "outputs": [
    {
     "ename": "AttributeError",
     "evalue": "'tuple' object has no attribute 'reverse'",
     "output_type": "error",
     "traceback": [
      "\u001b[1;31m---------------------------------------------------------------------------\u001b[0m",
      "\u001b[1;31mAttributeError\u001b[0m                            Traceback (most recent call last)",
      "\u001b[1;32m<ipython-input-107-1cc9031a0932>\u001b[0m in \u001b[0;36m<module>\u001b[1;34m\u001b[0m\n\u001b[1;32m----> 1\u001b[1;33m \u001b[0mx\u001b[0m\u001b[1;33m.\u001b[0m\u001b[0mreverse\u001b[0m\u001b[1;33m(\u001b[0m\u001b[1;33m)\u001b[0m\u001b[1;33m\u001b[0m\u001b[1;33m\u001b[0m\u001b[0m\n\u001b[0m",
      "\u001b[1;31mAttributeError\u001b[0m: 'tuple' object has no attribute 'reverse'"
     ]
    }
   ],
   "source": [
    "x.reverse()"
   ]
  },
  {
   "cell_type": "code",
   "execution_count": 108,
   "metadata": {},
   "outputs": [
    {
     "data": {
      "text/plain": [
       "['__add__',\n",
       " '__class__',\n",
       " '__contains__',\n",
       " '__delattr__',\n",
       " '__delitem__',\n",
       " '__dir__',\n",
       " '__doc__',\n",
       " '__eq__',\n",
       " '__format__',\n",
       " '__ge__',\n",
       " '__getattribute__',\n",
       " '__getitem__',\n",
       " '__gt__',\n",
       " '__hash__',\n",
       " '__iadd__',\n",
       " '__imul__',\n",
       " '__init__',\n",
       " '__init_subclass__',\n",
       " '__iter__',\n",
       " '__le__',\n",
       " '__len__',\n",
       " '__lt__',\n",
       " '__mul__',\n",
       " '__ne__',\n",
       " '__new__',\n",
       " '__reduce__',\n",
       " '__reduce_ex__',\n",
       " '__repr__',\n",
       " '__reversed__',\n",
       " '__rmul__',\n",
       " '__setattr__',\n",
       " '__setitem__',\n",
       " '__sizeof__',\n",
       " '__str__',\n",
       " '__subclasshook__',\n",
       " 'append',\n",
       " 'clear',\n",
       " 'copy',\n",
       " 'count',\n",
       " 'extend',\n",
       " 'index',\n",
       " 'insert',\n",
       " 'pop',\n",
       " 'remove',\n",
       " 'reverse',\n",
       " 'sort']"
      ]
     },
     "execution_count": 108,
     "metadata": {},
     "output_type": "execute_result"
    }
   ],
   "source": [
    "l = list()\n",
    "dir(l)"
   ]
  },
  {
   "cell_type": "code",
   "execution_count": 109,
   "metadata": {},
   "outputs": [
    {
     "data": {
      "text/plain": [
       "['__add__',\n",
       " '__class__',\n",
       " '__contains__',\n",
       " '__delattr__',\n",
       " '__dir__',\n",
       " '__doc__',\n",
       " '__eq__',\n",
       " '__format__',\n",
       " '__ge__',\n",
       " '__getattribute__',\n",
       " '__getitem__',\n",
       " '__getnewargs__',\n",
       " '__gt__',\n",
       " '__hash__',\n",
       " '__init__',\n",
       " '__init_subclass__',\n",
       " '__iter__',\n",
       " '__le__',\n",
       " '__len__',\n",
       " '__lt__',\n",
       " '__mul__',\n",
       " '__ne__',\n",
       " '__new__',\n",
       " '__reduce__',\n",
       " '__reduce_ex__',\n",
       " '__repr__',\n",
       " '__rmul__',\n",
       " '__setattr__',\n",
       " '__sizeof__',\n",
       " '__str__',\n",
       " '__subclasshook__',\n",
       " 'count',\n",
       " 'index']"
      ]
     },
     "execution_count": 109,
     "metadata": {},
     "output_type": "execute_result"
    }
   ],
   "source": [
    "t = tuple()\n",
    "dir(t)"
   ]
  },
  {
   "cell_type": "markdown",
   "metadata": {},
   "source": [
    "### Tuples are more efficient\n",
    "\n",
    "* Since Python does not have to build tuple structures to be modifiable, they are simpler and more efficient in terms of memory use and performance than lists\n",
    "* So in our program when we are making “temporary variables” we prefer tuples over lists\n",
    "\n",
    "\n",
    "* We can also put a tuple on the left-hand side of an assignment statement\n",
    "* We can even omit the parentheses"
   ]
  },
  {
   "cell_type": "code",
   "execution_count": 110,
   "metadata": {},
   "outputs": [
    {
     "name": "stdout",
     "output_type": "stream",
     "text": [
      "vas\n"
     ]
    }
   ],
   "source": [
    "(x, y) = (1, 'vas')\n",
    "print(y)"
   ]
  },
  {
   "cell_type": "code",
   "execution_count": 111,
   "metadata": {},
   "outputs": [
    {
     "name": "stdout",
     "output_type": "stream",
     "text": [
      "1\n"
     ]
    }
   ],
   "source": [
    "(a, b) = (1, 2)\n",
    "print(a)"
   ]
  },
  {
   "cell_type": "markdown",
   "metadata": {},
   "source": [
    "### Tuples and dictionaries\n",
    "\n",
    "The items() method in dictionaries returns a list of (key, value) tuples\n"
   ]
  },
  {
   "cell_type": "code",
   "execution_count": 112,
   "metadata": {},
   "outputs": [
    {
     "name": "stdout",
     "output_type": "stream",
     "text": [
      "csev 2\n",
      "cwen 4\n",
      "dict_items([('csev', 2), ('cwen', 4)])\n"
     ]
    }
   ],
   "source": [
    "\n",
    "d = dict()\n",
    "d['csev'] = 2\n",
    "d['cwen'] = 4\n",
    "for (k,v) in d.items(): \n",
    "    print(k, v)\n",
    "\n",
    "tups = d.items()\n",
    "print(tups)"
   ]
  },
  {
   "cell_type": "markdown",
   "metadata": {},
   "source": [
    "### Tuples are Comparable\n",
    "\n",
    "The comparison operators work with tuples and other sequences. If the first item is equal, Python goes on to the next element,  and so on, until it finds elements that differ.\n"
   ]
  },
  {
   "cell_type": "code",
   "execution_count": 113,
   "metadata": {},
   "outputs": [
    {
     "data": {
      "text/plain": [
       "True"
      ]
     },
     "execution_count": 113,
     "metadata": {},
     "output_type": "execute_result"
    }
   ],
   "source": [
    "(0, 1, 2) < (5, 1, 2)\n"
   ]
  },
  {
   "cell_type": "code",
   "execution_count": 114,
   "metadata": {},
   "outputs": [
    {
     "data": {
      "text/plain": [
       "True"
      ]
     },
     "execution_count": 114,
     "metadata": {},
     "output_type": "execute_result"
    }
   ],
   "source": [
    "(0, 1, 2000000) < (0, 3, 4)\n"
   ]
  },
  {
   "cell_type": "code",
   "execution_count": 115,
   "metadata": {},
   "outputs": [
    {
     "data": {
      "text/plain": [
       "True"
      ]
     },
     "execution_count": 115,
     "metadata": {},
     "output_type": "execute_result"
    }
   ],
   "source": [
    "( 'Jones', 'Sally' ) < ('Jones', 'Sam')"
   ]
  },
  {
   "cell_type": "code",
   "execution_count": 116,
   "metadata": {},
   "outputs": [
    {
     "data": {
      "text/plain": [
       "True"
      ]
     },
     "execution_count": 116,
     "metadata": {},
     "output_type": "execute_result"
    }
   ],
   "source": [
    "( 'Jones', 'Sally') > ('Adams', 'Sam')"
   ]
  },
  {
   "cell_type": "markdown",
   "metadata": {},
   "source": [
    "### Sorting Lists of Tuples\n",
    "\n",
    "* We can take advantage of the ability to sort a list of tuples to get a sorted version of a dictionary\n",
    "* First we sort the dictionary by the key using the items() method and sorted() function\n",
    "\n"
   ]
  },
  {
   "cell_type": "code",
   "execution_count": 117,
   "metadata": {},
   "outputs": [
    {
     "data": {
      "text/plain": [
       "dict_items([('a', 10), ('b', 1), ('c', 22)])"
      ]
     },
     "execution_count": 117,
     "metadata": {},
     "output_type": "execute_result"
    }
   ],
   "source": [
    "d = {'a':10, 'b':1, 'c':22}\n",
    "d.items()\n"
   ]
  },
  {
   "cell_type": "code",
   "execution_count": 118,
   "metadata": {},
   "outputs": [
    {
     "data": {
      "text/plain": [
       "[('a', 10), ('b', 1), ('c', 22)]"
      ]
     },
     "execution_count": 118,
     "metadata": {},
     "output_type": "execute_result"
    }
   ],
   "source": [
    "sorted(d.items())"
   ]
  },
  {
   "cell_type": "markdown",
   "metadata": {},
   "source": [
    "### Using sorted()\n",
    "\n",
    "We can do this even more directly using the built-in function sorted that takes a sequence as a parameter and returns a sorted sequence\n",
    "\n"
   ]
  },
  {
   "cell_type": "code",
   "execution_count": 119,
   "metadata": {},
   "outputs": [
    {
     "data": {
      "text/plain": [
       "[('a', 10), ('b', 1), ('c', 22)]"
      ]
     },
     "execution_count": 119,
     "metadata": {},
     "output_type": "execute_result"
    }
   ],
   "source": [
    "d = {'a':10, 'b':1, 'c':22}\n",
    "t = sorted(d.items())\n",
    "t"
   ]
  },
  {
   "cell_type": "code",
   "execution_count": 120,
   "metadata": {},
   "outputs": [
    {
     "name": "stdout",
     "output_type": "stream",
     "text": [
      "a 10\n",
      "b 1\n",
      "c 22\n"
     ]
    }
   ],
   "source": [
    "for k, v in sorted(d.items()):\n",
    "    print(k, v)\n",
    "\n"
   ]
  },
  {
   "cell_type": "markdown",
   "metadata": {},
   "source": [
    "### Sort by Values Instead of Key\n",
    "\n",
    "* If we could construct a list of tuples of the form (value, key) we could sort by value\n",
    "* We do this with a for loop that creates a list of tuples  \n"
   ]
  },
  {
   "cell_type": "code",
   "execution_count": 121,
   "metadata": {},
   "outputs": [
    {
     "name": "stdout",
     "output_type": "stream",
     "text": [
      "[(10, 'a'), (1, 'b'), (22, 'c')]\n",
      "[(22, 'c'), (10, 'a'), (1, 'b')]\n"
     ]
    }
   ],
   "source": [
    "c = {'a':10, 'b':1, 'c':22}\n",
    "tmp = list()\n",
    "for k, v in c.items() :\n",
    "    tmp.append( (v, k) )\n",
    "print(tmp)\n",
    "tmp = sorted(tmp, reverse=True)\n",
    "print(tmp)\n"
   ]
  },
  {
   "cell_type": "code",
   "execution_count": 122,
   "metadata": {},
   "outputs": [
    {
     "name": "stdout",
     "output_type": "stream",
     "text": [
      "the 3\n",
      "is 3\n",
      "and 3\n",
      "sun 2\n",
      "yonder 1\n",
      "with 1\n",
      "window 1\n",
      "what 1\n",
      "through 1\n",
      "soft 1\n"
     ]
    }
   ],
   "source": [
    "fhand = open('romeo.txt')\n",
    "counts = {}\n",
    "for line in fhand:\n",
    "    words = line.split()\n",
    "    for word in words:\n",
    "        counts[word] = counts.get(word, 0 ) + 1\n",
    "\n",
    "lst = []\n",
    "for key, val in counts.items():\n",
    "    newtup = (val, key) \n",
    "    lst.append(newtup)\n",
    "\n",
    "lst = sorted(lst, reverse=True)\n",
    "\n",
    "for val, key in lst[:10] :\n",
    "    print(key, val)\n"
   ]
  },
  {
   "cell_type": "code",
   "execution_count": 123,
   "metadata": {},
   "outputs": [
    {
     "name": "stdout",
     "output_type": "stream",
     "text": [
      "[(1, 'b'), (10, 'a'), (22, 'c')]\n"
     ]
    }
   ],
   "source": [
    "# Or even better with list coprehension\n",
    "\n",
    "c = {'a':10, 'b':1, 'c':22}\n",
    "print( sorted( [ (v,k) for k,v in c.items() ] ) )\n"
   ]
  },
  {
   "cell_type": "code",
   "execution_count": null,
   "metadata": {},
   "outputs": [],
   "source": []
  }
 ],
 "metadata": {
  "kernelspec": {
   "display_name": "Python 3",
   "language": "python",
   "name": "python3"
  },
  "language_info": {
   "codemirror_mode": {
    "name": "ipython",
    "version": 3
   },
   "file_extension": ".py",
   "mimetype": "text/x-python",
   "name": "python",
   "nbconvert_exporter": "python",
   "pygments_lexer": "ipython3",
   "version": "3.7.3"
  }
 },
 "nbformat": 4,
 "nbformat_minor": 2
}
