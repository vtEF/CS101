{
 "cells": [
  {
   "cell_type": "markdown",
   "metadata": {},
   "source": [
    "## Why data structures?\n",
    "\n",
    "Data structures are containers that organize and group data together in different ways. When you write code to solve a problem, there will always be data involved—and how you store or structure that data in the computer's memory can have a huge impact on what kinds of things you can do with it and how efficiently you can do those things.\n",
    "\n",
    "In this section, we'll start out by reviewing some basic data structures that you're probably at least partly familiar with already.\n",
    "\n",
    "Then, as we go on in the course, we'll consider the pros and cons of using different structures when solving different types of problems.\n",
    "\n",
    "We'll start with a discussion of a very general structure—a collection.\n",
    "\n",
    "### Properties of collections\n",
    "Collections:\n",
    "\n",
    "* Don't have a particular order (so you can't say \"give me the 3rd element in this collection\")\n",
    "* Don't have to have objects of the same type\n",
    "\n",
    "\n",
    "# Lists \n",
    "\n",
    "Properties of lists:\n",
    "\n",
    "* Have an order (so you can say things like \"give me the 3rd item in the list\")\n",
    "* Have no fixed length (you can add or remove elements)\n",
    "\n",
    "# Arrays vs. lists vs. Python lists\n",
    "\n",
    "The distinction between arrays and lists can be a little confusing, especially because of how Python implements the data structure it calls a \"list\". Below, we'll go over some key points that should make this clearer.\n",
    "\n",
    "## Arrays\n",
    "\n",
    "An array has some things in common with a list. In both cases:\n",
    "\n",
    "* There is a collection of items\n",
    "* The items have an order to them\n",
    "\n",
    "To understand this, it helps to know how arrays are stored in memory. When an array is created, it is always given some initial size—that is, the number of elements it should be able to hold (and how large each element is). The computer then finds a block of memory and sets aside the space for the array.\n",
    "\n",
    "Importantly, the space that gets set aside is one, continuous block. That is, all of the elements of the array are contiguous, meaning that they are all next to one another in memory.\n",
    "\n",
    "Another key characteristic of an array is that all of the elements are the same size.\n",
    "\n",
    "When we represent an array visually, we often draw it as a series of boxes that are all of the same size and all right next to one another:\n",
    "\n",
    "An empty array of ten elements, depicted as a series of boxes.\n",
    "Because all of the elements are \n",
    "\n",
    "1) next to one another and \n",
    "2) the same size, \n",
    "\n",
    "this means that if we know the location of the first element, we can calculate the location of any other element.\n",
    "\n",
    "For example, if the first element in the array is at memory location 00 and the elements are 24 bytes, then the next element would be at location 00 + 24 = 24. And the one after that would be at 24 + 24 = 48, and so on.\n",
    "\n",
    "Since we can easily calculate the location of any item in the array, we can assign each item an index and use that index to quickly and directly access the item.\n",
    "\n",
    "## Lists\n",
    "\n",
    "In contrast, the elements of a list may or may not be next to one another in memory! For example, later in this lesson we'll look at linked lists, where each list item points to the next list item—but where the items themselves may be scattered in different locations of memory. In this case, knowing the location of the first item in the list does not mean you can simply calculate the location of the other items. This means we cannot use indexes to directly access the list items as we would in an array. We'll explore linked lists in more detail shortly.\n",
    "\n",
    "## Python lists\n",
    "\n",
    "In Python, we can create a list using square brackets []. For example:"
   ]
  },
  {
   "cell_type": "code",
   "execution_count": 1,
   "metadata": {},
   "outputs": [
    {
     "data": {
      "text/plain": [
       "['a', 'b', 'c']"
      ]
     },
     "execution_count": 1,
     "metadata": {},
     "output_type": "execute_result"
    }
   ],
   "source": [
    "my_list = ['a', 'b', 'c']\n",
    "my_list"
   ]
  },
  {
   "cell_type": "markdown",
   "metadata": {},
   "source": [
    "And then we can access an item in the list by providing an index for that item:\n",
    "\n"
   ]
  },
  {
   "cell_type": "code",
   "execution_count": 3,
   "metadata": {},
   "outputs": [
    {
     "name": "stdout",
     "output_type": "stream",
     "text": [
      "a\n",
      "b\n",
      "c\n"
     ]
    }
   ],
   "source": [
    "print(my_list[0])\n",
    "print(my_list[1])\n",
    "print(my_list[2])\n"
   ]
  },
  {
   "cell_type": "markdown",
   "metadata": {},
   "source": [
    "But wait, didn't we just say that lists don't have indexes!? This seems to directly contradict that distinction.\n",
    "\n",
    "The reason for this confusion is simply one of terminology. The earlier description we gave of lists is correct in general—that is, usually when you hear someone refer to something as a \"list\", that is what they mean. However, in Python the term is used differently.\n",
    "\n",
    "We will not get into all of the details, but the important thing you need to know for this course is the following: If you were to look under the hood, you would find that a Python list is essentially implemented like an array (specifically, it behaves like a dynamic array, if you're curious). In particular, the elements of a Python list are contiguous in memory, and they can be accessed using an index.\n",
    "\n",
    "In addition to the underlying array, a Python list also includes some additional behavior. For example, you can use things like pop and append methods on a Python list to add or remove items. Using those methods, you can essentially utilize a Python list like a stack (which is another type of data structure we'll discuss shortly).\n",
    "\n",
    "In general, we will try to avoid using things like pop and append, because these are high-level language features that may not be available to you in other languages. In most cases, we will ignore the extra functionality that comes with Python lists, and instead use them as if they were simple arrays. This will allow you to see how the underlying data structures work, regardless of the language you are using to implement those structures.\n",
    "\n",
    "Here's the bottom line:\n",
    "\n",
    "* **Python lists are essentially arrays, but also include additional high-level functionality**\n",
    "* **During this training, we will generally ignore this high-level functionality and treat Python lists as if they were simple arrays**\n",
    "\n",
    "This approach will allow you to develop a better understanding for the underlying data structures.\n",
    "\n",
    "\n",
    "## String Exercises\n",
    "\n",
    "### Intro\n",
    "Strings in Python are arrays of bytes representing unicode characters. In this exercise we are going to practice our work with string manipulation.\n",
    "\n",
    "### Reverse Strings\n",
    "In this first exercise, the goal is to write a function that takes a string as input and then returns the reversed string.\n",
    "\n",
    "For example, if the input is the string \"water\", then the output should be \"retaw\".\n",
    "\n",
    "While you're working on the function and trying to figure out how to manipulate the string, it may help to use the print statement so you can see the effects of whatever you're trying.\n"
   ]
  },
  {
   "cell_type": "code",
   "execution_count": null,
   "metadata": {},
   "outputs": [],
   "source": [
    "# \n",
    "\n",
    "def string_reverser(our_string):\n",
    "\n",
    "    \"\"\"\n",
    "    Reverse the input string\n",
    "\n",
    "    Args:\n",
    "       our_string(string): String to be reversed\n",
    "    Returns:\n",
    "       string: The reversed string\n",
    "    \"\"\"\n",
    "\n",
    "   # TODO: Write your solution here\n",
    "\n",
    "# Test Cases\n",
    "\n",
    "print (\"Pass\" if ('retaw' == string_reverser('water')) else \"Fail\")\n",
    "print (\"Pass\" if ('!noitalupinam gnirts gnicitcarP' == string_reverser('Practicing string manipulation!')) else \"Fail\")\n",
    "print (\"Pass\" if ('3432 :si edoc esuoh ehT' == string_reverser('The house code is: 2343')) else \"Fail\")\n"
   ]
  },
  {
   "cell_type": "markdown",
   "metadata": {},
   "source": [
    "Anagrams\n",
    "The goal of this exercise is to write some code to determine if two strings are anagrams of each other.\n",
    "\n",
    "An anagram is a word (or phrase) that is formed by rearranging the letters of another word (or phrase).\n",
    "\n",
    "For example:\n",
    "\n",
    "\"rat\" is an anagram of \"art\"\n",
    "\"alert\" is an anagram of \"alter\"\n",
    "\"Slot machines\" is an anagram of \"Cash lost in me\"\n",
    "Your function should take two strings as input and return True if the two words are anagrams and False if they are not.\n",
    "\n",
    "You can assume the following about the input strings:\n",
    "\n",
    "* No punctuation\n",
    "* No numbers\n",
    "* No special characters"
   ]
  },
  {
   "cell_type": "code",
   "execution_count": null,
   "metadata": {},
   "outputs": [],
   "source": [
    "def anagram_checker(str1, str2):\n",
    "\n",
    "    \"\"\"\n",
    "    Check if the input strings are anagrams\n",
    "\n",
    "    Args:\n",
    "       str1(string),str2(string): Strings to be checked if they are anagrams\n",
    "    Returns:\n",
    "       bool: If strings are anagrams or not\n",
    "    \"\"\"\n",
    "\n",
    "    # TODO: Write your solution here\n",
    "\n",
    "    return False\n"
   ]
  },
  {
   "cell_type": "markdown",
   "metadata": {},
   "source": [
    "### Hamming Distance\n",
    "\n",
    "In information theory, the Hamming distance between two strings of equal length is the number of positions at which the corresponding symbols are different. Calculate the Hamming distace for the following test cases."
   ]
  },
  {
   "cell_type": "code",
   "execution_count": null,
   "metadata": {},
   "outputs": [],
   "source": [
    "def hamming_distance(str1, str2):\n",
    "\n",
    "    \"\"\"\n",
    "    Calculate the hamming distance of the two strings\n",
    "\n",
    "    Args:\n",
    "       str1(string),str2(string): Strings to be used for finding the hamming distance\n",
    "    Returns:\n",
    "       int: Hamming Distance\n",
    "    \"\"\"\n",
    "    \n",
    "    # TODO: Write your solution here\n",
    "    \n",
    "    pass"
   ]
  },
  {
   "cell_type": "markdown",
   "metadata": {},
   "source": [
    "# Linked Lists\n",
    "\n",
    "A **Linked list** is a linear collection of data elements, whose order is not given by their physical placement in memory. Instead, each element points to the next. It is a data structure consisting of a collection of nodes which together represent a sequence. In its most basic form, each node contains: data, and a reference (in other words, a link) to the next node in the sequence. This structure allows for efficient insertion or removal of elements from any position in the sequence during iteration. More complex variants add additional links, allowing more efficient insertion or removal of nodes at arbitrary positions. A drawback of linked lists is that access time is linear (and difficult to pipeline). Faster access, such as random access, is not feasible. Arrays have better cache locality compared to linked lists.\n",
    "\n",
    "## Implementing and traversing a linked list\n",
    "\n",
    "We'll get some practice implementing a basic linked list—something like this:  \n",
    "\n",
    "<img src=\"files/pics/linked_list_head_none.png\">\n"
   ]
  },
  {
   "cell_type": "markdown",
   "metadata": {},
   "source": [
    "1. Create a Node class with value and next attributes\n",
    "2. Use the class to create the head node with the value 2\n",
    "3. Create and link a second node containing the value 1\n",
    "4. Try printing the values (1 and 2) on the nodes you created (to make sure that you can access them!)"
   ]
  },
  {
   "cell_type": "code",
   "execution_count": null,
   "metadata": {},
   "outputs": [],
   "source": [
    "# Code\n"
   ]
  },
  {
   "cell_type": "code",
   "execution_count": 7,
   "metadata": {},
   "outputs": [
    {
     "name": "stdout",
     "output_type": "stream",
     "text": [
      "1\n"
     ]
    }
   ],
   "source": [
    "# Solution \n",
    "\n",
    "class Node:\n",
    "    def __init__(self, value):\n",
    "        self.value = value\n",
    "        self.next = None\n",
    "\n",
    "head = Node(2)\n",
    "head.next = Node(1)\n",
    "\n",
    "print(head.next.value)"
   ]
  },
  {
   "cell_type": "markdown",
   "metadata": {},
   "source": [
    "At this point, our linked list looks like this:  \n",
    "\n",
    "<img src=\"files/pics/linked_list_two_nodes.png\">\n"
   ]
  },
  {
   "cell_type": "code",
   "execution_count": 8,
   "metadata": {},
   "outputs": [
    {
     "name": "stdout",
     "output_type": "stream",
     "text": [
      "2\n",
      "1\n"
     ]
    }
   ],
   "source": [
    "class Node:\n",
    "    def __init__(self, value):\n",
    "        self.value = value\n",
    "        self.next = None\n",
    "\n",
    "head = Node(2)\n",
    "head.next = Node(1)\n",
    "\n",
    "print(head.value)\n",
    "print(head.next.value)"
   ]
  },
  {
   "cell_type": "markdown",
   "metadata": {},
   "source": [
    "Our goal is to extend the list until it looks like this:\n",
    "\n",
    "<img src=\"files/pics/linked_list_head_none.png\">\n",
    "\n",
    "To do this, we need to create three more nodes, and we need to attach each one to the `next` attribute of the node that comes before it. Notice that we don't have a direct reference to any of the nodes other than the `head` node!\n",
    "\n",
    "See if you can write the code to finish creating the above list:\n",
    "* Add three more nodes to the list, with the values `4`, `3`, and `5`"
   ]
  },
  {
   "cell_type": "code",
   "execution_count": null,
   "metadata": {},
   "outputs": [],
   "source": [
    "# Code"
   ]
  },
  {
   "cell_type": "code",
   "execution_count": 9,
   "metadata": {},
   "outputs": [],
   "source": [
    "# Solution \n",
    "\n",
    "head.next.next = Node(4)\n",
    "head.next.next.next = Node(3)\n",
    "head.next.next.next.next = Node(5)"
   ]
  },
  {
   "cell_type": "markdown",
   "metadata": {},
   "source": [
    "Let's print the values of all the nodes to check if it worked. If you successfully created (and linked) all the nodes, the following should print out `2`, `1`, `4`, `3`, `5`:"
   ]
  },
  {
   "cell_type": "code",
   "execution_count": 10,
   "metadata": {},
   "outputs": [
    {
     "name": "stdout",
     "output_type": "stream",
     "text": [
      "2\n",
      "1\n",
      "4\n",
      "3\n",
      "5\n"
     ]
    }
   ],
   "source": [
    "print(head.value)\n",
    "print(head.next.value)\n",
    "print(head.next.next.value)\n",
    "print(head.next.next.next.value)\n",
    "print(head.next.next.next.next.value)"
   ]
  },
  {
   "cell_type": "markdown",
   "metadata": {},
   "source": [
    "## Traversing the list\n",
    "\n",
    "OK, great! We successfully created a simple linked list. But printing all the values like we did above was pretty tedious. What if we had a list with 1,000 nodes?\n",
    "\n",
    "Let's see how we might traverse the list and print all the values, no matter how long it might be."
   ]
  },
  {
   "cell_type": "code",
   "execution_count": null,
   "metadata": {},
   "outputs": [],
   "source": [
    "# Code\n"
   ]
  },
  {
   "cell_type": "code",
   "execution_count": 11,
   "metadata": {},
   "outputs": [
    {
     "name": "stdout",
     "output_type": "stream",
     "text": [
      "2\n",
      "1\n",
      "4\n",
      "3\n",
      "5\n"
     ]
    }
   ],
   "source": [
    "# Solution \n",
    "\n",
    "def print_linked_list(head):\n",
    "    current_node = head\n",
    "    \n",
    "    while current_node is not None:\n",
    "        print(current_node.value)\n",
    "        current_node = current_node.next\n",
    "        \n",
    "print_linked_list(head)"
   ]
  },
  {
   "cell_type": "markdown",
   "metadata": {},
   "source": [
    "### Creating a linked list using iteration\n",
    "\n",
    "Previously, we created a linked list using a very manual and tedious method. We called next multiple times on our head node.\n",
    "\n",
    "Now that we know about iterating over or traversing the linked list, is there a way we can use that to create a linked list?\n",
    "\n",
    "We've provided our solution below—but it might be a good exercise to see what you can come up with first. Here's the goal:\n",
    "\n",
    "See if you can write the code for the **create_linked_list** function below\n",
    "The function should take a Python list of values as input and return the head of a linked list that has those values\n",
    "There's some test code, and also a solution, below—give it a try for yourself first, but don't hesitate to look over the solution if you get stuck"
   ]
  },
  {
   "cell_type": "code",
   "execution_count": null,
   "metadata": {},
   "outputs": [],
   "source": [
    "# Code\n",
    "\n",
    "def create_linked_list(input_list):\n",
    "    \"\"\"\n",
    "    Function to create a linked list\n",
    "    Args:\n",
    "        input_list: a list of integers\n",
    "    Returns: \n",
    "        head: head node of the linked list\n",
    "    \"\"\"\n",
    "    head = None\n",
    "    return head"
   ]
  },
  {
   "cell_type": "code",
   "execution_count": 23,
   "metadata": {},
   "outputs": [
    {
     "name": "stdout",
     "output_type": "stream",
     "text": [
      "Pass\n",
      "Pass\n",
      "Pass\n"
     ]
    }
   ],
   "source": [
    "### Test Code\n",
    "def test_function(input_list, head):\n",
    "    try:\n",
    "        if len(input_list) == 0:\n",
    "            if head is not None:\n",
    "                print(\"Fail\")\n",
    "                return\n",
    "        for value in input_list:\n",
    "            if head.value != value:\n",
    "                print(\"Fail\")\n",
    "                return\n",
    "            else:\n",
    "                head = head.next\n",
    "        print(\"Pass\")\n",
    "    except Exception as e:\n",
    "        print(\"Fail: \"  + e)\n",
    "        \n",
    "        \n",
    "\n",
    "input_list = [1, 2, 3, 4, 5, 6]\n",
    "head = create_linked_list(input_list)\n",
    "test_function(input_list, head)\n",
    "\n",
    "input_list = [1]\n",
    "head = create_linked_list(input_list)\n",
    "test_function(input_list, head)\n",
    "\n",
    "input_list = []\n",
    "head = create_linked_list(input_list)\n",
    "test_function(input_list, head)\n"
   ]
  },
  {
   "cell_type": "code",
   "execution_count": 13,
   "metadata": {},
   "outputs": [],
   "source": [
    "# Solution\n",
    "\n",
    "def create_linked_list(input_list):\n",
    "    head = None\n",
    "    for value in input_list:\n",
    "        if head is None:\n",
    "            head = Node(value)    \n",
    "        else:\n",
    "        # Move to the tail (the last node)\n",
    "            current_node = head\n",
    "            while current_node.next:\n",
    "                current_node = current_node.next\n",
    "        \n",
    "            current_node.next = Node(value)\n",
    "    return head"
   ]
  },
  {
   "cell_type": "markdown",
   "metadata": {},
   "source": [
    "## Types of Linked Lists\n",
    "\n",
    "In this notebook we'll explore three versions of linked-lists: singly-linked lists, doubly-linked lists, and circular lists.\n",
    "\n",
    "### Singly Linked Lists\n",
    "\n",
    "In this linked list, each node in the list is connected only to the next node in the list. \n",
    "\n",
    "![Singly Linked List](files/pics/singly_linked_list.png)\n",
    "\n",
    "This connection is typically implemented by setting the `next` attribute on a node object itself."
   ]
  },
  {
   "cell_type": "code",
   "execution_count": 15,
   "metadata": {},
   "outputs": [],
   "source": [
    "class Node:\n",
    "    def __init__(self, value):\n",
    "        self.value = value\n",
    "        self.next = None"
   ]
  },
  {
   "cell_type": "code",
   "execution_count": 16,
   "metadata": {},
   "outputs": [],
   "source": [
    "# A small linked list:\n",
    "\n",
    "head = Node(1)\n",
    "head.next = Node(2)"
   ]
  },
  {
   "cell_type": "markdown",
   "metadata": {},
   "source": [
    "Above we have a simple linked list with two elements, `[1, 2]`. Usually you'll want to create a `LinkedList` class as a wrapper for the nodes themselves and to provide common methods that operate on the list. For example you can implement an `append` method that adds a value to the end of the list. Note that if we're only tracking the head of the list, this runs in linear time - $O(N)$ - since you have to iterate through the entire list to get to the tail node. However, prepending (adding to the head of the list) can be done in constant $O(1)$ time. You'll implement this `prepend` method in the Linked List Practice notebook."
   ]
  },
  {
   "cell_type": "code",
   "execution_count": 17,
   "metadata": {},
   "outputs": [],
   "source": [
    "class LinkedList:\n",
    "    def __init__(self):\n",
    "        self.head = None\n",
    "        \n",
    "    def append(self, value):\n",
    "        if self.head is None:\n",
    "            self.head = Node(value)\n",
    "            return\n",
    "        \n",
    "        # Move to the tail (the last node)\n",
    "        node = self.head\n",
    "        while node.next:\n",
    "            node = node.next\n",
    "        \n",
    "        node.next = Node(value)\n",
    "        return"
   ]
  },
  {
   "cell_type": "code",
   "execution_count": 18,
   "metadata": {},
   "outputs": [
    {
     "name": "stdout",
     "output_type": "stream",
     "text": [
      "1\n",
      "2\n",
      "4\n"
     ]
    }
   ],
   "source": [
    "linked_list = LinkedList()\n",
    "linked_list.append(1)\n",
    "linked_list.append(2)\n",
    "linked_list.append(4)\n",
    "\n",
    "node = linked_list.head\n",
    "while node:\n",
    "    print(node.value)\n",
    "    node = node.next"
   ]
  },
  {
   "cell_type": "markdown",
   "metadata": {},
   "source": [
    ">**Exercise:** Add a method `to_list()` to `LinkedList` that converts a linked list back into a Python list."
   ]
  },
  {
   "cell_type": "code",
   "execution_count": 20,
   "metadata": {},
   "outputs": [],
   "source": [
    "# Code\n",
    "class LinkedList:\n",
    "    def __init__(self):\n",
    "        self.head = None\n",
    "        \n",
    "    def append(self, value):\n",
    "        if self.head is None:\n",
    "            self.head = Node(value)\n",
    "            return\n",
    "        \n",
    "        # Move to the tail (the last node)\n",
    "        node = self.head\n",
    "        while node.next:\n",
    "            node = node.next\n",
    "        \n",
    "        node.next = Node(value)\n",
    "        return\n",
    "    \n",
    "    def to_list(self):\n",
    "        \n",
    "        # TODO: Write function to turn Linked List into Python List\n",
    "        \n",
    "        pass"
   ]
  },
  {
   "cell_type": "code",
   "execution_count": 22,
   "metadata": {},
   "outputs": [
    {
     "name": "stdout",
     "output_type": "stream",
     "text": [
      "Pass\n"
     ]
    }
   ],
   "source": [
    "# Test your method here\n",
    "linked_list = LinkedList()\n",
    "linked_list.append(3)\n",
    "linked_list.append(2)\n",
    "linked_list.append(-1)\n",
    "linked_list.append(0.2)\n",
    "\n",
    "print (\"Pass\" if  (linked_list.to_list() == [3, 2, -1, 0.2]) else \"Fail\")"
   ]
  },
  {
   "cell_type": "markdown",
   "metadata": {},
   "source": [
    "### Doubly Linked Lists\n",
    "\n",
    "This type of list has connections backwards and forwards through the list.\n",
    "\n",
    "![Doubly Linked List](files/pics/doubly_linked_list.png)"
   ]
  },
  {
   "cell_type": "code",
   "execution_count": 24,
   "metadata": {},
   "outputs": [],
   "source": [
    "class DoubleNode:\n",
    "    def __init__(self, value):\n",
    "        self.value = value\n",
    "        self.next = None\n",
    "        self.previous = None"
   ]
  },
  {
   "cell_type": "markdown",
   "metadata": {},
   "source": [
    "Now that we have backwards connections it makes sense to track the tail of the linked list as well as the head.\n",
    "\n",
    ">**Exercise:** Implement a doubly linked list that can append to the tail in constant time. Make sure to include forward and backward connections when adding a new node to the list."
   ]
  },
  {
   "cell_type": "code",
   "execution_count": 25,
   "metadata": {},
   "outputs": [],
   "source": [
    "class DoublyLinkedList:\n",
    "    def __init__(self):\n",
    "        self.head = None\n",
    "        self.tail = None\n",
    "    \n",
    "    def append(self, value):\n",
    "        \n",
    "        # TODO: Implement this method to append to the tail of the list\n",
    "        \n",
    "        pass"
   ]
  },
  {
   "cell_type": "code",
   "execution_count": 27,
   "metadata": {},
   "outputs": [
    {
     "name": "stdout",
     "output_type": "stream",
     "text": [
      "Going forward through the list, should print 1, -2, 4\n",
      "1\n",
      "-2\n",
      "4\n",
      "\n",
      "Going backward through the list, should print 4, -2, 1\n",
      "4\n",
      "-2\n",
      "1\n"
     ]
    }
   ],
   "source": [
    "# Test your class here\n",
    "\n",
    "linked_list = DoublyLinkedList()\n",
    "linked_list.append(1)\n",
    "linked_list.append(-2)\n",
    "linked_list.append(4)\n",
    "\n",
    "print(\"Going forward through the list, should print 1, -2, 4\")\n",
    "node = linked_list.head\n",
    "while node:\n",
    "    print(node.value)\n",
    "    node = node.next\n",
    "\n",
    "print(\"\\nGoing backward through the list, should print 4, -2, 1\")\n",
    "node = linked_list.tail\n",
    "while node:\n",
    "    print(node.value)\n",
    "    node = node.previous"
   ]
  },
  {
   "cell_type": "markdown",
   "metadata": {},
   "source": [
    "### Circular Linked Lists\n",
    "\n",
    "Circular linked lists occur when the chain of nodes links back to itself somewhere. For example `NodeA -> NodeB -> NodeC -> NodeD -> NodeB` is a circular list because `NodeD` points back to `NodeB` creating a loop `NodeB -> NodeC -> NodeD -> NodeB`. \n",
    "\n",
    "![Circular Linked List](files/pics/circular_linked_list.png)\n",
    "\n",
    "A circular linked list is typically considered pathological because when you try to iterate through it, you'll never find the end. We usually want to detect if there is a loop in our linked lists to avoid these problems. You'll get a chance to implement a solution for detecting loops later in the lesson.\n",
    "\n",
    "## Linked List Practice\n",
    "\n",
    "Implement a linked list class. Your class should be able to:\n",
    "\n",
    "+ Append data to the tail of the list and prepend to the head\n",
    "+ Search the linked list for a value and return the node\n",
    "+ Remove a node\n",
    "+ Pop, which means to return the first node's value and delete the node from the list\n",
    "+ Insert data at some position in the list\n",
    "+ Return the size (length) of the linked list"
   ]
  },
  {
   "cell_type": "code",
   "execution_count": 28,
   "metadata": {},
   "outputs": [],
   "source": [
    "class Node:\n",
    "    def __init__(self, value):\n",
    "        self.value = value\n",
    "        self.next = None"
   ]
  },
  {
   "cell_type": "code",
   "execution_count": 29,
   "metadata": {},
   "outputs": [],
   "source": [
    "class LinkedList:\n",
    "    def __init__(self):\n",
    "        self.head = None\n",
    "        \n",
    "    def prepend(self, value):\n",
    "        \"\"\" Prepend a value to the beginning of the list. \"\"\"\n",
    "        \n",
    "        # TODO: Write function to prepend here\n",
    "        \n",
    "        pass\n",
    "    \n",
    "    def append(self, value):\n",
    "        \"\"\" Append a value to the end of the list. \"\"\"\n",
    "        \n",
    "        # TODO: Write function to append here\n",
    "        \n",
    "        pass\n",
    "    \n",
    "    def search(self, value):\n",
    "        \"\"\" Search the linked list for a node with the requested value and return the node. \"\"\"\n",
    "        \n",
    "        # TODO: Write function to search here\n",
    "        \n",
    "        pass\n",
    "    \n",
    "    def remove(self, value):\n",
    "        \"\"\" Remove first occurrence of value. \"\"\"\n",
    "        \n",
    "        # TODO: Write function to remove here\n",
    "        \n",
    "        pass\n",
    "    \n",
    "    def pop(self):\n",
    "        \"\"\" Return the first node's value and remove it from the list. \"\"\"\n",
    "        \n",
    "        # TODO: Write function to pop here\n",
    "        \n",
    "        pass\n",
    "    \n",
    "    def insert(self, value, pos):\n",
    "        \"\"\" Insert value at pos position in the list. If pos is larger than the\n",
    "            length of the list, append to the end of the list. \"\"\"\n",
    "        \n",
    "        # TODO: Write function to insert here\n",
    "        \n",
    "        pass\n",
    "    \n",
    "    def size(self):\n",
    "        \"\"\" Return the size or length of the linked list. \"\"\"\n",
    "        \n",
    "        \n",
    "        # TODO: Write function to get size here\n",
    "        \n",
    "        pass\n",
    "    \n",
    "    def to_list(self):\n",
    "        out = []\n",
    "        node = self.head\n",
    "        while node:\n",
    "            out.append(node.value)\n",
    "            node = node.next\n",
    "        return out"
   ]
  },
  {
   "cell_type": "code",
   "execution_count": 32,
   "metadata": {},
   "outputs": [],
   "source": [
    "## Test your implementation here\n",
    "\n",
    "# Test prepend\n",
    "linked_list = LinkedList()\n",
    "linked_list.prepend(1)\n",
    "assert linked_list.to_list() == [1], f\"list contents: {linked_list.to_list()}\"\n",
    "linked_list.append(3)\n",
    "linked_list.prepend(2)\n",
    "assert linked_list.to_list() == [2, 1, 3], f\"list contents: {linked_list.to_list()}\"\n",
    "    \n",
    "# Test append\n",
    "linked_list = LinkedList()\n",
    "linked_list.append(1)\n",
    "assert linked_list.to_list() == [1], f\"list contents: {linked_list.to_list()}\"\n",
    "linked_list.append(3)\n",
    "assert linked_list.to_list() == [1, 3], f\"list contents: {linked_list.to_list()}\"\n",
    "\n",
    "# Test search\n",
    "linked_list.prepend(2)\n",
    "linked_list.prepend(1)\n",
    "linked_list.append(4)\n",
    "linked_list.append(3)\n",
    "assert linked_list.search(1).value == 1, f\"list contents: {linked_list.to_list()}\"\n",
    "assert linked_list.search(4).value == 4, f\"list contents: {linked_list.to_list()}\"\n",
    "\n",
    "# Test remove\n",
    "linked_list.remove(1)\n",
    "assert linked_list.to_list() == [2, 1, 3, 4, 3], f\"list contents: {linked_list.to_list()}\"\n",
    "linked_list.remove(3)\n",
    "assert linked_list.to_list() == [2, 1, 4, 3], f\"list contents: {linked_list.to_list()}\"\n",
    "linked_list.remove(3)\n",
    "assert linked_list.to_list() == [2, 1, 4], f\"list contents: {linked_list.to_list()}\"\n",
    "\n",
    "# Test pop\n",
    "value = linked_list.pop()\n",
    "assert value == 2, f\"list contents: {linked_list.to_list()}\"\n",
    "assert linked_list.head.value == 1, f\"list contents: {linked_list.to_list()}\"\n",
    "\n",
    "# Test insert \n",
    "linked_list.insert(5, 0)\n",
    "assert linked_list.to_list() == [5, 1, 4], f\"list contents: {linked_list.to_list()}\"\n",
    "linked_list.insert(2, 1)\n",
    "assert linked_list.to_list() == [5, 2, 1, 4], f\"list contents: {linked_list.to_list()}\"\n",
    "linked_list.insert(3, 6)\n",
    "assert linked_list.to_list() == [5, 2, 1, 4, 3], f\"list contents: {linked_list.to_list()}\"\n",
    "\n",
    "# Test size\n",
    "assert linked_list.size() == 5, f\"list contents: {linked_list.to_list()}\""
   ]
  },
  {
   "cell_type": "markdown",
   "metadata": {},
   "source": [
    "# Reversing a linked list exercise\n",
    "\n",
    "Given a singly linked list, return another linked list that is the reverse of the first."
   ]
  },
  {
   "cell_type": "code",
   "execution_count": 33,
   "metadata": {},
   "outputs": [],
   "source": [
    "# Helper Code\n",
    "\n",
    "class Node:\n",
    "    def __init__(self, value):\n",
    "        self.value = value\n",
    "        self.next = None\n",
    "\n",
    "class LinkedList:\n",
    "    def __init__(self):\n",
    "        self.head = None\n",
    "        \n",
    "    def append(self, value):\n",
    "        if self.head is None:\n",
    "            self.head = Node(value)\n",
    "            return\n",
    "        \n",
    "        node = self.head\n",
    "        while node.next:\n",
    "            node = node.next\n",
    "\n",
    "        node.next = Node(value)\n",
    "        \n",
    "    def __iter__(self):\n",
    "        node = self.head\n",
    "        while node:\n",
    "            yield node.value\n",
    "            node = node.next\n",
    "            \n",
    "    def __repr__(self):\n",
    "        return str([v for v in self])"
   ]
  },
  {
   "cell_type": "code",
   "execution_count": null,
   "metadata": {},
   "outputs": [],
   "source": [
    "def reverse(linked_list):\n",
    "    \"\"\"\n",
    "    Reverse the inputted linked list\n",
    "\n",
    "    Args:\n",
    "       linked_list(obj): Linked List to be reversed\n",
    "    Returns:\n",
    "       obj: Reveresed Linked List\n",
    "    \"\"\"\n",
    "    \n",
    "    # TODO: Write your function to reverse linked lists here\n",
    "    \n",
    "    pass"
   ]
  },
  {
   "cell_type": "code",
   "execution_count": 40,
   "metadata": {},
   "outputs": [
    {
     "name": "stdout",
     "output_type": "stream",
     "text": [
      "Pass\n"
     ]
    }
   ],
   "source": [
    "llist = LinkedList()\n",
    "for value in [4,2,5,1,-3,0]:\n",
    "    llist.append(value)\n",
    "\n",
    "flipped = reverse(llist)\n",
    "is_correct = list(flipped) == list([0,-3,1,5,2,4]) and list(llist) == list(reverse(flipped))\n",
    "print(\"Pass\" if is_correct else \"Fail\")"
   ]
  }
 ],
 "metadata": {
  "kernelspec": {
   "display_name": "Python 3",
   "language": "python",
   "name": "python3"
  },
  "language_info": {
   "codemirror_mode": {
    "name": "ipython",
    "version": 3
   },
   "file_extension": ".py",
   "mimetype": "text/x-python",
   "name": "python",
   "nbconvert_exporter": "python",
   "pygments_lexer": "ipython3",
   "version": "3.7.3"
  }
 },
 "nbformat": 4,
 "nbformat_minor": 2
}
