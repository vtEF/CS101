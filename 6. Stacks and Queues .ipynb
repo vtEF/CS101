{
 "cells": [
  {
   "cell_type": "markdown",
   "metadata": {},
   "source": [
    "# Implement a stack using an array\n",
    "\n",
    "In this notebook, we'll look at one way to implement a stack.\n",
    "\n",
    "![Arrays and stacks.](pics/containers_and_stacks.png)\n",
    "\n",
    "Below we'll go through the implementation step by step. \n",
    "\n",
    "When you first try to remember and write out the code for yourself, this effort helps you understand and remember the ideas better. \n",
    "\n",
    "## Functionality\n",
    "Our goal will be to implement a `Stack` class that has the following behaviors:\n",
    "\n",
    "1. `push` - adds an item to the top of the stack\n",
    "2. `pop` - removes an item from the top of the stack (and returns the value of that item)\n",
    "3. `size` - returns the size of the stack\n",
    "4. `top` - returns the value of the item at the top of stack (without removing that item)\n",
    "5. `is_empty` - returns `True` if the stack is empty and `False` otherwise\n",
    "\n",
    "\n",
    "In the cell below:\n",
    "* Define a class named `Stack` and add the `__init__` method\n",
    "* Initialize the `arr` attribute with an array containing 10 elements, like this: `[0, 0, 0, 0, 0, 0, 0, 0, 0, 0]`\n",
    "* Initialize the `next_index` attribute\n",
    "* Initialize the `num_elements` attribute"
   ]
  },
  {
   "cell_type": "code",
   "execution_count": 2,
   "metadata": {},
   "outputs": [],
   "source": [
    "## 1. Create and initialize the `Stack` class\n",
    "\n",
    "class Stack:\n",
    "    \n",
    "    def __init__(self, initial_size = 10):\n",
    "        self.arr = [0 for _ in range(initial_size)]\n",
    "        self.next_index = 0\n",
    "        self.num_elements = 0\n"
   ]
  },
  {
   "cell_type": "markdown",
   "metadata": {},
   "source": [
    "Let's check that the array is being initialized correctly. We can create a `Stack` object and access the `arr` attribute, and we should see our ten-element array:"
   ]
  },
  {
   "cell_type": "code",
   "execution_count": 3,
   "metadata": {},
   "outputs": [
    {
     "name": "stdout",
     "output_type": "stream",
     "text": [
      "[0, 0, 0, 0, 0, 0, 0, 0, 0, 0]\n",
      "Pass\n"
     ]
    }
   ],
   "source": [
    "foo = Stack()\n",
    "print(foo.arr)\n",
    "print(\"Pass\" if foo.arr == [0, 0, 0, 0, 0, 0, 0, 0, 0, 0] else \"Fail\")"
   ]
  },
  {
   "cell_type": "markdown",
   "metadata": {},
   "source": [
    "## 2. Add the `push` method\n",
    "Next, we need to define our `push` method, so that we have a way of adding elements to the top of the stack.\n",
    "\n",
    "Now give it a try for yourself. Here's are the key things to include:\n",
    "* The method will need to have a parameter for the value that you want to push\n",
    "* Remember that `next_index` will have the index for where the value should be added\n",
    "* Once you've added the value, you'll want to increment both `next_index` and `num_elements`"
   ]
  },
  {
   "cell_type": "code",
   "execution_count": 6,
   "metadata": {},
   "outputs": [],
   "source": [
    "class Stack:\n",
    "    \n",
    "    def __init__(self, initial_size = 10):\n",
    "        self.arr = [0 for _ in range(initial_size)]\n",
    "        self.next_index = 0\n",
    "        self.num_elements = 0\n",
    "        \n",
    "    # TODO Add the push method\n",
    "    def push(self, data):\n",
    "        self.arr[self.next_index] = data\n",
    "        self.next_index += 1\n",
    "        self.num_elements += 1"
   ]
  },
  {
   "cell_type": "markdown",
   "metadata": {},
   "source": [
    "## 3. Handle full capacity\n",
    "\n",
    "Great, the `push` method seems to be working fine! But we know that it's not done yet. If we keep pushing items onto the stack, eventually we will run out of room in the array. Currently, that will cause an `Index out of range` error. In order to avoid a stack overflow, we need to check the capacity of the array before pushing an item to the stack. And if the array is full, we need to increase the array size before pushing the new element.\n",
    "\n",
    "\n",
    "First, define the `_handle_stack_capacity_full` method:\n",
    "* Define an `old_arr` variable and assign it the current (full) array\n",
    "* Create a new (larger) array and assign it to `arr`.\n",
    "* Iterate over the values in the old array and copy them to the new array.\n",
    "\n",
    "Then, in the `push` method:\n",
    "* Add a conditional to check if the array is full; if it is, call the `_handle_stack_capacity_full`\n"
   ]
  },
  {
   "cell_type": "code",
   "execution_count": null,
   "metadata": {},
   "outputs": [],
   "source": [
    "class Stack:\n",
    "    \n",
    "    def __init__(self, initial_size = 10):\n",
    "        self.arr = [0 for _ in range(initial_size)]\n",
    "        self.next_index = 0\n",
    "        self.num_elements = 0\n",
    "        \n",
    "    def push(self, data):\n",
    "        # TODO: Add a conditional to check for full capacity\n",
    "        \n",
    "        self.arr[self.next_index] = data\n",
    "        self.next_index += 1\n",
    "        self.num_elements += 1\n",
    "        \n",
    "    # TODO: Add the _handle_stack_capacity_full method"
   ]
  },
  {
   "cell_type": "code",
   "execution_count": 1,
   "metadata": {},
   "outputs": [],
   "source": [
    "class Stack:\n",
    "    \n",
    "    def __init__(self, initial_size = 10):\n",
    "        self.arr = [0 for _ in range(initial_size)]\n",
    "        self.next_index = 0\n",
    "        self.num_elements = 0\n",
    "        \n",
    "    def push(self, data):\n",
    "        if self.next_index == len(self.arr):\n",
    "            print(\"Out of space! Increasing array capacity ...\")\n",
    "            self._handle_stack_capacity_full()\n",
    "        \n",
    "        self.arr[self.next_index] = data\n",
    "        self.next_index += 1\n",
    "        self.num_elements += 1\n",
    "\n",
    "    def _handle_stack_capacity_full(self):\n",
    "        old_arr = self.arr\n",
    "\n",
    "        self.arr = [0 for _ in range( 2* len(old_arr))]\n",
    "        for index, element in enumerate(old_arr):\n",
    "            self.arr[index] = element"
   ]
  },
  {
   "cell_type": "markdown",
   "metadata": {},
   "source": [
    "We can test this by pushing items onto the stack until we exceed the original capacity. Let's try it and see if we get an error, or if the array size gets increased like we want it to."
   ]
  },
  {
   "cell_type": "code",
   "execution_count": 2,
   "metadata": {},
   "outputs": [
    {
     "name": "stdout",
     "output_type": "stream",
     "text": [
      "Out of space! Increasing array capacity ...\n",
      "[1, 2, 3, 4, 5, 6, 7, 8, 9, 10, 11, 0, 0, 0, 0, 0, 0, 0, 0, 0]\n",
      "Pass\n"
     ]
    }
   ],
   "source": [
    "foo = Stack()\n",
    "foo.push(1)\n",
    "foo.push(2)\n",
    "foo.push(3)\n",
    "foo.push(4)\n",
    "foo.push(5)\n",
    "foo.push(6)\n",
    "foo.push(7)\n",
    "foo.push(8)\n",
    "foo.push(9)\n",
    "foo.push(10) # The array is now at capacity!\n",
    "foo.push(11) # This one should cause the array to increase in size\n",
    "print(foo.arr) # Let's see what the array looks like now!\n",
    "print(\"Pass\" if len(foo.arr) == 20 else \"Fail\") # If we successfully doubled the array size, it should now be 20."
   ]
  },
  {
   "cell_type": "markdown",
   "metadata": {},
   "source": [
    "## 4. Add the `size` and `is_empty` methods\n",
    "\n",
    "Next, we need to add a couple of simple methods:\n",
    "* Add a `size` method that returns the current size of the stack\n",
    "* Add an `is_empty` method that returns `True` if the stack is empty and `False` otherwise\n",
    "\n",
    "(This one is pretty straightforward, so there's no walkthrough—but there's still solution code below if you should need it.)"
   ]
  },
  {
   "cell_type": "code",
   "execution_count": 3,
   "metadata": {},
   "outputs": [],
   "source": [
    "class Stack:\n",
    "    \n",
    "    def __init__(self, initial_size = 10):\n",
    "        self.arr = [0 for _ in range(initial_size)]\n",
    "        self.next_index = 0\n",
    "        self.num_elements = 0\n",
    "        \n",
    "    def push(self, data):\n",
    "        if self.next_index == len(self.arr):\n",
    "            print(\"Out of space! Increasing array capacity ...\")\n",
    "            self._handle_stack_capacity_full()\n",
    "        \n",
    "        self.arr[self.next_index] = data\n",
    "        self.next_index += 1\n",
    "        self.num_elements += 1\n",
    "        \n",
    "    # TODO: Add the size method\n",
    "    \n",
    "    # TODO: Add the is_empty method\n",
    "\n",
    "    def _handle_stack_capacity_full(self):\n",
    "        old_arr = self.arr\n",
    "\n",
    "        self.arr = [0 for _ in range( 2* len(old_arr))]\n",
    "        for index, value in enumerate(old_arr):\n",
    "            self.arr[index] = value"
   ]
  },
  {
   "cell_type": "code",
   "execution_count": 4,
   "metadata": {},
   "outputs": [],
   "source": [
    "# Solution \n",
    "\n",
    "class Stack:\n",
    "    \n",
    "    def __init__(self, initial_size = 10):\n",
    "        self.arr = [0 for _ in range(initial_size)]\n",
    "        self.next_index = 0\n",
    "        self.num_elements = 0\n",
    "        \n",
    "    def push(self, data):\n",
    "        if self.next_index == len(self.arr):\n",
    "            print(\"Out of space! Increasing array capacity ...\")\n",
    "            self._handle_stack_capacity_full()\n",
    "        \n",
    "        self.arr[self.next_index] = data\n",
    "        self.next_index += 1\n",
    "        self.num_elements += 1\n",
    "\n",
    "    def size(self):\n",
    "        return self.num_elements\n",
    "\n",
    "    def is_empty(self):\n",
    "        return self.num_elements == 0\n",
    "    \n",
    "    def _handle_stack_capacity_full(self):\n",
    "        old_arr = self.arr\n",
    "\n",
    "        self.arr = [0 for _ in range( 2* len(old_arr))]\n",
    "        for index, element in enumerate(old_arr):\n",
    "            self.arr[index] = element"
   ]
  },
  {
   "cell_type": "markdown",
   "metadata": {},
   "source": [
    "## 5. Add the `pop` method\n",
    "\n",
    "The last thing we need to do is add the `pop` method.\n",
    "\n",
    "The method needs to:\n",
    "* Check if the stack is empty and, if it is, return `None`\n",
    "* Decrement `next_index` and `num_elements`\n",
    "* Return the item that is being \"popped\""
   ]
  },
  {
   "cell_type": "code",
   "execution_count": 5,
   "metadata": {},
   "outputs": [],
   "source": [
    "class Stack:\n",
    "    \n",
    "    def __init__(self, initial_size = 10):\n",
    "        self.arr = [0 for _ in range(initial_size)]\n",
    "        self.next_index = 0\n",
    "        self.num_elements = 0\n",
    "        \n",
    "    def push(self, data):\n",
    "        if self.next_index == len(self.arr):\n",
    "            print(\"Out of space! Increasing array capacity ...\")\n",
    "            self._handle_stack_capacity_full()\n",
    "        \n",
    "        self.arr[self.next_index] = data\n",
    "        self.next_index += 1\n",
    "        self.num_elements += 1\n",
    "        \n",
    "    # TODO: Add the pop method\n",
    "\n",
    "    def size(self):\n",
    "        return self.num_elements\n",
    "\n",
    "    def is_empty(self):\n",
    "        return self.num_elements == 0\n",
    "    \n",
    "    def _handle_stack_capacity_full(self):\n",
    "        old_arr = self.arr\n",
    "\n",
    "        self.arr = [0 for _ in range( 2* len(old_arr))]\n",
    "        for index, value in enumerate(old_arr):\n",
    "            self.arr[index] = value"
   ]
  },
  {
   "cell_type": "code",
   "execution_count": 8,
   "metadata": {},
   "outputs": [
    {
     "name": "stdout",
     "output_type": "stream",
     "text": [
      "Test\n",
      "None\n"
     ]
    }
   ],
   "source": [
    "foo = Stack()\n",
    "foo.push(\"Test\") # We first have to push an item so that we'll have something to pop\n",
    "print(foo.pop()) # Should return the popped item, which is \"Test\"\n",
    "print(foo.pop()) # Should return None, since there's nothing left in the stack"
   ]
  },
  {
   "cell_type": "code",
   "execution_count": 9,
   "metadata": {},
   "outputs": [],
   "source": [
    "# Solution\n",
    "\n",
    "class Stack:\n",
    "    \n",
    "    def __init__(self, initial_size = 10):\n",
    "        self.arr = [0 for _ in range(initial_size)]\n",
    "        self.next_index = 0\n",
    "        self.num_elements = 0\n",
    "        \n",
    "    def push(self, data):\n",
    "        if self.next_index == len(self.arr):\n",
    "            print(\"Out of space! Increasing array capacity ...\")\n",
    "            self._handle_stack_capacity_full()\n",
    "        \n",
    "        self.arr[self.next_index] = data\n",
    "        self.next_index += 1\n",
    "        self.num_elements += 1\n",
    "        \n",
    "    def pop(self):\n",
    "        if self.is_empty():\n",
    "            self.next_index = 0\n",
    "            return None\n",
    "        self.next_index -= 1\n",
    "        self.num_elements -= 1\n",
    "        return self.arr[self.next_index]\n",
    "\n",
    "    def size(self):\n",
    "        return self.num_elements\n",
    "\n",
    "    def is_empty(self):\n",
    "        return self.num_elements == 0\n",
    "    \n",
    "    def _handle_stack_capacity_full(self):\n",
    "        old_arr = self.arr\n",
    "\n",
    "        self.arr = [0 for _ in range( 2* len(old_arr))]\n",
    "        for index, element in enumerate(old_arr):\n",
    "            self.arr[index] = element"
   ]
  },
  {
   "cell_type": "markdown",
   "metadata": {},
   "source": [
    "# Implement a stack using a linked list\n",
    "Previously, we looked at how to implement a stack using an array. While that approach does work, we saw that it raises some concerns with time complexity. For example, if we exceed the capacity of the array, we have to go through the laborious process of creating a new array and moving over all the elements from the old array.\n",
    "\n",
    "What if we instead implement the stack using a linked list? Can this improve our time complexity? Let's give it a try.\n",
    "\n",
    "## 1. Define a `Node` class\n",
    "Since we'll be implementing a linked list for this, we know that we'll need a `Node` class like we used earlier in this lesson.\n",
    "\n",
    "See if you can remember how to do this, and implement it in the cell below."
   ]
  },
  {
   "cell_type": "code",
   "execution_count": 10,
   "metadata": {},
   "outputs": [],
   "source": [
    "# Add the Node class here"
   ]
  },
  {
   "cell_type": "code",
   "execution_count": 11,
   "metadata": {},
   "outputs": [],
   "source": [
    "# solution\n",
    "\n",
    "class Node:\n",
    "    def __init__(self, value):\n",
    "        self.value = value\n",
    "        self.next = None"
   ]
  },
  {
   "cell_type": "markdown",
   "metadata": {},
   "source": [
    "## 2. Create the `Stack` class and its `__init__` method\n",
    "\n",
    "In the cell below, see if you can write the `__init__` method for our `Stack` class. It will need two attributes:\n",
    "* A `head` attribute to keep track of the first node in the linked list\n",
    "* A `num_elements` attribute to keep track of how many items are in the stack"
   ]
  },
  {
   "cell_type": "code",
   "execution_count": null,
   "metadata": {},
   "outputs": [],
   "source": [
    "class Stack:\n",
    "    \n",
    "    # TODO: Add the __init__ method\n"
   ]
  },
  {
   "cell_type": "code",
   "execution_count": 13,
   "metadata": {},
   "outputs": [],
   "source": [
    "class Stack:\n",
    "    \n",
    "    def __init__(self):\n",
    "        self.head = None # No items in the stack, so head should be None\n",
    "        self.num_elements = 0 # No items in the stack, so num_elements should be 0"
   ]
  },
  {
   "cell_type": "markdown",
   "metadata": {},
   "source": [
    "## 3. Add the `push` method\n",
    "\n",
    "Next, we need to define our `push` method, so that we have a way of adding elements to the top of the stack. \n",
    "\n",
    "In the cell below, add the `push` method:\n",
    "* The method will need to have a parameter for the `value` that you want to push\n",
    "* You'll then need to create a new `Node` object with this value and link it to the list\n",
    "* Remember that we want to add new items at the head of the stack, not the tail!\n",
    "* Once you've added the new node, you'll want to increment `num_elements`"
   ]
  },
  {
   "cell_type": "code",
   "execution_count": 17,
   "metadata": {},
   "outputs": [],
   "source": [
    "class Stack:\n",
    "    \n",
    "    def __init__(self):\n",
    "        self.head = None\n",
    "        self.num_elements = 0\n",
    "        \n",
    "    # TODO: Add the push method\n",
    "        "
   ]
  },
  {
   "cell_type": "code",
   "execution_count": 18,
   "metadata": {},
   "outputs": [],
   "source": [
    "# Solution \n",
    "\n",
    "class Stack:\n",
    "    \n",
    "    def __init__(self):\n",
    "        self.head = None\n",
    "        self.num_elements = 0\n",
    "        \n",
    "    def push(self, value):\n",
    "        new_node = Node(value)        \n",
    "        # if stack is empty\n",
    "        if self.head is None:\n",
    "            self.head = new_node\n",
    "        else:\n",
    "            new_node.next = self.head    # place the new node at the head of the linked list (top)\n",
    "            self.head = new_node\n",
    "\n",
    "        self.num_elements += 1"
   ]
  },
  {
   "cell_type": "markdown",
   "metadata": {},
   "source": [
    "## 4. Add the `size` and `is_empty` methods\n",
    "\n",
    "When we implemented a stack using an array, we had these same methods. They'll work exactly the same way here—they aren't affected by the use of a linked list versus an array.\n",
    "* Add a `size` method that returns the current size of the stack\n",
    "* Add an `is_empty` method that returns `True` if the stack is empty and `False` otherwise"
   ]
  },
  {
   "cell_type": "code",
   "execution_count": 19,
   "metadata": {},
   "outputs": [],
   "source": [
    "class Stack:\n",
    "    \n",
    "    def __init__(self):\n",
    "        self.head = None\n",
    "        self.num_elements = 0\n",
    "        \n",
    "    def push(self, value):\n",
    "        new_node = Node(value)\n",
    "        # if stack is empty\n",
    "        if self.head is None:\n",
    "            self.head = new_node\n",
    "        else:\n",
    "            new_node.next = self.head # place the new node at the head (top) of the linked list\n",
    "            self.head = new_node\n",
    "\n",
    "        self.num_elements += 1\n",
    "        \n",
    "    # TODO: Add the size method\n",
    "    \n",
    "    # TODO: Add the is_empty method\n"
   ]
  },
  {
   "cell_type": "code",
   "execution_count": 20,
   "metadata": {},
   "outputs": [],
   "source": [
    "# Solution\n",
    "\n",
    "class Stack:\n",
    "    \n",
    "    def __init__(self):\n",
    "        self.head = None\n",
    "        self.num_elements = 0\n",
    "        \n",
    "    def push(self, value):\n",
    "        new_node = Node(value)\n",
    "        # if stack is empty\n",
    "        if self.head is None:\n",
    "            self.head = new_node\n",
    "        else:\n",
    "            new_node.next = self.head # place the new node at the head (top) of the linked list\n",
    "            self.head = new_node\n",
    "\n",
    "        self.num_elements += 1\n",
    "    \n",
    "    def size(self):\n",
    "        return self.num_elements\n",
    "    \n",
    "    def is_empty(self):\n",
    "        return self.num_elements == 0"
   ]
  },
  {
   "cell_type": "markdown",
   "metadata": {},
   "source": [
    "## 5. Add the `pop` method\n",
    "\n",
    "The last thing we need to do is add the `pop` method.\n",
    "\n",
    "The method needs to:\n",
    "* Check if the stack is empty and, if it is, return `None`\n",
    "* Get the value from the `head` node and put it in a local variable\n",
    "* Move the `head` so that it refers to the next item in the list\n",
    "* Return the value we got earlier"
   ]
  },
  {
   "cell_type": "code",
   "execution_count": 21,
   "metadata": {},
   "outputs": [],
   "source": [
    "class Stack:\n",
    "    \n",
    "    def __init__(self):\n",
    "        self.head = None\n",
    "        self.num_elements = 0\n",
    "        \n",
    "    def push(self, value):\n",
    "        new_node = Node(value)\n",
    "        # if stack is empty\n",
    "        if self.head is None:\n",
    "            self.head = new_node\n",
    "        else:\n",
    "            new_node.next = self.head # place the new node at the head (top) of the linked list\n",
    "            self.head = new_node\n",
    "\n",
    "        self.num_elements += 1\n",
    "        \n",
    "    # TODO: Add the pop method\n",
    "    \n",
    "    def size(self):\n",
    "        return self.num_elements\n",
    "    \n",
    "    def is_empty(self):\n",
    "        return self.num_elements == 0"
   ]
  },
  {
   "cell_type": "code",
   "execution_count": 23,
   "metadata": {},
   "outputs": [],
   "source": [
    "# Solution\n",
    "\n",
    "class Stack:\n",
    "    \n",
    "    def __init__(self):\n",
    "        self.head = None\n",
    "        self.num_elements = 0\n",
    "        \n",
    "    def push(self, value):\n",
    "        new_node = Node(value)\n",
    "        # if stack is empty\n",
    "        if self.head is None:\n",
    "            self.head = new_node\n",
    "        else:\n",
    "            new_node.next = self.head # place the new node at the head (top) of the linked list\n",
    "            self.head = new_node\n",
    "\n",
    "        self.num_elements += 1\n",
    "        \n",
    "    def pop(self):\n",
    "        if self.is_empty():\n",
    "            return\n",
    "        \n",
    "        value = self.head.value # copy data to a local variable\n",
    "        self.head = self.head.next # move head pointer to point to next node (top is removed by doing so)\n",
    "        self.num_elements -= 1\n",
    "        return value\n",
    "    \n",
    "    def size(self):\n",
    "        return self.num_elements\n",
    "    \n",
    "    def is_empty(self):\n",
    "        return self.num_elements == 0"
   ]
  },
  {
   "cell_type": "markdown",
   "metadata": {},
   "source": [
    "## Test it!\n",
    "Now that we've completed our `Stack` class, let's test it to make sure it all works as expected."
   ]
  },
  {
   "cell_type": "code",
   "execution_count": 24,
   "metadata": {},
   "outputs": [
    {
     "name": "stdout",
     "output_type": "stream",
     "text": [
      "Pass\n",
      "Pass\n",
      "Pass\n",
      "Pass\n",
      "Pass\n",
      "Pass\n"
     ]
    }
   ],
   "source": [
    "# Setup\n",
    "stack = Stack()\n",
    "stack.push(10)\n",
    "stack.push(20)\n",
    "stack.push(30)\n",
    "stack.push(40)\n",
    "stack.push(50)\n",
    "\n",
    "# Test size\n",
    "print (\"Pass\" if (stack.size() == 5) else \"Fail\")\n",
    "\n",
    "# Test pop\n",
    "print (\"Pass\" if (stack.pop() == 50) else \"Fail\")\n",
    "\n",
    "# Test push\n",
    "stack.push(60)\n",
    "print (\"Pass\" if (stack.pop() == 60) else \"Fail\")\n",
    "print (\"Pass\" if (stack.pop() == 40) else \"Fail\")\n",
    "print (\"Pass\" if (stack.pop() == 30) else \"Fail\")\n",
    "stack.push(50)\n",
    "print (\"Pass\" if (stack.size() == 3) else \"Fail\")"
   ]
  },
  {
   "cell_type": "markdown",
   "metadata": {},
   "source": [
    "## Time complexity of stacks using linked lists\n",
    "\n",
    "Notice that if we pop or push an element with this stack, there's no traversal. We simply add or remove the item from the head of the linked list, and update the `head` reference. So with our linked list implementaion, `pop` and `push` have a time complexity of O(1).\n",
    "\n",
    "Also notice that using a linked list avoids the issue we ran into when we implemented our stack using an array. In that case, adding an item to the stack was fine—until we ran out of space. Then we would have to create an entirely new (larger) array and copy over all of the references from the old array.\n",
    "\n",
    "That happened because, with an array, we had to specify some initial size (in other words, we had to set aside a contiguous block of memory in advance). But with a linked list, the nodes do not need to be contiguous. They can be scattered in different locations of memory, an that works just fine. This means that with a linked list, we can simply append as many nodes as we like. Using that as the underlying data structure for our stack means that we never run out of capacity, so pushing and popping items will always have a time complexity of O(1).\n",
    "\n",
    "## Building a Stack in Python\n",
    "\n",
    "Before we start let us reiterate they key components of a stack. A stack is a data structure that consists of two main operations: push and pop. A push is when you add an element to the **top of the stack** and a pop is when you remove an element from **the top of the stack**. Python 3.x conviently allows us to demonstate this functionality with a list. When you have a list such as [2,4,5,6] you can decide which end of the list is the bottom and the top of the stack respectivley. Once you decide that, you can use the append, pop or insert function to simulate a stack. We will choose the first element to be the bottom of our stack and therefore be using the append and pop functions to simulate it. Give it a try by implementing the function below!\n"
   ]
  },
  {
   "cell_type": "code",
   "execution_count": null,
   "metadata": {},
   "outputs": [],
   "source": [
    "class Stack:\n",
    "    def __init__(self):\n",
    "         # TODO: Initialize the Stack\n",
    "    \n",
    "    def size(self):\n",
    "         # TODO: Check the size of the Stack\n",
    "    \n",
    "    def push(self, item):\n",
    "         # TODO: Push item onto Stack\n",
    "\n",
    "    def pop(self):\n",
    "         # TODO: Pop item off of the Stack"
   ]
  },
  {
   "cell_type": "code",
   "execution_count": null,
   "metadata": {},
   "outputs": [],
   "source": [
    "MyStack = Stack()\n",
    "\n",
    "MyStack.push(\"Web Page 1\")\n",
    "MyStack.push(\"Web Page 2\")\n",
    "MyStack.push(\"Web Page 3\")\n",
    "\n",
    "print (MyStack.items)\n",
    "\n",
    "MyStack.pop()\n",
    "MyStack.pop()\n",
    "\n",
    "print (\"Pass\" if (MyStack.items[0] == 'Web Page 1') else \"Fail\")\n",
    "\n",
    "MyStack.pop()\n",
    "\n",
    "print (\"Pass\" if (MyStack.pop() == None) else \"Fail\")"
   ]
  },
  {
   "cell_type": "code",
   "execution_count": 26,
   "metadata": {},
   "outputs": [
    {
     "name": "stdout",
     "output_type": "stream",
     "text": [
      "['Web Page 1', 'Web Page 2', 'Web Page 3']\n",
      "Pass\n",
      "Pass\n",
      "['Web Page 1', 'Web Page 2', 'Web Page 3']\n",
      "Pass\n",
      "Pass\n",
      "['Web Page 1', 'Web Page 2', 'Web Page 3']\n",
      "Pass\n",
      "Pass\n"
     ]
    }
   ],
   "source": [
    "# Solution\n",
    "\n",
    "class Stack:\n",
    "    def __init__(self):\n",
    "        self.items = []\n",
    "    \n",
    "    def size(self):\n",
    "        return len(self.items)\n",
    "    \n",
    "    def push(self, item):\n",
    "        self.items.append(item)\n",
    "\n",
    "    def pop(self):\n",
    "        if self.size()==0:\n",
    "            return None\n",
    "        else:\n",
    "            return self.items.pop()\n",
    "        \n",
    "MyStack = Stack()\n",
    "\n",
    "MyStack.push(\"Web Page 1\")\n",
    "MyStack.push(\"Web Page 2\")\n",
    "MyStack.push(\"Web Page 3\")\n",
    "\n",
    "print (MyStack.items)\n",
    "\n",
    "MyStack.pop()\n",
    "MyStack.pop()\n",
    "\n",
    "print (\"Pass\" if (MyStack.items[0] == 'Web Page 1') else \"Fail\")\n",
    "\n",
    "MyStack.pop()\n",
    "\n",
    "print (\"Pass\" if (MyStack.pop() == None) else \"Fail\")# Solution\n",
    "\n",
    "class Stack:\n",
    "    def __init__(self):\n",
    "        self.items = []\n",
    "    \n",
    "    def size(self):\n",
    "        return len(self.items)\n",
    "    \n",
    "    def push(self, item):\n",
    "        self.items.append(item)\n",
    "\n",
    "    def pop(self):\n",
    "        if self.size()==0:\n",
    "            return None\n",
    "        else:\n",
    "            return self.items.pop()\n",
    "        \n",
    "MyStack = Stack()\n",
    "\n",
    "MyStack.push(\"Web Page 1\")\n",
    "MyStack.push(\"Web Page 2\")\n",
    "MyStack.push(\"Web Page 3\")\n",
    "\n",
    "print (MyStack.items)\n",
    "\n",
    "MyStack.pop()\n",
    "MyStack.pop()\n",
    "\n",
    "print (\"Pass\" if (MyStack.items[0] == 'Web Page 1') else \"Fail\")\n",
    "\n",
    "MyStack.pop()\n",
    "\n",
    "print (\"Pass\" if (MyStack.pop() == None) else \"Fail\")# Solution\n",
    "\n",
    "class Stack:\n",
    "    def __init__(self):\n",
    "        self.items = []\n",
    "    \n",
    "    def size(self):\n",
    "        return len(self.items)\n",
    "    \n",
    "    def push(self, item):\n",
    "        self.items.append(item)\n",
    "\n",
    "    def pop(self):\n",
    "        if self.size()==0:\n",
    "            return None\n",
    "        else:\n",
    "            return self.items.pop()\n",
    "        \n",
    "MyStack = Stack()\n",
    "\n",
    "MyStack.push(\"Web Page 1\")\n",
    "MyStack.push(\"Web Page 2\")\n",
    "MyStack.push(\"Web Page 3\")\n",
    "\n",
    "print (MyStack.items)\n",
    "\n",
    "MyStack.pop()\n",
    "MyStack.pop()\n",
    "\n",
    "print (\"Pass\" if (MyStack.items[0] == 'Web Page 1') else \"Fail\")\n",
    "\n",
    "MyStack.pop()\n",
    "\n",
    "print (\"Pass\" if (MyStack.pop() == None) else \"Fail\")\n"
   ]
  },
  {
   "cell_type": "markdown",
   "metadata": {},
   "source": [
    "# Balanced Parentheses Exercise\n",
    "\n",
    "In this exercise you are going to apply what you learned about stacks with a real world problem. We will be using stacks to make sure the parentheses are balanced in mathematical expressions such as: $((3^2 + 8)*(5/2))/(2+6).$ In real life you can see this extend to many things such as text editor plugins and interactive development environments for all sorts of bracket completion checks. \n",
    "\n",
    "Take a string as an input and return `True` if it's parentheses are balanced or `False` if it is not. \n",
    "\n",
    "Try to code up a solution and pass the test cases. "
   ]
  },
  {
   "cell_type": "code",
   "execution_count": null,
   "metadata": {},
   "outputs": [],
   "source": [
    "# Our Stack Class - Brought from previous concept\n",
    "# No need to modify this\n",
    "class Stack:\n",
    "    def __init__(self):\n",
    "        self.items = []\n",
    "    \n",
    "    def size(self):\n",
    "        return len(self.items)\n",
    "    \n",
    "    def push(self, item):\n",
    "        self.items.append(item)\n",
    "\n",
    "    def pop(self):\n",
    "        if self.size()==0:\n",
    "            return None\n",
    "        else:\n",
    "            return self.items.pop()\n",
    "\n",
    "def equation_checker(equation):\n",
    "    \"\"\"\n",
    "    Check equation for balanced parentheses\n",
    "\n",
    "    Args:\n",
    "       equation(string): String form of equation\n",
    "    Returns:\n",
    "       bool: Return if parentheses are balanced or not\n",
    "    \"\"\"\n",
    "    \n",
    "    \n",
    "    # TODO: Intiate stack object\n",
    "    \n",
    "    # TODO: Interate through equation checking parentheses\n",
    "    \n",
    "    # TODO: Return True if balanced and False if not\n",
    "    \n",
    "    pass\n",
    "\n",
    "print (\"Pass\" if (equation_checker('((3^2 + 8)*(5/2))/(2+6)')) else \"Fail\")\n",
    "print (\"Pass\" if not (equation_checker('((3^2 + 8)*(5/2))/(2+6))')) else \"Fail\")"
   ]
  },
  {
   "cell_type": "code",
   "execution_count": 27,
   "metadata": {},
   "outputs": [
    {
     "name": "stdout",
     "output_type": "stream",
     "text": [
      "Pass\n",
      "Pass\n"
     ]
    }
   ],
   "source": [
    "# Solution\n",
    "\n",
    "# Our Stack Class\n",
    "class Stack:\n",
    "    def __init__(self):\n",
    "        self.items = []\n",
    "\n",
    "    def size(self):\n",
    "        return len(self.items)\n",
    "\n",
    "    def push(self, item):\n",
    "        self.items.append(item)\n",
    "\n",
    "    def pop(self):\n",
    "        if self.size()==0:\n",
    "            return None\n",
    "        else:\n",
    "            return self.items.pop()\n",
    "\n",
    "\n",
    "def equation_checker(equation):\n",
    "    \"\"\"\n",
    "    Check equation for balanced parentheses\n",
    "\n",
    "    Args:\n",
    "       equation(string): String form of equation\n",
    "    Returns:\n",
    "       bool: Return if parentheses are balanced or not\n",
    "    \"\"\"\n",
    "    \n",
    "    stack = Stack()\n",
    "\n",
    "    for char in equation:\n",
    "        if char == \"(\":\n",
    "            stack.push(char)\n",
    "        elif char == \")\":\n",
    "            if stack.pop() == None:\n",
    "                return False\n",
    "\n",
    "    if stack.size() == 0:\n",
    "        return True\n",
    "    else:\n",
    "        return False\n",
    "\n",
    "\n",
    "print (\"Pass\" if (equation_checker('((3^2 + 8)*(5/2))/(2+6)')) else \"Fail\")\n",
    "print (\"Pass\" if not (equation_checker('((3^2 + 8)*(5/2))/(2+6))')) else \"Fail\")\n"
   ]
  },
  {
   "cell_type": "markdown",
   "metadata": {},
   "source": [
    "### Problem Statement\n",
    "\n",
    "Given an input string consisting of only `{` and `}`, figure out the minimum number of reversals required to make the brackets balanced.\n",
    "\n",
    "For example:\n",
    "* For `input_string = \"}}}}`, the number of reversals required is `2`.\n",
    "\n",
    "\n",
    "* For `input_string = \"}{}}`, the number of reversals required is `1`.\n",
    "\n",
    "\n",
    "If the brackets cannot be balanced, return `-1` to indicate that it is not possible to balance them."
   ]
  },
  {
   "cell_type": "code",
   "execution_count": 30,
   "metadata": {},
   "outputs": [],
   "source": [
    "class LinkedListNode:\n",
    "\n",
    "    def __init__(self, data):\n",
    "        self.data = data\n",
    "        self.next = None\n",
    "\n",
    "class Stack:\n",
    "\n",
    "    def __init__(self):\n",
    "        self.num_elements = 0\n",
    "        self.head = None\n",
    "\n",
    "    def push(self, data):\n",
    "        new_node = LinkedListNode(data)\n",
    "        if self.head is None:\n",
    "            self.head = new_node\n",
    "        else:\n",
    "            new_node.next = self.head\n",
    "            self.head = new_node\n",
    "        self.num_elements += 1\n",
    "\n",
    "    def pop(self):\n",
    "        if self.is_empty():\n",
    "            return None\n",
    "        temp = self.head.data\n",
    "        self.head = self.head.next\n",
    "        self.num_elements -= 1\n",
    "        return temp\n",
    "\n",
    "    def top(self):\n",
    "        if self.head is None:\n",
    "            return None\n",
    "        return self.head.data\n",
    "\n",
    "    def size(self):\n",
    "        return self.num_elements\n",
    "\n",
    "    def is_empty(self):\n",
    "        return self.num_elements == 0\n",
    "\n",
    "def minimum_bracket_reversals(input_string):\n",
    "    \"\"\"\n",
    "    Calculate the number of reversals to fix the brackets\n",
    "\n",
    "    Args:\n",
    "       input_string(string): Strings to be used for bracket reversal calculation\n",
    "    Returns:\n",
    "       int: Number of breacket reversals needed\n",
    "    \"\"\"\n",
    "    \n",
    "    # TODO: Write function here\n",
    "    \n",
    "    pass\n",
    "\n",
    "def test_function(test_case):\n",
    "    input_string = test_case[0]\n",
    "    expected_output = test_case[1]\n",
    "    output = minimum_bracket_reversals(input_string)\n",
    "    \n",
    "    if output == expected_output:\n",
    "        print(\"Pass\")\n",
    "    else:\n",
    "        print(\"Fail\")\n"
   ]
  },
  {
   "cell_type": "code",
   "execution_count": 32,
   "metadata": {},
   "outputs": [
    {
     "name": "stdout",
     "output_type": "stream",
     "text": [
      "Pass\n"
     ]
    }
   ],
   "source": [
    "test_case_1 = [\"}}}}\", 2]\n",
    "test_function(test_case_1)"
   ]
  },
  {
   "cell_type": "code",
   "execution_count": 33,
   "metadata": {},
   "outputs": [
    {
     "name": "stdout",
     "output_type": "stream",
     "text": [
      "Pass\n"
     ]
    }
   ],
   "source": [
    "test_case_2 = [\"}}{{\", 2]          \n",
    "test_function(test_case_2)"
   ]
  },
  {
   "cell_type": "code",
   "execution_count": 34,
   "metadata": {},
   "outputs": [
    {
     "name": "stdout",
     "output_type": "stream",
     "text": [
      "Pass\n"
     ]
    }
   ],
   "source": [
    "test_case_3 = [\"{{{{{{{{{{{{{{{{{{{{{{{{{{{{{{{}}}}}\", 13]\n",
    "\n",
    "test_function(test_case_1)"
   ]
  },
  {
   "cell_type": "code",
   "execution_count": 35,
   "metadata": {},
   "outputs": [
    {
     "name": "stdout",
     "output_type": "stream",
     "text": [
      "Pass\n"
     ]
    }
   ],
   "source": [
    "test_case_4= [\"}{}{}{}{}{}{}{}{}{}{}{}{}{}{}{\", 2]\n",
    "test_function(test_case_2)"
   ]
  },
  {
   "cell_type": "code",
   "execution_count": 36,
   "metadata": {},
   "outputs": [
    {
     "name": "stdout",
     "output_type": "stream",
     "text": [
      "Pass\n"
     ]
    }
   ],
   "source": [
    "test_case_5 = [\"}}{}{}{}{}{}{}{}{}{}{}{}{}{}{}\", 1]\n",
    "\n",
    "test_function(test_case_3)"
   ]
  },
  {
   "cell_type": "code",
   "execution_count": 31,
   "metadata": {},
   "outputs": [],
   "source": [
    "def minimum_bracket_reversals(input_string):\n",
    "    if len(input_string) % 2 == 1:\n",
    "        return -1\n",
    "\n",
    "    stack = Stack()\n",
    "    count = 0\n",
    "    for bracket in input_string:\n",
    "        if stack.is_empty():\n",
    "            stack.push(bracket)\n",
    "        else:\n",
    "            top = stack.top()\n",
    "            if top != bracket:\n",
    "                if top == '{':\n",
    "                    stack.pop()\n",
    "                    continue\n",
    "            stack.push(bracket)\n",
    "\n",
    "    ls = list()\n",
    "    while not stack.is_empty():\n",
    "        first = stack.pop()\n",
    "        second = stack.pop()\n",
    "        ls.append(first)\n",
    "        ls.append(second)\n",
    "        if first == '}' and second == '}':\n",
    "            count += 1\n",
    "        elif first == '{' and second == '}':\n",
    "            count += 2\n",
    "        elif first == '{' and second == '{':\n",
    "            count += 1\n",
    "    return count\n"
   ]
  },
  {
   "cell_type": "markdown",
   "metadata": {},
   "source": [
    "# Implement a queue using an array\n",
    "\n",
    "In this notebook, we'll look at one way to implement a queue by using an array. First, check out the walkthrough for an overview of the concepts, and then we'll take a look at the code.\n",
    "\n",
    "![People waiting in line.](pics/queue_with_array.png)\n",
    "\n",
    " OK, so those are the characteristics of a queue, but how would we implement those characteristics using an array?\n",
    " \n",
    " ## Functionality\n",
    "\n",
    "Once implemented, our queue will need to have the following functionality:\n",
    "1. `enqueue`  - adds data to the back of the queue\n",
    "2. `dequeue`  - removes data from the front of the queue\n",
    "3. `front`    - returns the element at the front of the queue\n",
    "4. `size`     - returns the number of elements present in the queue\n",
    "5. `is_empty` - returns `True` if there are no elements in the queue, and `False` otherwise\n",
    "6. `_handle_full_capacity` - increases the capacity of the array, for cases in which the queue would otherwise overflow\n",
    "\n",
    "Also, if the queue is empty, `dequeue` and `front` operations should return `None`.\n",
    "\n",
    "## 1. Create the `Queue` class and its `__init__` method\n",
    "\n",
    "Now give it a try for yourself. In the cell below:\n",
    "* Define a class named `Queue` and add the `__init__` method\n",
    "* Initialize the `arr` attribute with an array containing 10 elements, like this: `[0, 0, 0, 0, 0, 0, 0, 0, 0, 0]`\n",
    "* Initialize the `next_index` attribute\n",
    "* Initialize the `front_index` attribute\n",
    "* Initialize the `queue_size` attribute"
   ]
  },
  {
   "cell_type": "code",
   "execution_count": 1,
   "metadata": {},
   "outputs": [],
   "source": [
    "class Queue: \n",
    "    def __init__(self, queue_size = 10):\n",
    "        self.arr = [0 for _ in range(10)]\n",
    "        self.next_index = 0\n",
    "        self.front_index = -1 \n",
    "        self.queue_size = 0"
   ]
  },
  {
   "cell_type": "code",
   "execution_count": 2,
   "metadata": {},
   "outputs": [],
   "source": [
    "# Solution\n",
    "\n",
    "class Queue:\n",
    "\n",
    "    def __init__(self, initial_size = 10):\n",
    "        self.arr = [0 for _ in range(initial_size)]\n",
    "        self.next_index = 0\n",
    "        self.front_index = -1\n",
    "        self.queue_size = 0\n"
   ]
  },
  {
   "cell_type": "markdown",
   "metadata": {},
   "source": [
    "Let's check that the array is being initialized correctly. We can create a `Queue` object and access the `arr` attribute, and we should see our ten-element array:"
   ]
  },
  {
   "cell_type": "code",
   "execution_count": 2,
   "metadata": {},
   "outputs": [
    {
     "name": "stdout",
     "output_type": "stream",
     "text": [
      "[0, 0, 0, 0, 0, 0, 0, 0, 0, 0]\n",
      "Pass\n"
     ]
    }
   ],
   "source": [
    "q = Queue()\n",
    "print(q.arr)\n",
    "print(\"Pass\" if q.arr == [0, 0, 0, 0, 0, 0, 0, 0, 0, 0] else \"Fail\")"
   ]
  },
  {
   "cell_type": "markdown",
   "metadata": {},
   "source": [
    "## 2. Add the `enqueue` method\n",
    "\n",
    "In the cell below, add the code for the enqueue method.\n",
    "\n",
    "The method should:\n",
    "* Take a value as input and assign this value to the next free slot in the array\n",
    "* Increment `queue_size`\n",
    "* Increment `next_index` (this is where you'll need to use the modulo operator `%`)\n",
    "* If the front index is `-1` (because the queue was empty), it should set the front index to `0`"
   ]
  },
  {
   "cell_type": "code",
   "execution_count": 3,
   "metadata": {},
   "outputs": [],
   "source": [
    "class Queue:\n",
    "\n",
    "    def __init__(self, initial_size=10):\n",
    "        self.arr = [0 for _ in range(initial_size)]\n",
    "        self.next_index = 0\n",
    "        self.front_index = -1\n",
    "        self.queue_size = 0\n",
    "\n",
    "    # TODO: Add the enqueue method\n",
    "    def enqueue(self, value):\n",
    "        self.queue_size += 1\n",
    "        if self.front_index == -1:\n",
    "            self.front_index = 0\n",
    "        self.next_index += 1\n",
    "        self.arr[self.front_index] = value\n",
    "        \n",
    "    "
   ]
  },
  {
   "cell_type": "code",
   "execution_count": 5,
   "metadata": {},
   "outputs": [],
   "source": [
    "# Solution\n",
    "\n",
    "class Queue:\n",
    "\n",
    "    def __init__(self, initial_size=10):\n",
    "        self.arr = [0 for _ in range(initial_size)]\n",
    "        self.next_index = 0\n",
    "        self.front_index = -1\n",
    "        self.queue_size = 0\n",
    "\n",
    "    def enqueue(self, value):\n",
    "        # enqueue new element\n",
    "        self.arr[self.next_index] = value\n",
    "        self.queue_size += 1\n",
    "        self.next_index = (self.next_index + 1) % len(self.arr)\n",
    "        if self.front_index == -1:\n",
    "            self.front_index = 0"
   ]
  },
  {
   "cell_type": "markdown",
   "metadata": {},
   "source": [
    "## 3. Add the `size`,  `is_empty`, and `front` methods\n",
    "\n",
    "Just like with stacks, we need methods to keep track of the size of the queue and whether it is empty. We can also add a `front` method that returns the value of the front element.\n",
    "* Add a `size` method that returns the current size of the queue\n",
    "* Add an `is_empty` method that returns `True` if the queue is empty and `False` otherwise\n",
    "* Add a `front` method that returns the value for the front element (whatever item is located at the `front_index` position). If the queue is empty, the `front` method should return None."
   ]
  },
  {
   "cell_type": "code",
   "execution_count": 8,
   "metadata": {},
   "outputs": [],
   "source": [
    "class Queue:\n",
    "\n",
    "    def __init__(self, initial_size=10):\n",
    "        self.arr = [0 for _ in range(initial_size)]\n",
    "        self.next_index = 0\n",
    "        self.front_index = -1\n",
    "        self.queue_size = 0\n",
    "\n",
    "    def enqueue(self, value):\n",
    "        # enqueue new element\n",
    "        self.arr[self.next_index] = value\n",
    "        self.queue_size += 1\n",
    "        self.next_index = (self.next_index + 1) % len(self.arr)\n",
    "        if self.front_index == -1:\n",
    "            self.front_index = 0\n",
    "            \n",
    "    # TODO: Add the size method\n",
    "    def size(self):\n",
    "        return self.queue_size\n",
    "    \n",
    "    # TODO: Add the is_empty method\n",
    "    def is_empty(self):\n",
    "        return self.queue_size == 0\n",
    "\n",
    "    # TODO: Add the front method\n",
    "    def front(self):\n",
    "        return self.arr[self.front_index]"
   ]
  },
  {
   "cell_type": "markdown",
   "metadata": {},
   "source": [
    "## 4. Add the `dequeue` method\n",
    "\n",
    "In the cell below, see if you can add the `deqeueue` method.\n",
    "\n",
    "Here's what it should do:\n",
    "* If the queue is empty, reset the `front_index` and `next_index` and then simply return `None`. Otherwise...\n",
    "* Get the value from the front of the queue and store this in a local variable (to `return` later)\n",
    "* Shift the `head` over so that it refers to the next index\n",
    "* Update the `queue_size` attribute\n",
    "* Return the value that was dequeued"
   ]
  },
  {
   "cell_type": "code",
   "execution_count": 7,
   "metadata": {},
   "outputs": [],
   "source": [
    "class Queue:\n",
    "\n",
    "    def __init__(self, initial_size=10):\n",
    "        self.arr = [0 for _ in range(initial_size)]\n",
    "        self.next_index = 0\n",
    "        self.front_index = -1\n",
    "        self.queue_size = 0\n",
    "\n",
    "    def enqueue(self, value):\n",
    "        # enqueue new element\n",
    "        self.arr[self.next_index] = value\n",
    "        self.queue_size += 1\n",
    "        self.next_index = (self.next_index + 1) % len(self.arr)\n",
    "        if self.front_index == -1:\n",
    "            self.front_index = 0\n",
    "            \n",
    "    # TODO: Add the dequeue method\n",
    "    def dequeue(self)\n",
    "\n",
    "    def size(self):\n",
    "        return self.queue_size\n",
    "\n",
    "    def is_empty(self):\n",
    "        return self.size() == 0\n",
    "    \n",
    "    def front(self):\n",
    "        # check if queue is empty\n",
    "        if self.is_empty():\n",
    "            return None\n",
    "        return self.arr[self.front_index]"
   ]
  },
  {
   "cell_type": "code",
   "execution_count": 8,
   "metadata": {},
   "outputs": [],
   "source": [
    "# Solution\n",
    "\n",
    "class Queue:\n",
    "\n",
    "    def __init__(self, initial_size=10):\n",
    "        self.arr = [0 for _ in range(initial_size)]\n",
    "        self.next_index = 0\n",
    "        self.front_index = -1\n",
    "        self.queue_size = 0\n",
    "\n",
    "    def enqueue(self, value):\n",
    "        # enqueue new element\n",
    "        self.arr[self.next_index] = value\n",
    "        self.queue_size += 1\n",
    "        self.next_index = (self.next_index + 1) % len(self.arr)\n",
    "        if self.front_index == -1:\n",
    "            self.front_index = 0\n",
    "            \n",
    "    def dequeue(self):\n",
    "        # check if queue is empty\n",
    "        if self.is_empty():\n",
    "            self.front_index = -1   # resetting pointers\n",
    "            self.next_index = 0\n",
    "            return None\n",
    "\n",
    "        # dequeue front element\n",
    "        value = self.arr[self.front_index]\n",
    "        self.front_index = (self.front_index + 1) % len(self.arr)\n",
    "        self.queue_size -= 1\n",
    "        return value\n",
    "\n",
    "    def size(self):\n",
    "        return self.queue_size\n",
    "\n",
    "    def is_empty(self):\n",
    "        return self.size() == 0\n",
    "    \n",
    "    def front(self):\n",
    "        # check if queue is empty\n",
    "        if self.is_empty():\n",
    "            return None\n",
    "        return self.arr[self.front_index]"
   ]
  },
  {
   "cell_type": "markdown",
   "metadata": {},
   "source": [
    "## 5. Add the `_handle_queue_capacity_full` method\n",
    "\n",
    "First, define the `_handle_queue_capacity_full` method:\n",
    "* Define an `old_arr` variable and assign the the current (full) array so that we have a copy of it\n",
    "* Create a new (larger) array and assign it to `arr`.\n",
    "* Iterate over the values in the old array and copy them to the new array. Remember that you'll need two `for` loops for this.\n",
    "\n",
    "Then, in the `enqueue` method:\n",
    "* Add a conditional to check if the queue is full; if it is, call  `_handle_queue_capacity_full`"
   ]
  },
  {
   "cell_type": "code",
   "execution_count": 9,
   "metadata": {},
   "outputs": [],
   "source": [
    "class Queue:\n",
    "\n",
    "    def __init__(self, initial_size=10):\n",
    "        self.arr = [0 for _ in range(initial_size)]\n",
    "        self.next_index = 0\n",
    "        self.front_index = -1\n",
    "        self.queue_size = 0\n",
    "\n",
    "    def enqueue(self, value):\n",
    "        # TODO: Check if the queue is full; if it is, call the _handle_queue_capacity_full method\n",
    "\n",
    "        # enqueue new element\n",
    "        self.arr[self.next_index] = value\n",
    "        self.queue_size += 1\n",
    "        self.next_index = (self.next_index + 1) % len(self.arr)\n",
    "        if self.front_index == -1:\n",
    "            self.front_index = 0\n",
    "\n",
    "    def dequeue(self):\n",
    "        # check if queue is empty\n",
    "        if self.is_empty():\n",
    "            self.front_index = -1   # resetting pointers\n",
    "            self.next_index = 0\n",
    "            return None\n",
    "\n",
    "        # dequeue front element\n",
    "        value = self.arr[self.front_index]\n",
    "        self.front_index = (self.front_index + 1) % len(self.arr)\n",
    "        self.queue_size -= 1\n",
    "        return value\n",
    "\n",
    "    def size(self):\n",
    "        return self.queue_size\n",
    "\n",
    "    def is_empty(self):\n",
    "        return self.size() == 0\n",
    "    \n",
    "    def front(self):\n",
    "        # check if queue is empty\n",
    "        if self.is_empty():\n",
    "            return None\n",
    "        return self.arr[self.front_index]\n",
    "\n",
    "    # TODO: Add the _handle_queue_capacity_full method"
   ]
  },
  {
   "cell_type": "code",
   "execution_count": 10,
   "metadata": {},
   "outputs": [],
   "source": [
    "# Solution\n",
    "\n",
    "class Queue:\n",
    "\n",
    "    def __init__(self, initial_size=10):\n",
    "        self.arr = [0 for _ in range(initial_size)]\n",
    "        self.next_index = 0\n",
    "        self.front_index = -1\n",
    "        self.queue_size = 0\n",
    "\n",
    "    def enqueue(self, value):\n",
    "        # if queue is already full --> increase capacity\n",
    "        if self.queue_size == len(self.arr):\n",
    "            self._handle_queue_capacity_full()\n",
    "\n",
    "        # enqueue new element\n",
    "        self.arr[self.next_index] = value\n",
    "        self.queue_size += 1\n",
    "        self.next_index = (self.next_index + 1) % len(self.arr)\n",
    "        if self.front_index == -1:\n",
    "            self.front_index = 0\n",
    "\n",
    "    def dequeue(self):\n",
    "        # check if queue is empty\n",
    "        if self.is_empty():\n",
    "            self.front_index = -1   # resetting pointers\n",
    "            self.next_index = 0\n",
    "            return None\n",
    "\n",
    "        # dequeue front element\n",
    "        value = self.arr[self.front_index]\n",
    "        self.front_index = (self.front_index + 1) % len(self.arr)\n",
    "        self.queue_size -= 1\n",
    "        return value\n",
    "\n",
    "    def size(self):\n",
    "        return self.queue_size\n",
    "\n",
    "    def is_empty(self):\n",
    "        return self.size() == 0\n",
    "    \n",
    "    def front(self):\n",
    "        # check if queue is empty\n",
    "        if self.is_empty():\n",
    "            return None\n",
    "        return self.arr[self.front_index]\n",
    "\n",
    "    def _handle_queue_capacity_full(self):\n",
    "        old_arr = self.arr\n",
    "        self.arr = [0 for _ in range(2 * len(old_arr))]\n",
    "\n",
    "        index = 0\n",
    "\n",
    "        # copy all elements from front of queue (front-index) until end\n",
    "        for i in range(self.front_index, len(old_arr)):\n",
    "            self.arr[index] = old_arr[i]\n",
    "            index += 1\n",
    "\n",
    "        # case: when front-index is ahead of next index\n",
    "        for i in range(0, self.front_index):\n",
    "            self.arr[index] = old_arr[i]\n",
    "            index += 1\n",
    "\n",
    "        # reset pointers\n",
    "        self.front_index = 0\n",
    "        self.next_index = index"
   ]
  },
  {
   "cell_type": "code",
   "execution_count": 11,
   "metadata": {},
   "outputs": [
    {
     "name": "stdout",
     "output_type": "stream",
     "text": [
      "Pass\n",
      "Pass\n",
      "Pass\n",
      "Pass\n",
      "Pass\n",
      "Pass\n"
     ]
    }
   ],
   "source": [
    "# Setup\n",
    "q = Queue()\n",
    "q.enqueue(1)\n",
    "q.enqueue(2)\n",
    "q.enqueue(3)\n",
    "\n",
    "# Test size\n",
    "print (\"Pass\" if (q.size() == 3) else \"Fail\")\n",
    "\n",
    "# Test dequeue\n",
    "print (\"Pass\" if (q.dequeue() == 1) else \"Fail\")\n",
    "\n",
    "# Test enqueue\n",
    "q.enqueue(4)\n",
    "print (\"Pass\" if (q.dequeue() == 2) else \"Fail\")\n",
    "print (\"Pass\" if (q.dequeue() == 3) else \"Fail\")\n",
    "print (\"Pass\" if (q.dequeue() == 4) else \"Fail\")\n",
    "q.enqueue(5)\n",
    "print (\"Pass\" if (q.size() == 1) else \"Fail\")"
   ]
  },
  {
   "cell_type": "markdown",
   "metadata": {},
   "source": [
    "# Build a queue using a linked list\n",
    "\n",
    "By now, you may be noticing a pattern. Earlier, we had you implement a stack using an array and a linked list. Here, we're doing the same thing with queues: In the previous notebook, you implemented a queue using an array, and in this notebook we'll implement one using a linked list.\n",
    "\n",
    "It's good to try implementing the same data structures in multiple ways. This helps you to better understand the abstract concepts behind the data structure, separate from the details of their implementation—and it also helps you develop a habit of comparing pros and cons of different implementations.\n",
    "\n",
    "With both stack and queues, we saw that trying to use arrays introduced some concerns regarding the time complexity, particularly when the initial array size isn't large enough and we need to expand the array in order to add more items.\n",
    "\n",
    "With our stack implementation, we saw that linked lists provided a way around this issue—and exactly the same thing is true with queues.\n",
    "\n",
    "![Linked list.](pics/linked_list_five_nodes.png)\n",
    "\n",
    "## 1. Define a `Node` class\n",
    "Since we'll be implementing a linked list for this, we know that we'll need a `Node` class like we used earlier in this lesson.\n",
    "\n",
    "See if you can remember how to do this, and implement it in the cell below.\n"
   ]
  },
  {
   "cell_type": "code",
   "execution_count": 12,
   "metadata": {},
   "outputs": [],
   "source": [
    "# Your code here\n",
    "class Node:\n",
    "    \n",
    "    def __init__(self, value):\n",
    "        self.value = value\n",
    "        self.next = None"
   ]
  },
  {
   "cell_type": "code",
   "execution_count": 13,
   "metadata": {},
   "outputs": [],
   "source": [
    "# Solution\n",
    "class Node:\n",
    "    \n",
    "    def __init__(self, value):\n",
    "        self.value = value\n",
    "        self.next = None"
   ]
  },
  {
   "cell_type": "markdown",
   "metadata": {},
   "source": [
    "## 2. Create the `Queue` class and its `__init__` method\n",
    "\n",
    "In the cell below, see if you can write the `__init__` method for our `Queue` class. It will need three attributes:\n",
    "* A `head` attribute to keep track of the first node in the linked list\n",
    "* A `tail` attribute to keep track of the last node in the linked list\n",
    "* A `num_elements` attribute to keep track of how many items are in the queue"
   ]
  },
  {
   "cell_type": "code",
   "execution_count": 13,
   "metadata": {},
   "outputs": [],
   "source": [
    "# Your code here \n",
    "class Queue:\n",
    "    \n",
    "    def __init__(self):\n",
    "        self.head = None\n",
    "        self.tail = None\n",
    "        self.num_elements = 0"
   ]
  },
  {
   "cell_type": "code",
   "execution_count": null,
   "metadata": {},
   "outputs": [],
   "source": [
    "# Solution\n",
    "class Queue:\n",
    "    \n",
    "    def __init__(self):\n",
    "        self.head = None\n",
    "        self.tail = None\n",
    "        self.num_elements = 0"
   ]
  },
  {
   "cell_type": "markdown",
   "metadata": {},
   "source": [
    "## 3. Add the `enqueue` method\n",
    "\n",
    "In the cell below, see if you can figure out how to write the `enqueue` method.\n",
    "\n",
    "Remember, the purpose of this method is to add a new item to the back of the queue. Since we're using a linked list, this is equivalent to creating a new node and adding it to the tail of the list.\n",
    "\n",
    "Some things to keep in mind:\n",
    "* If the queue is empty, then both the `head` and `tail` should refer to the new node (because when there's only one node, this node is both the head and the tail)\n",
    "* Otherwise (if the queue has items), add the new node to the tail (i.e., to the end of the queue)\n",
    "* Be sure to shift the `tail` reference so that it refers to the new node (because it is the new tail)\n",
    "\n"
   ]
  },
  {
   "cell_type": "code",
   "execution_count": null,
   "metadata": {},
   "outputs": [],
   "source": [
    "class Queue:\n",
    "    \n",
    "    def __init__(self):\n",
    "        self.head = None\n",
    "        self.tail = None\n",
    "        self.num_elements = 0\n",
    "        \n",
    "    # TODO: Add the enqueue method\n",
    "    def enqueue(self, value):\n",
    "        if self.num_elements == 0:\n",
    "            self.head = Node(value)\n",
    "            self.tail = self.head\n",
    "        else:\n",
    "            self.head.next = self.head\n",
    "            self.head = Node(value)\n",
    "            "
   ]
  },
  {
   "cell_type": "code",
   "execution_count": 14,
   "metadata": {},
   "outputs": [],
   "source": [
    "# Solution\n",
    "\n",
    "class Queue:\n",
    "    \n",
    "    def __init__(self):\n",
    "        self.head = None\n",
    "        self.tail = None\n",
    "        self.num_elements = 0\n",
    "        \n",
    "    def enqueue(self, value):\n",
    "        new_node = Node(value)\n",
    "        if self.head is None:\n",
    "            self.head = new_node\n",
    "            self.tail = self.head\n",
    "        else:\n",
    "            self.tail.next = new_node    # add data to the next attribute of the tail (i.e. the end of the queue)\n",
    "            self.tail = self.tail.next   # shift the tail (i.e., the back of the queue)\n",
    "        self.num_elements += 1"
   ]
  },
  {
   "cell_type": "markdown",
   "metadata": {},
   "source": [
    "## 4. Add the `size` and `is_empty` methods\n",
    "\n",
    "You've implemented these a couple of times now, and they'll work the same way here:\n",
    "* Add a `size` method that returns the current size of the stack\n",
    "* Add an `is_empty` method that returns `True` if the stack is empty and `False` otherwise\n",
    "\n",
    "We'll make use of these methods in a moment when we write the `dequeue` method."
   ]
  },
  {
   "cell_type": "code",
   "execution_count": 15,
   "metadata": {},
   "outputs": [],
   "source": [
    "class Queue:\n",
    "    \n",
    "    def __init__(self):\n",
    "        self.head = None\n",
    "        self.tail = None\n",
    "        self.num_elements = 0\n",
    "        \n",
    "    def enqueue(self, value):\n",
    "        new_node = Node(value)\n",
    "        if self.head is None:\n",
    "            self.head = new_node\n",
    "            self.tail = self.head\n",
    "        else:\n",
    "            self.tail.next = new_node    # add data to the next attribute of the tail (i.e. the end of the queue)\n",
    "            self.tail = self.tail.next   # shift the tail (i.e., the back of the queue)\n",
    "        self.num_elements += 1\n",
    "    \n",
    "    # TODO: Add the size method\n",
    "    \n",
    "    # TODO: Add the is_empty method"
   ]
  },
  {
   "cell_type": "code",
   "execution_count": 16,
   "metadata": {},
   "outputs": [],
   "source": [
    "class Queue:\n",
    "    \n",
    "    def __init__(self):\n",
    "        self.head = None\n",
    "        self.tail = None\n",
    "        self.num_elements = 0\n",
    "        \n",
    "    def enqueue(self, value):\n",
    "        new_node = Node(value)\n",
    "        if self.head is None:\n",
    "            self.head = new_node\n",
    "            self.tail = self.head\n",
    "        else:\n",
    "            self.tail.next = new_node    # add data to the next attribute of the tail (i.e. the end of the queue)\n",
    "            self.tail = self.tail.next   # shift the tail (i.e., the back of the queue)\n",
    "        self.num_elements += 1\n",
    "    \n",
    "    # TODO: Add the size method\n",
    "    def size(self):\n",
    "        return self.num_elements\n",
    "    # TODO: Add the is_empty method\n",
    "    def is_empty(self):\n",
    "        return self.num_elements == 0"
   ]
  },
  {
   "cell_type": "markdown",
   "metadata": {},
   "source": [
    "## 5. Add the `dequeue` method\n",
    "\n",
    "In the cell below, see if you can add the `deqeueue` method.\n",
    "\n",
    "Here's what it should do:\n",
    "* If the queue is empty, it should simply return `None`. Otherwise...\n",
    "* Get the value from the front of the queue (i.e., the head of the linked list)\n",
    "* Shift the `head` over so that it refers to the next node\n",
    "* Update the `num_elements` attribute\n",
    "* Return the value that was dequeued\n",
    "    "
   ]
  },
  {
   "cell_type": "code",
   "execution_count": 17,
   "metadata": {},
   "outputs": [],
   "source": [
    "class Queue:\n",
    "    \n",
    "    def __init__(self):\n",
    "        self.head = None\n",
    "        self.tail = None\n",
    "        self.num_elements = 0\n",
    "        \n",
    "    def enqueue(self, value):\n",
    "        new_node = Node(value)\n",
    "        if self.head is None:\n",
    "            self.head = new_node\n",
    "            self.tail = self.head\n",
    "        else:\n",
    "            self.tail.next = new_node    # add data to the next attribute of the tail (i.e. the end of the queue)\n",
    "            self.tail = self.tail.next   # shift the tail (i.e., the back of the queue)\n",
    "        self.num_elements += 1\n",
    "            \n",
    "    # Add the dequeue method\n",
    "    \n",
    "    def size(self):\n",
    "        return self.num_elements\n",
    "    \n",
    "    def is_empty(self):\n",
    "        return self.num_elements == 0\n",
    "        "
   ]
  },
  {
   "cell_type": "code",
   "execution_count": 18,
   "metadata": {},
   "outputs": [],
   "source": [
    "# Solutions\n",
    "\n",
    "class Queue:\n",
    "    \n",
    "    def __init__(self):\n",
    "        self.head = None\n",
    "        self.tail = None\n",
    "        self.num_elements = 0\n",
    "        \n",
    "    def enqueue(self, value):\n",
    "        new_node = Node(value)\n",
    "        if self.head is None:\n",
    "            self.head = new_node\n",
    "            self.tail = self.head\n",
    "        else:\n",
    "            self.tail.next = new_node    # add data to the next attribute of the tail (i.e. the end of the queue)\n",
    "            self.tail = self.tail.next   # shift the tail (i.e., the back of the queue)\n",
    "        self.num_elements += 1\n",
    "            \n",
    "    def dequeue(self):\n",
    "        if self.is_empty():\n",
    "            return None\n",
    "        value = self.head.value          # copy the value to a local variable\n",
    "        self.head = self.head.next       # shift the head (i.e., the front of the queue)\n",
    "        self.num_elements -= 1\n",
    "        return value\n",
    "    \n",
    "    def size(self):\n",
    "        return self.num_elements\n",
    "    \n",
    "    def is_empty(self):\n",
    "        return self.num_elements == 0\n",
    "        "
   ]
  },
  {
   "cell_type": "code",
   "execution_count": 19,
   "metadata": {},
   "outputs": [
    {
     "name": "stdout",
     "output_type": "stream",
     "text": [
      "Pass\n",
      "Pass\n",
      "Pass\n",
      "Pass\n",
      "Pass\n",
      "Pass\n"
     ]
    }
   ],
   "source": [
    "# Setup\n",
    "q = Queue()\n",
    "q.enqueue(1)\n",
    "q.enqueue(2)\n",
    "q.enqueue(3)\n",
    "\n",
    "# Test size\n",
    "print (\"Pass\" if (q.size() == 3) else \"Fail\")\n",
    "\n",
    "# Test dequeue\n",
    "print (\"Pass\" if (q.dequeue() == 1) else \"Fail\")\n",
    "\n",
    "# Test enqueue\n",
    "q.enqueue(4)\n",
    "print (\"Pass\" if (q.dequeue() == 2) else \"Fail\")\n",
    "print (\"Pass\" if (q.dequeue() == 3) else \"Fail\")\n",
    "print (\"Pass\" if (q.dequeue() == 4) else \"Fail\")\n",
    "q.enqueue(5)\n",
    "print (\"Pass\" if (q.size() == 1) else \"Fail\")"
   ]
  },
  {
   "cell_type": "markdown",
   "metadata": {},
   "source": [
    "# Build a Queue From Stacks\n",
    "\n"
   ]
  },
  {
   "cell_type": "code",
   "execution_count": 20,
   "metadata": {},
   "outputs": [
    {
     "ename": "IndentationError",
     "evalue": "expected an indented block (<ipython-input-20-a641ecb513dd>, line 23)",
     "output_type": "error",
     "traceback": [
      "\u001b[1;36m  File \u001b[1;32m\"<ipython-input-20-a641ecb513dd>\"\u001b[1;36m, line \u001b[1;32m23\u001b[0m\n\u001b[1;33m    def size(self):\u001b[0m\n\u001b[1;37m      ^\u001b[0m\n\u001b[1;31mIndentationError\u001b[0m\u001b[1;31m:\u001b[0m expected an indented block\n"
     ]
    }
   ],
   "source": [
    "# Here is our Stack Class\n",
    "\n",
    "class Stack:\n",
    "    def __init__(self):\n",
    "        self.items = []\n",
    "    \n",
    "    def size(self):\n",
    "        return len(self.items)\n",
    "    \n",
    "    def push(self, item):\n",
    "        self.items.append(item)\n",
    "\n",
    "    def pop(self):\n",
    "        if self.size()==0:\n",
    "            return None\n",
    "        else:\n",
    "            return self.items.pop()\n",
    "\n",
    "class Queue:\n",
    "    def __init__(self):\n",
    "        # Code here\n",
    "        \n",
    "    def size(self):\n",
    "         # Code here\n",
    "        \n",
    "    def enqueue(self,item):\n",
    "        # Code here\n",
    "        \n",
    "    def dequeue(self):\n",
    "        # Code here"
   ]
  },
  {
   "cell_type": "code",
   "execution_count": 21,
   "metadata": {},
   "outputs": [
    {
     "name": "stdout",
     "output_type": "stream",
     "text": [
      "Pass\n",
      "Pass\n",
      "Pass\n",
      "Pass\n",
      "Pass\n",
      "Pass\n"
     ]
    }
   ],
   "source": [
    "# Setup\n",
    "q = Queue()\n",
    "q.enqueue(1)\n",
    "q.enqueue(2)\n",
    "q.enqueue(3)\n",
    "\n",
    "# Test size\n",
    "print (\"Pass\" if (q.size() == 3) else \"Fail\")\n",
    "\n",
    "# Test dequeue\n",
    "print (\"Pass\" if (q.dequeue() == 1) else \"Fail\")\n",
    "\n",
    "# Test enqueue\n",
    "q.enqueue(4)\n",
    "print (\"Pass\" if (q.dequeue() == 2) else \"Fail\")\n",
    "print (\"Pass\" if (q.dequeue() == 3) else \"Fail\")\n",
    "print (\"Pass\" if (q.dequeue() == 4) else \"Fail\")\n",
    "q.enqueue(5)\n",
    "print (\"Pass\" if (q.size() == 1) else \"Fail\")"
   ]
  },
  {
   "cell_type": "code",
   "execution_count": 22,
   "metadata": {},
   "outputs": [
    {
     "name": "stdout",
     "output_type": "stream",
     "text": [
      "Pass\n",
      "Pass\n",
      "Pass\n",
      "Pass\n",
      "Pass\n",
      "Pass\n"
     ]
    }
   ],
   "source": [
    "# Solution \n",
    "\n",
    "# Here is our Stack Class\n",
    "\n",
    "class Stack:\n",
    "    def __init__(self):\n",
    "        self.items = []\n",
    "    \n",
    "    def size(self):\n",
    "        return len(self.items)\n",
    "    \n",
    "    def push(self, item):\n",
    "        self.items.append(item)\n",
    "\n",
    "    def pop(self):\n",
    "        if self.size()==0:\n",
    "            return None\n",
    "        else:\n",
    "            return self.items.pop()\n",
    "\n",
    "class Queue:\n",
    "    def __init__(self):\n",
    "        self.instorage=Stack()\n",
    "        self.outstorage=Stack()\n",
    "        \n",
    "    def size(self):\n",
    "         return self.outstorage.size() + self.instorage.size()\n",
    "        \n",
    "    def enqueue(self,item):\n",
    "        self.instorage.push(item)\n",
    "        \n",
    "    def dequeue(self):\n",
    "        if not self.outstorage.items:\n",
    "            while self.instorage.items:\n",
    "                self.outstorage.push(self.instorage.pop())\n",
    "        return self.outstorage.pop()\n",
    "    \n",
    "        \n",
    "# Setup\n",
    "q = Queue()\n",
    "q.enqueue(1)\n",
    "q.enqueue(2)\n",
    "q.enqueue(3)\n",
    "\n",
    "# Test size\n",
    "print (\"Pass\" if (q.size() == 3) else \"Fail\")\n",
    "\n",
    "# Test dequeue\n",
    "print (\"Pass\" if (q.dequeue() == 1) else \"Fail\")\n",
    "\n",
    "# Test enqueue\n",
    "q.enqueue(4)\n",
    "print (\"Pass\" if (q.dequeue() == 2) else \"Fail\")\n",
    "print (\"Pass\" if (q.dequeue() == 3) else \"Fail\")\n",
    "print (\"Pass\" if (q.dequeue() == 4) else \"Fail\")\n",
    "q.enqueue(5)\n",
    "print (\"Pass\" if (q.size() == 1) else \"Fail\") \n"
   ]
  },
  {
   "cell_type": "markdown",
   "metadata": {},
   "source": [
    "# Building a Queue in Python\n",
    "\n",
    "Before we start let us reiterate the key components of a queue.\n",
    "\n",
    "A queue is a data structure that consists of two main operations: enqueue and dequeue. \n",
    "\n",
    "Enqueue is when you add a element to the tail of the queue and a pop is when you remove an element from the head of the queue. \n",
    "\n",
    "Python 3.x conviently allows us to demonstate this functionality with a list. When you have a list such as [2,4,5,6] you can decide which end of the list is the front and the back of the queue respectively.\n",
    "\n",
    "Once you decide that, you can use the append, pop or insert function to simulate a queue.\n",
    "\n",
    "We will choose the first element to be the front of our queue and therefore be using the append and pop functions to simulate it. Give it a try by implementing the function below!"
   ]
  },
  {
   "cell_type": "code",
   "execution_count": 23,
   "metadata": {},
   "outputs": [
    {
     "ename": "IndentationError",
     "evalue": "expected an indented block (<ipython-input-23-b0de3aadebf2>, line 5)",
     "output_type": "error",
     "traceback": [
      "\u001b[1;36m  File \u001b[1;32m\"<ipython-input-23-b0de3aadebf2>\"\u001b[1;36m, line \u001b[1;32m5\u001b[0m\n\u001b[1;33m    def size(self):\u001b[0m\n\u001b[1;37m      ^\u001b[0m\n\u001b[1;31mIndentationError\u001b[0m\u001b[1;31m:\u001b[0m expected an indented block\n"
     ]
    }
   ],
   "source": [
    "class Queue:\n",
    "    def __init__(self):\n",
    "         # TODO: Initialize the Queue\n",
    "    \n",
    "    def size(self):\n",
    "         # TODO: Check the size of the Queue\n",
    "    \n",
    "    def enqueue(self, item):\n",
    "         # TODO: Enter item into Queue\n",
    "\n",
    "    def dequeue(self):\n",
    "         # TODO: Remove item from the Queue"
   ]
  },
  {
   "cell_type": "code",
   "execution_count": 24,
   "metadata": {},
   "outputs": [
    {
     "name": "stdout",
     "output_type": "stream",
     "text": [
      "Pass\n",
      "Pass\n",
      "Pass\n",
      "Pass\n",
      "Pass\n",
      "Pass\n"
     ]
    }
   ],
   "source": [
    "# Setup\n",
    "q = Queue()\n",
    "q.enqueue(1)\n",
    "q.enqueue(2)\n",
    "q.enqueue(3)\n",
    "\n",
    "# Test size\n",
    "print (\"Pass\" if (q.size() == 3) else \"Fail\")\n",
    "\n",
    "# Test dequeue\n",
    "print (\"Pass\" if (q.dequeue() == 1) else \"Fail\")\n",
    "\n",
    "# Test enqueue\n",
    "q.enqueue(4)\n",
    "print (\"Pass\" if (q.dequeue() == 2) else \"Fail\")\n",
    "print (\"Pass\" if (q.dequeue() == 3) else \"Fail\")\n",
    "print (\"Pass\" if (q.dequeue() == 4) else \"Fail\")\n",
    "q.enqueue(5)\n",
    "print (\"Pass\" if (q.size() == 1) else \"Fail\")"
   ]
  },
  {
   "cell_type": "code",
   "execution_count": 25,
   "metadata": {},
   "outputs": [
    {
     "name": "stdout",
     "output_type": "stream",
     "text": [
      "Pass\n",
      "Pass\n",
      "Pass\n",
      "Pass\n",
      "Pass\n",
      "Pass\n"
     ]
    }
   ],
   "source": [
    "# Solution \n",
    "\n",
    "class Queue:\n",
    "    def __init__(self):\n",
    "         self.storage = []\n",
    "    \n",
    "    def size(self):\n",
    "         return len(self.storage)\n",
    "    \n",
    "    def enqueue(self, item):\n",
    "         self.storage.append(item)\n",
    "\n",
    "    def dequeue(self):\n",
    "         return self.storage.pop(0)\n",
    "\n",
    "        \n",
    "# Setup\n",
    "q = Queue()\n",
    "q.enqueue(1)\n",
    "q.enqueue(2)\n",
    "q.enqueue(3)\n",
    "\n",
    "# Test size\n",
    "print (\"Pass\" if (q.size() == 3) else \"Fail\")\n",
    "\n",
    "# Test dequeue\n",
    "print (\"Pass\" if (q.dequeue() == 1) else \"Fail\")\n",
    "\n",
    "# Test enqueue\n",
    "q.enqueue(4)\n",
    "print (\"Pass\" if (q.dequeue() == 2) else \"Fail\")\n",
    "print (\"Pass\" if (q.dequeue() == 3) else \"Fail\")\n",
    "print (\"Pass\" if (q.dequeue() == 4) else \"Fail\")\n",
    "q.enqueue(5)\n",
    "print (\"Pass\" if (q.size() == 1) else \"Fail\")\n"
   ]
  },
  {
   "cell_type": "code",
   "execution_count": null,
   "metadata": {},
   "outputs": [],
   "source": []
  }
 ],
 "metadata": {
  "kernelspec": {
   "display_name": "Python 3",
   "language": "python",
   "name": "python3"
  },
  "language_info": {
   "codemirror_mode": {
    "name": "ipython",
    "version": 3
   },
   "file_extension": ".py",
   "mimetype": "text/x-python",
   "name": "python",
   "nbconvert_exporter": "python",
   "pygments_lexer": "ipython3",
   "version": "3.7.3"
  }
 },
 "nbformat": 4,
 "nbformat_minor": 2
}
